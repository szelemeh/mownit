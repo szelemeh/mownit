{
 "cells": [
  {
   "cell_type": "markdown",
   "metadata": {},
   "source": [
    "# MOwNiT \n",
    "## Laboratorium\n",
    "### Faktoryzacja\n",
    "### Shelemekh Stanislav"
   ]
  },
  {
   "cell_type": "markdown",
   "metadata": {},
   "source": [
    "## Zadanie 1\n",
    "Ustal losowe (referencyjne) x rozmiaru 1000 oraz losowe A rozmiaru 1000x1000, policz b=A*x.\n",
    "Nastepnie rozwiąż równanie Ax=b trzema metodami:\n",
    "- inv()\n",
    "- \\\n",
    "- factorize()\n",
    "\n",
    "Porównaj jakość wyniku (zmierzoną jako długość różnicy wektorów wyniku oraz referencyjnego x) oraz czas wykonania (@time). UWAGA: pierwsze wykonanie funkcji w Julii zawiera czas kompilacji tej funkcji, dlatego czas mierzymy  od drugiego wywołania !"
   ]
  },
  {
   "cell_type": "code",
   "execution_count": 349,
   "metadata": {},
   "outputs": [],
   "source": [
    "using(LinearAlgebra)"
   ]
  },
  {
   "cell_type": "markdown",
   "metadata": {},
   "source": [
    "### Przygotowanie danych"
   ]
  },
  {
   "cell_type": "code",
   "execution_count": 350,
   "metadata": {},
   "outputs": [
    {
     "data": {
      "text/plain": [
       "1000×1000 Array{Float64,2}:\n",
       " 0.96859    0.868805   0.802759    …  0.376116   0.367765   0.661337\n",
       " 0.693499   0.969374   0.585716       0.952629   0.637781   0.342253\n",
       " 0.323582   0.297014   0.295378       0.845474   0.648378   0.60749\n",
       " 0.244715   0.336888   0.0662849      0.936802   0.955588   0.63504\n",
       " 0.285961   0.0386992  0.272388       0.117848   0.0425625  0.241371\n",
       " 0.160874   0.427434   0.502481    …  0.197888   0.607278   0.865902\n",
       " 0.663444   0.311863   0.762481       0.828889   0.896952   0.384908\n",
       " 0.647214   0.248499   0.961075       0.854536   0.77821    0.885477\n",
       " 0.647228   0.583445   0.0864624      0.0757762  0.84852    0.333577\n",
       " 0.54985    0.218836   0.905903       0.832056   0.635504   0.115673\n",
       " 0.0342428  0.349285   0.575399    …  0.856018   0.473354   0.394493\n",
       " 0.497436   0.437704   0.617528       0.925327   0.906167   0.580206\n",
       " 0.683064   0.874876   0.894328       0.199634   0.33494    0.874304\n",
       " ⋮                                 ⋱                        \n",
       " 0.471996   0.57171    0.266019       0.55004    0.272942   0.630775\n",
       " 0.284999   0.435419   0.606665       0.851885   0.0889891  0.973322\n",
       " 0.0631838  0.266813   0.727415    …  0.496628   0.832125   0.241109\n",
       " 0.447365   0.371834   0.148718       0.160702   0.641574   0.598786\n",
       " 0.596698   0.710908   0.763948       0.681719   0.880919   0.176317\n",
       " 0.145888   0.227379   0.225679       0.493066   0.30504    0.802795\n",
       " 0.626416   0.170556   0.41122        0.371255   0.6082     0.0852277\n",
       " 0.990524   0.485194   0.00427076  …  0.503943   0.284689   0.108294\n",
       " 0.890261   0.93458    0.276513       0.458347   0.256818   0.991927\n",
       " 0.0856668  0.356496   0.25408        0.293527   0.496179   0.828398\n",
       " 0.886337   0.440074   0.377484       0.217432   0.69342    0.0705674\n",
       " 0.252945   0.818755   0.350803       0.189065   0.839793   0.0131587"
      ]
     },
     "execution_count": 350,
     "metadata": {},
     "output_type": "execute_result"
    }
   ],
   "source": [
    "# ustalam referencyjne x rozmiaru 1000 oraz A rozmiaru 1000x1000\n",
    "x = rand(1000)\n",
    "A = rand(1000, 1000)"
   ]
  },
  {
   "cell_type": "code",
   "execution_count": 351,
   "metadata": {},
   "outputs": [
    {
     "data": {
      "text/plain": [
       "1000-element Array{Float64,1}:\n",
       " 246.98824604604064\n",
       " 255.51898900734525\n",
       " 253.41454448966815\n",
       " 257.35069160311315\n",
       " 257.9246266998723\n",
       " 260.5223500146211\n",
       " 253.52912000749097\n",
       " 255.75051079083363\n",
       " 252.9142678285113\n",
       " 251.85823179119203\n",
       " 256.270503742228\n",
       " 250.81696711745965\n",
       " 251.19595309939004\n",
       "   ⋮\n",
       " 267.1262429701647\n",
       " 256.0529724057077\n",
       " 250.9291445212842\n",
       " 248.44585351693664\n",
       " 253.58830115977685\n",
       " 247.04566797691848\n",
       " 247.39679236877066\n",
       " 259.534912784701\n",
       " 248.35719996778872\n",
       " 256.9608653617345\n",
       " 241.1523589097157\n",
       " 251.4277683369316"
      ]
     },
     "execution_count": 351,
     "metadata": {},
     "output_type": "execute_result"
    }
   ],
   "source": [
    "# liczę b=A*x\n",
    "b = A * x"
   ]
  },
  {
   "cell_type": "markdown",
   "metadata": {},
   "source": [
    "### Pomocnicza funkcja"
   ]
  },
  {
   "cell_type": "code",
   "execution_count": 352,
   "metadata": {},
   "outputs": [
    {
     "data": {
      "text/plain": [
       "print_result (generic function with 2 methods)"
      ]
     },
     "execution_count": 352,
     "metadata": {},
     "output_type": "execute_result"
    }
   ],
   "source": [
    "function print_result(time, diff=\"\")\n",
    "    print(\"Czas wykonania: \", time)\n",
    "    if (diff != \"\")\n",
    "        print(\". Niedokładność: \", diff)\n",
    "    end\n",
    "end"
   ]
  },
  {
   "cell_type": "markdown",
   "metadata": {},
   "source": [
    "### Pierwsza metoda: wykorzystanie funkcji inv()"
   ]
  },
  {
   "cell_type": "code",
   "execution_count": 353,
   "metadata": {},
   "outputs": [
    {
     "name": "stdout",
     "output_type": "stream",
     "text": [
      "Czas wykonania: 0.076426186. Niedokładność: 5.752031994051315e-10"
     ]
    }
   ],
   "source": [
    "inv(A) * b  # kompilowanie\n",
    "inv_time = @elapsed inv_x = inv(A) * b # faktyczne liczenie czasu\n",
    "diff_vec = x - inv_x\n",
    "inv_err = sqrt(dot(diff_vec, diff_vec))\n",
    "print_result(inv_time, inv_err)\n"
   ]
  },
  {
   "cell_type": "markdown",
   "metadata": {},
   "source": [
    "### Druga metoda: wykorzystanie operatora '\\\\'"
   ]
  },
  {
   "cell_type": "code",
   "execution_count": 354,
   "metadata": {},
   "outputs": [
    {
     "name": "stdout",
     "output_type": "stream",
     "text": [
      "Czas wykonania: 0.027024474. Niedokładność: 1.9643231068435593e-10"
     ]
    }
   ],
   "source": [
    "A \\ b  # kompiliwanie\n",
    "slash_time = @elapsed slash_x = A \\ b # faktyczne liczenie czasu\n",
    "diff_vec = x - slash_x\n",
    "slash_err = sqrt(dot(diff_vec, diff_vec))\n",
    "print_result(slash_time, slash_err)"
   ]
  },
  {
   "cell_type": "markdown",
   "metadata": {},
   "source": [
    "### Trzecia metoda: wykorzystanie funkcji factorize()"
   ]
  },
  {
   "cell_type": "code",
   "execution_count": 355,
   "metadata": {},
   "outputs": [
    {
     "name": "stdout",
     "output_type": "stream",
     "text": [
      "Czas wykonania: 0.000960434. Niedokładność: 1.9643231068435593e-10"
     ]
    }
   ],
   "source": [
    "Af = factorize(A)\n",
    "Af \\ b  # kompiliwanie\n",
    "fact_time = @elapsed fact_x = Af \\ b # faktyczne liczenie czasu\n",
    "diff_vec = x - fact_x\n",
    "fact_err = sqrt(dot(diff_vec, diff_vec))\n",
    "print_result(fact_time, fact_err)"
   ]
  },
  {
   "cell_type": "markdown",
   "metadata": {},
   "source": [
    "### Wnioski do zadania 1"
   ]
  },
  {
   "cell_type": "markdown",
   "metadata": {},
   "source": [
    "- Jak widzimy, metoda korzystająca z funkcji inv() jest najwolniejsza i do tego ma najniższą jakość wyniku.\n",
    "- Operator '\\\\' jest zoptymalizowany prz konkretnych typach macierzy (np. trójkątna) dlatego działa szybciej i z mniejszym błędem.\n",
    "- Faktoryzowanie macierzy jeszcze bardziej przyspiesza znalezienie wyniku dlatego, że operator '\\\\' w swojej implementacji sprawdza A i jeżeli nie jest trójkątna, to faktoryzuje ją."
   ]
  },
  {
   "cell_type": "markdown",
   "metadata": {},
   "source": [
    "## Zadanie 2\n",
    "Policz współczynniki wielomianu aproksymującego dowolne dane z poprzednich laboratoriów tworząc wprost układ równań i rozwiązujac go (metoda zaprezentowana na tym laboratorium).\n",
    "Porównaj wyniki z tymi otrzymanymi poprzednio."
   ]
  },
  {
   "cell_type": "code",
   "execution_count": 356,
   "metadata": {},
   "outputs": [],
   "source": [
    "using PrettyTables\n",
    "using DataFrames\n",
    "using CSV"
   ]
  },
  {
   "cell_type": "markdown",
   "metadata": {},
   "source": [
    "Wykorzystane dane opisują czas mnożenia wektora przez wektor zależnie od rozmiaru."
   ]
  },
  {
   "cell_type": "code",
   "execution_count": 357,
   "metadata": {},
   "outputs": [
    {
     "name": "stdout",
     "output_type": "stream",
     "text": [
      "┌\u001b[0m────────\u001b[0m┬\u001b[0m─────────\u001b[0m┬\u001b[0m──────────────\u001b[0m┐\u001b[0m\n",
      "│\u001b[0m\u001b[1m   size \u001b[0m│\u001b[0m\u001b[1m    time \u001b[0m│\u001b[0m\u001b[1m only_vectors \u001b[0m│\u001b[0m\n",
      "│\u001b[0m\u001b[90m  Int64 \u001b[0m│\u001b[0m\u001b[90m Float64 \u001b[0m│\u001b[0m\u001b[90m        Int64 \u001b[0m│\u001b[0m\n",
      "├\u001b[0m────────\u001b[0m┼\u001b[0m─────────\u001b[0m┼\u001b[0m──────────────\u001b[0m┤\u001b[0m\n",
      "│\u001b[0m 790000 \u001b[0m│\u001b[0m    0.05 \u001b[0m│\u001b[0m            1 \u001b[0m│\u001b[0m\n",
      "│\u001b[0m 810000 \u001b[0m│\u001b[0m    0.05 \u001b[0m│\u001b[0m            1 \u001b[0m│\u001b[0m\n",
      "│\u001b[0m 810000 \u001b[0m│\u001b[0m    0.05 \u001b[0m│\u001b[0m            1 \u001b[0m│\u001b[0m\n",
      "│\u001b[0m 810000 \u001b[0m│\u001b[0m    0.05 \u001b[0m│\u001b[0m            1 \u001b[0m│\u001b[0m\n",
      "│\u001b[0m 810000 \u001b[0m│\u001b[0m    0.04 \u001b[0m│\u001b[0m            1 \u001b[0m│\u001b[0m\n",
      "│\u001b[0m 810000 \u001b[0m│\u001b[0m    0.05 \u001b[0m│\u001b[0m            1 \u001b[0m│\u001b[0m\n",
      "│\u001b[0m 810000 \u001b[0m│\u001b[0m    0.05 \u001b[0m│\u001b[0m            1 \u001b[0m│\u001b[0m\n",
      "│\u001b[0m 810000 \u001b[0m│\u001b[0m    0.05 \u001b[0m│\u001b[0m            1 \u001b[0m│\u001b[0m\n",
      "│\u001b[0m 810000 \u001b[0m│\u001b[0m    0.07 \u001b[0m│\u001b[0m            1 \u001b[0m│\u001b[0m\n",
      "│\u001b[0m 810000 \u001b[0m│\u001b[0m    0.06 \u001b[0m│\u001b[0m            1 \u001b[0m│\u001b[0m\n",
      "│\u001b[0m 810000 \u001b[0m│\u001b[0m    0.04 \u001b[0m│\u001b[0m            1 \u001b[0m│\u001b[0m\n",
      "│\u001b[0m 830000 \u001b[0m│\u001b[0m    0.05 \u001b[0m│\u001b[0m            1 \u001b[0m│\u001b[0m\n",
      "│\u001b[0m 830000 \u001b[0m│\u001b[0m    0.05 \u001b[0m│\u001b[0m            1 \u001b[0m│\u001b[0m\n",
      "│\u001b[0m 830000 \u001b[0m│\u001b[0m    0.07 \u001b[0m│\u001b[0m            1 \u001b[0m│\u001b[0m\n",
      "│\u001b[0m 830000 \u001b[0m│\u001b[0m    0.05 \u001b[0m│\u001b[0m            1 \u001b[0m│\u001b[0m\n",
      "│\u001b[0m 830000 \u001b[0m│\u001b[0m    0.05 \u001b[0m│\u001b[0m            1 \u001b[0m│\u001b[0m\n",
      "│\u001b[0m 830000 \u001b[0m│\u001b[0m    0.06 \u001b[0m│\u001b[0m            1 \u001b[0m│\u001b[0m\n",
      "│\u001b[0m 830000 \u001b[0m│\u001b[0m    0.05 \u001b[0m│\u001b[0m            1 \u001b[0m│\u001b[0m\n",
      "│\u001b[0m 830000 \u001b[0m│\u001b[0m    0.05 \u001b[0m│\u001b[0m            1 \u001b[0m│\u001b[0m\n",
      "│\u001b[0m 830000 \u001b[0m│\u001b[0m    0.04 \u001b[0m│\u001b[0m            1 \u001b[0m│\u001b[0m\n",
      "│\u001b[0m 830000 \u001b[0m│\u001b[0m    0.06 \u001b[0m│\u001b[0m            1 \u001b[0m│\u001b[0m\n",
      "│\u001b[0m   ⋮    \u001b[0m│\u001b[0m    ⋮    \u001b[0m│\u001b[0m      ⋮       \u001b[0m│\u001b[0m\n",
      "└\u001b[0m────────\u001b[0m┴\u001b[0m─────────\u001b[0m┴\u001b[0m──────────────\u001b[0m┘\u001b[0m\n"
     ]
    }
   ],
   "source": [
    "df=CSV.File(\"data.csv\", delim=\",\")\n",
    "pretty_table(df)"
   ]
  },
  {
   "cell_type": "code",
   "execution_count": 358,
   "metadata": {},
   "outputs": [
    {
     "data": {
      "text/plain": [
       "101×3 Array{Float64,2}:\n",
       " 6.241e11  790000.0  1.0\n",
       " 6.561e11  810000.0  1.0\n",
       " 6.561e11  810000.0  1.0\n",
       " 6.561e11  810000.0  1.0\n",
       " 6.561e11  810000.0  1.0\n",
       " 6.561e11  810000.0  1.0\n",
       " 6.561e11  810000.0  1.0\n",
       " 6.561e11  810000.0  1.0\n",
       " 6.561e11  810000.0  1.0\n",
       " 6.561e11  810000.0  1.0\n",
       " 6.561e11  810000.0  1.0\n",
       " 6.889e11  830000.0  1.0\n",
       " 6.889e11  830000.0  1.0\n",
       " ⋮                   \n",
       " 9.409e11  970000.0  1.0\n",
       " 9.409e11  970000.0  1.0\n",
       " 9.801e11  990000.0  1.0\n",
       " 9.801e11  990000.0  1.0\n",
       " 9.801e11  990000.0  1.0\n",
       " 9.801e11  990000.0  1.0\n",
       " 9.801e11  990000.0  1.0\n",
       " 9.801e11  990000.0  1.0\n",
       " 9.801e11  990000.0  1.0\n",
       " 9.801e11  990000.0  1.0\n",
       " 9.801e11  990000.0  1.0\n",
       " 9.801e11  990000.0  1.0"
      ]
     },
     "execution_count": 358,
     "metadata": {},
     "output_type": "execute_result"
    }
   ],
   "source": [
    "# Tworzymy macierz\n",
    "xs = append!(Array{Int64,1}(), df.size)\n",
    "ys = append!(Array{Float64,1}(), df.time)\n",
    "A = zeros(length(xs), 3)\n",
    "A[:,1]=xs.^2\n",
    "A[:,2]=xs\n",
    "A[:,3]=ones(length(xs))\n",
    "A"
   ]
  },
  {
   "cell_type": "code",
   "execution_count": 359,
   "metadata": {},
   "outputs": [
    {
     "data": {
      "text/plain": [
       "QRPivoted{Float64,Array{Float64,2}}\n",
       "Q factor:\n",
       "101×101 LinearAlgebra.QRPackedQ{Float64,Array{Float64,2}}:\n",
       " -0.0759039  -0.181069  -0.288054   -0.113011     …  -0.129104    -0.129104\n",
       " -0.0797958  -0.154734  -0.156181   -0.149001         0.162304     0.162304\n",
       " -0.0797958  -0.154734  -0.156181   -0.143917        -0.131575    -0.131575\n",
       " -0.0797958  -0.154734  -0.156181    0.961729        -0.0034318   -0.0034318\n",
       " -0.0797958  -0.154734  -0.156181   -0.0382712       -0.0034318   -0.0034318\n",
       " -0.0797958  -0.154734  -0.156181   -0.0382712    …  -0.0034318   -0.0034318\n",
       " -0.0797958  -0.154734  -0.156181   -0.0382712       -0.0034318   -0.0034318\n",
       " -0.0797958  -0.154734  -0.156181   -0.0382712       -0.0034318   -0.0034318\n",
       " -0.0797958  -0.154734  -0.156181   -0.0382712       -0.0034318   -0.0034318\n",
       " -0.0797958  -0.154734  -0.156181   -0.0382712       -0.0034318   -0.0034318\n",
       " -0.0797958  -0.154734  -0.156181   -0.0382712    …  -0.0034318   -0.0034318\n",
       " -0.083785   -0.126873  -0.0506555  -0.0242696        0.00501986   0.00501986\n",
       " -0.083785   -0.126873  -0.0506555  -0.0242696        0.00501986   0.00501986\n",
       "  ⋮                                               ⋱                ⋮\n",
       " -0.114434    0.11091   -0.049729    0.000376705     -0.0377515   -0.0377515\n",
       " -0.114434    0.11091   -0.049729    0.000376705  …  -0.0377515   -0.0377515\n",
       " -0.119201    0.150986  -0.15499    -0.00658306      -0.0584235   -0.0584235\n",
       " -0.119201    0.150986  -0.15499    -0.00658306      -0.0584235   -0.0584235\n",
       " -0.119201    0.150986  -0.15499    -0.00658306      -0.0584235   -0.0584235\n",
       " -0.119201    0.150986  -0.15499    -0.00658306      -0.0584235   -0.0584235\n",
       " -0.119201    0.150986  -0.15499    -0.00658306   …  -0.0584235   -0.0584235\n",
       " -0.119201    0.150986  -0.15499    -0.00658306      -0.0584235   -0.0584235\n",
       " -0.119201    0.150986  -0.15499    -0.00658306      -0.0584235   -0.0584235\n",
       " -0.119201    0.150986  -0.15499    -0.00658306      -0.0584235   -0.0584235\n",
       " -0.119201    0.150986  -0.15499    -0.00658306       0.941576    -0.0584235\n",
       " -0.119201    0.150986  -0.15499    -0.00658306   …  -0.0584235    0.941576\n",
       "R factor:\n",
       "3×3 Array{Float64,2}:\n",
       " -8.22224e12       -9.03453e6  -9.96737\n",
       "  0.0         -575716.0        -1.28458\n",
       "  0.0               0.0        -0.0376331\n",
       "permutation:\n",
       "3-element Array{Int64,1}:\n",
       " 1\n",
       " 2\n",
       " 3"
      ]
     },
     "execution_count": 359,
     "metadata": {},
     "output_type": "execute_result"
    }
   ],
   "source": [
    "# Faktoryzacja macierzy\n",
    "AF = factorize(A)"
   ]
  },
  {
   "cell_type": "code",
   "execution_count": 360,
   "metadata": {},
   "outputs": [
    {
     "name": "stdout",
     "output_type": "stream",
     "text": [
      "Czas wykonania: 0.039655658"
     ]
    }
   ],
   "source": [
    "AF.R\\((Transpose(AF.Q) * ys)[1:3])\n",
    "time = @elapsed appr = AF.R\\((Transpose(AF.Q) * ys)[1:3])\n",
    "print_result(time)"
   ]
  },
  {
   "cell_type": "code",
   "execution_count": 361,
   "metadata": {},
   "outputs": [
    {
     "data": {
      "text/plain": [
       "fun (generic function with 1 method)"
      ]
     },
     "execution_count": 361,
     "metadata": {},
     "output_type": "execute_result"
    }
   ],
   "source": [
    "fun(x) = appr[1]*x^2 + appr[2]x + appr[3]"
   ]
  },
  {
   "cell_type": "markdown",
   "metadata": {},
   "source": [
    "Przykładowe wywołanie"
   ]
  },
  {
   "cell_type": "code",
   "execution_count": 362,
   "metadata": {},
   "outputs": [
    {
     "data": {
      "text/plain": [
       "0.060558764807666435"
      ]
     },
     "execution_count": 362,
     "metadata": {},
     "output_type": "execute_result"
    }
   ],
   "source": [
    "fun(990000)"
   ]
  },
  {
   "cell_type": "code",
   "execution_count": 363,
   "metadata": {},
   "outputs": [
    {
     "data": {
      "image/svg+xml": [
       "<?xml version=\"1.0\" encoding=\"utf-8\"?>\n",
       "<svg xmlns=\"http://www.w3.org/2000/svg\" xmlns:xlink=\"http://www.w3.org/1999/xlink\" width=\"600\" height=\"400\" viewBox=\"0 0 2400 1600\">\n",
       "<defs>\n",
       "  <clipPath id=\"clip4900\">\n",
       "    <rect x=\"0\" y=\"0\" width=\"2400\" height=\"1600\"/>\n",
       "  </clipPath>\n",
       "</defs>\n",
       "<path clip-path=\"url(#clip4900)\" d=\"\n",
       "M0 1600 L2400 1600 L2400 0 L0 0  Z\n",
       "  \" fill=\"#ffffff\" fill-rule=\"evenodd\" fill-opacity=\"1\"/>\n",
       "<defs>\n",
       "  <clipPath id=\"clip4901\">\n",
       "    <rect x=\"480\" y=\"0\" width=\"1681\" height=\"1600\"/>\n",
       "  </clipPath>\n",
       "</defs>\n",
       "<path clip-path=\"url(#clip4900)\" d=\"\n",
       "M235.533 1487.47 L2352.76 1487.47 L2352.76 121.675 L235.533 121.675  Z\n",
       "  \" fill=\"#ffffff\" fill-rule=\"evenodd\" fill-opacity=\"1\"/>\n",
       "<defs>\n",
       "  <clipPath id=\"clip4902\">\n",
       "    <rect x=\"235\" y=\"121\" width=\"2118\" height=\"1367\"/>\n",
       "  </clipPath>\n",
       "</defs>\n",
       "<polyline clip-path=\"url(#clip4902)\" style=\"stroke:#000000; stroke-width:2; stroke-opacity:0.1; fill:none\" points=\"\n",
       "  295.454,1487.47 295.454,121.675 \n",
       "  \"/>\n",
       "<polyline clip-path=\"url(#clip4902)\" style=\"stroke:#000000; stroke-width:2; stroke-opacity:0.1; fill:none\" points=\"\n",
       "  794.799,1487.47 794.799,121.675 \n",
       "  \"/>\n",
       "<polyline clip-path=\"url(#clip4902)\" style=\"stroke:#000000; stroke-width:2; stroke-opacity:0.1; fill:none\" points=\"\n",
       "  1294.14,1487.47 1294.14,121.675 \n",
       "  \"/>\n",
       "<polyline clip-path=\"url(#clip4902)\" style=\"stroke:#000000; stroke-width:2; stroke-opacity:0.1; fill:none\" points=\"\n",
       "  1793.49,1487.47 1793.49,121.675 \n",
       "  \"/>\n",
       "<polyline clip-path=\"url(#clip4902)\" style=\"stroke:#000000; stroke-width:2; stroke-opacity:0.1; fill:none\" points=\"\n",
       "  2292.83,1487.47 2292.83,121.675 \n",
       "  \"/>\n",
       "<polyline clip-path=\"url(#clip4902)\" style=\"stroke:#000000; stroke-width:2; stroke-opacity:0.1; fill:none\" points=\"\n",
       "  235.533,1245.45 2352.76,1245.45 \n",
       "  \"/>\n",
       "<polyline clip-path=\"url(#clip4902)\" style=\"stroke:#000000; stroke-width:2; stroke-opacity:0.1; fill:none\" points=\"\n",
       "  235.533,1000.88 2352.76,1000.88 \n",
       "  \"/>\n",
       "<polyline clip-path=\"url(#clip4902)\" style=\"stroke:#000000; stroke-width:2; stroke-opacity:0.1; fill:none\" points=\"\n",
       "  235.533,756.311 2352.76,756.311 \n",
       "  \"/>\n",
       "<polyline clip-path=\"url(#clip4902)\" style=\"stroke:#000000; stroke-width:2; stroke-opacity:0.1; fill:none\" points=\"\n",
       "  235.533,511.742 2352.76,511.742 \n",
       "  \"/>\n",
       "<polyline clip-path=\"url(#clip4902)\" style=\"stroke:#000000; stroke-width:2; stroke-opacity:0.1; fill:none\" points=\"\n",
       "  235.533,267.173 2352.76,267.173 \n",
       "  \"/>\n",
       "<polyline clip-path=\"url(#clip4900)\" style=\"stroke:#000000; stroke-width:4; stroke-opacity:1; fill:none\" points=\"\n",
       "  235.533,1487.47 2352.76,1487.47 \n",
       "  \"/>\n",
       "<polyline clip-path=\"url(#clip4900)\" style=\"stroke:#000000; stroke-width:4; stroke-opacity:1; fill:none\" points=\"\n",
       "  235.533,1487.47 235.533,121.675 \n",
       "  \"/>\n",
       "<polyline clip-path=\"url(#clip4900)\" style=\"stroke:#000000; stroke-width:4; stroke-opacity:1; fill:none\" points=\"\n",
       "  295.454,1487.47 295.454,1471.09 \n",
       "  \"/>\n",
       "<polyline clip-path=\"url(#clip4900)\" style=\"stroke:#000000; stroke-width:4; stroke-opacity:1; fill:none\" points=\"\n",
       "  794.799,1487.47 794.799,1471.09 \n",
       "  \"/>\n",
       "<polyline clip-path=\"url(#clip4900)\" style=\"stroke:#000000; stroke-width:4; stroke-opacity:1; fill:none\" points=\"\n",
       "  1294.14,1487.47 1294.14,1471.09 \n",
       "  \"/>\n",
       "<polyline clip-path=\"url(#clip4900)\" style=\"stroke:#000000; stroke-width:4; stroke-opacity:1; fill:none\" points=\"\n",
       "  1793.49,1487.47 1793.49,1471.09 \n",
       "  \"/>\n",
       "<polyline clip-path=\"url(#clip4900)\" style=\"stroke:#000000; stroke-width:4; stroke-opacity:1; fill:none\" points=\"\n",
       "  2292.83,1487.47 2292.83,1471.09 \n",
       "  \"/>\n",
       "<polyline clip-path=\"url(#clip4900)\" style=\"stroke:#000000; stroke-width:4; stroke-opacity:1; fill:none\" points=\"\n",
       "  235.533,1245.45 260.939,1245.45 \n",
       "  \"/>\n",
       "<polyline clip-path=\"url(#clip4900)\" style=\"stroke:#000000; stroke-width:4; stroke-opacity:1; fill:none\" points=\"\n",
       "  235.533,1000.88 260.939,1000.88 \n",
       "  \"/>\n",
       "<polyline clip-path=\"url(#clip4900)\" style=\"stroke:#000000; stroke-width:4; stroke-opacity:1; fill:none\" points=\"\n",
       "  235.533,756.311 260.939,756.311 \n",
       "  \"/>\n",
       "<polyline clip-path=\"url(#clip4900)\" style=\"stroke:#000000; stroke-width:4; stroke-opacity:1; fill:none\" points=\"\n",
       "  235.533,511.742 260.939,511.742 \n",
       "  \"/>\n",
       "<polyline clip-path=\"url(#clip4900)\" style=\"stroke:#000000; stroke-width:4; stroke-opacity:1; fill:none\" points=\"\n",
       "  235.533,267.173 260.939,267.173 \n",
       "  \"/>\n",
       "<g clip-path=\"url(#clip4900)\">\n",
       "<text style=\"fill:#000000; fill-opacity:1; font-family:Arial,Helvetica Neue,Helvetica,sans-serif; font-size:48px; text-anchor:middle;\" transform=\"rotate(0, 295.454, 1541.47)\" x=\"295.454\" y=\"1541.47\">0</text>\n",
       "</g>\n",
       "<g clip-path=\"url(#clip4900)\">\n",
       "<text style=\"fill:#000000; fill-opacity:1; font-family:Arial,Helvetica Neue,Helvetica,sans-serif; font-size:48px; text-anchor:start;\" transform=\"rotate(0, 709.657, 1562.48)\" x=\"709.657\" y=\"1562.48\">2.5×10</text>\n",
       "</g>\n",
       "<g clip-path=\"url(#clip4900)\">\n",
       "<text style=\"fill:#000000; fill-opacity:1; font-family:Arial,Helvetica Neue,Helvetica,sans-serif; font-size:38px; text-anchor:start;\" transform=\"rotate(0, 858.197, 1535.07)\" x=\"858.197\" y=\"1535.07\">5</text>\n",
       "</g>\n",
       "<g clip-path=\"url(#clip4900)\">\n",
       "<text style=\"fill:#000000; fill-opacity:1; font-family:Arial,Helvetica Neue,Helvetica,sans-serif; font-size:48px; text-anchor:start;\" transform=\"rotate(0, 1209, 1562.48)\" x=\"1209\" y=\"1562.48\">5.0×10</text>\n",
       "</g>\n",
       "<g clip-path=\"url(#clip4900)\">\n",
       "<text style=\"fill:#000000; fill-opacity:1; font-family:Arial,Helvetica Neue,Helvetica,sans-serif; font-size:38px; text-anchor:start;\" transform=\"rotate(0, 1357.54, 1535.07)\" x=\"1357.54\" y=\"1535.07\">5</text>\n",
       "</g>\n",
       "<g clip-path=\"url(#clip4900)\">\n",
       "<text style=\"fill:#000000; fill-opacity:1; font-family:Arial,Helvetica Neue,Helvetica,sans-serif; font-size:48px; text-anchor:start;\" transform=\"rotate(0, 1708.35, 1562.48)\" x=\"1708.35\" y=\"1562.48\">7.5×10</text>\n",
       "</g>\n",
       "<g clip-path=\"url(#clip4900)\">\n",
       "<text style=\"fill:#000000; fill-opacity:1; font-family:Arial,Helvetica Neue,Helvetica,sans-serif; font-size:38px; text-anchor:start;\" transform=\"rotate(0, 1856.89, 1535.07)\" x=\"1856.89\" y=\"1535.07\">5</text>\n",
       "</g>\n",
       "<g clip-path=\"url(#clip4900)\">\n",
       "<text style=\"fill:#000000; fill-opacity:1; font-family:Arial,Helvetica Neue,Helvetica,sans-serif; font-size:48px; text-anchor:start;\" transform=\"rotate(0, 2207.69, 1562.48)\" x=\"2207.69\" y=\"1562.48\">1.0×10</text>\n",
       "</g>\n",
       "<g clip-path=\"url(#clip4900)\">\n",
       "<text style=\"fill:#000000; fill-opacity:1; font-family:Arial,Helvetica Neue,Helvetica,sans-serif; font-size:38px; text-anchor:start;\" transform=\"rotate(0, 2356.23, 1535.07)\" x=\"2356.23\" y=\"1535.07\">6</text>\n",
       "</g>\n",
       "<g clip-path=\"url(#clip4900)\">\n",
       "<text style=\"fill:#000000; fill-opacity:1; font-family:Arial,Helvetica Neue,Helvetica,sans-serif; font-size:48px; text-anchor:end;\" transform=\"rotate(0, 211.533, 1262.95)\" x=\"211.533\" y=\"1262.95\">-0.050</text>\n",
       "</g>\n",
       "<g clip-path=\"url(#clip4900)\">\n",
       "<text style=\"fill:#000000; fill-opacity:1; font-family:Arial,Helvetica Neue,Helvetica,sans-serif; font-size:48px; text-anchor:end;\" transform=\"rotate(0, 211.533, 1018.38)\" x=\"211.533\" y=\"1018.38\">-0.025</text>\n",
       "</g>\n",
       "<g clip-path=\"url(#clip4900)\">\n",
       "<text style=\"fill:#000000; fill-opacity:1; font-family:Arial,Helvetica Neue,Helvetica,sans-serif; font-size:48px; text-anchor:end;\" transform=\"rotate(0, 211.533, 773.811)\" x=\"211.533\" y=\"773.811\">0.000</text>\n",
       "</g>\n",
       "<g clip-path=\"url(#clip4900)\">\n",
       "<text style=\"fill:#000000; fill-opacity:1; font-family:Arial,Helvetica Neue,Helvetica,sans-serif; font-size:48px; text-anchor:end;\" transform=\"rotate(0, 211.533, 529.242)\" x=\"211.533\" y=\"529.242\">0.025</text>\n",
       "</g>\n",
       "<g clip-path=\"url(#clip4900)\">\n",
       "<text style=\"fill:#000000; fill-opacity:1; font-family:Arial,Helvetica Neue,Helvetica,sans-serif; font-size:48px; text-anchor:end;\" transform=\"rotate(0, 211.533, 284.673)\" x=\"211.533\" y=\"284.673\">0.050</text>\n",
       "</g>\n",
       "<g clip-path=\"url(#clip4900)\">\n",
       "<text style=\"fill:#000000; fill-opacity:1; font-family:Arial,Helvetica Neue,Helvetica,sans-serif; font-size:84px; text-anchor:middle;\" transform=\"rotate(0, 1294.14, 73.2)\" x=\"1294.14\" y=\"73.2\">Zaproksymowana funkcja</text>\n",
       "</g>\n",
       "<polyline clip-path=\"url(#clip4902)\" style=\"stroke:#009af9; stroke-width:4; stroke-opacity:1; fill:none\" points=\"\n",
       "  295.454,1448.82 314.96,1427.12 495.322,1234.97 603.712,1126.9 695.354,1039.86 794.903,949.804 886.679,870.932 985.072,790.797 1099.07,703.674 1200.38,631.405 \n",
       "  1289.22,572.024 1386.07,511.534 1483.51,455.159 1591.23,398.052 1693.73,348.81 1800.3,302.875 1890.01,268.37 1999.54,231.401 2102.5,201.82 2267.45,164.874 \n",
       "  2292.83,160.33 \n",
       "  \"/>\n",
       "<path clip-path=\"url(#clip4900)\" d=\"\n",
       "M1989.93 326.155 L2280.76 326.155 L2280.76 205.195 L1989.93 205.195  Z\n",
       "  \" fill=\"#ffffff\" fill-rule=\"evenodd\" fill-opacity=\"1\"/>\n",
       "<polyline clip-path=\"url(#clip4900)\" style=\"stroke:#000000; stroke-width:4; stroke-opacity:1; fill:none\" points=\"\n",
       "  1989.93,326.155 2280.76,326.155 2280.76,205.195 1989.93,205.195 1989.93,326.155 \n",
       "  \"/>\n",
       "<polyline clip-path=\"url(#clip4900)\" style=\"stroke:#009af9; stroke-width:4; stroke-opacity:1; fill:none\" points=\"\n",
       "  2013.93,265.675 2157.93,265.675 \n",
       "  \"/>\n",
       "<g clip-path=\"url(#clip4900)\">\n",
       "<text style=\"fill:#000000; fill-opacity:1; font-family:Arial,Helvetica Neue,Helvetica,sans-serif; font-size:48px; text-anchor:start;\" transform=\"rotate(0, 2181.93, 283.175)\" x=\"2181.93\" y=\"283.175\">y1</text>\n",
       "</g>\n",
       "</svg>\n"
      ]
     },
     "execution_count": 363,
     "metadata": {},
     "output_type": "execute_result"
    }
   ],
   "source": [
    "using Plots\n",
    "plot(fun, 0, 1000000, title=\"Zaproksymowana funkcja\")"
   ]
  },
  {
   "cell_type": "code",
   "execution_count": 364,
   "metadata": {},
   "outputs": [
    {
     "data": {
      "image/svg+xml": [
       "<?xml version=\"1.0\" encoding=\"utf-8\"?>\n",
       "<svg xmlns=\"http://www.w3.org/2000/svg\" xmlns:xlink=\"http://www.w3.org/1999/xlink\" width=\"600\" height=\"400\" viewBox=\"0 0 2400 1600\">\n",
       "<defs>\n",
       "  <clipPath id=\"clip5300\">\n",
       "    <rect x=\"0\" y=\"0\" width=\"2400\" height=\"1600\"/>\n",
       "  </clipPath>\n",
       "</defs>\n",
       "<path clip-path=\"url(#clip5300)\" d=\"\n",
       "M0 1600 L2400 1600 L2400 0 L0 0  Z\n",
       "  \" fill=\"#ffffff\" fill-rule=\"evenodd\" fill-opacity=\"1\"/>\n",
       "<defs>\n",
       "  <clipPath id=\"clip5301\">\n",
       "    <rect x=\"480\" y=\"0\" width=\"1681\" height=\"1600\"/>\n",
       "  </clipPath>\n",
       "</defs>\n",
       "<path clip-path=\"url(#clip5300)\" d=\"\n",
       "M180.66 1487.47 L2352.76 1487.47 L2352.76 121.675 L180.66 121.675  Z\n",
       "  \" fill=\"#ffffff\" fill-rule=\"evenodd\" fill-opacity=\"1\"/>\n",
       "<defs>\n",
       "  <clipPath id=\"clip5302\">\n",
       "    <rect x=\"180\" y=\"121\" width=\"2173\" height=\"1367\"/>\n",
       "  </clipPath>\n",
       "</defs>\n",
       "<polyline clip-path=\"url(#clip5302)\" style=\"stroke:#000000; stroke-width:2; stroke-opacity:0.1; fill:none\" points=\"\n",
       "  344.592,1487.47 344.592,121.675 \n",
       "  \"/>\n",
       "<polyline clip-path=\"url(#clip5302)\" style=\"stroke:#000000; stroke-width:2; stroke-opacity:0.1; fill:none\" points=\"\n",
       "  856.879,1487.47 856.879,121.675 \n",
       "  \"/>\n",
       "<polyline clip-path=\"url(#clip5302)\" style=\"stroke:#000000; stroke-width:2; stroke-opacity:0.1; fill:none\" points=\"\n",
       "  1369.17,1487.47 1369.17,121.675 \n",
       "  \"/>\n",
       "<polyline clip-path=\"url(#clip5302)\" style=\"stroke:#000000; stroke-width:2; stroke-opacity:0.1; fill:none\" points=\"\n",
       "  1881.45,1487.47 1881.45,121.675 \n",
       "  \"/>\n",
       "<polyline clip-path=\"url(#clip5302)\" style=\"stroke:#000000; stroke-width:2; stroke-opacity:0.1; fill:none\" points=\"\n",
       "  180.66,1448.82 2352.76,1448.82 \n",
       "  \"/>\n",
       "<polyline clip-path=\"url(#clip5302)\" style=\"stroke:#000000; stroke-width:2; stroke-opacity:0.1; fill:none\" points=\"\n",
       "  180.66,1191.12 2352.76,1191.12 \n",
       "  \"/>\n",
       "<polyline clip-path=\"url(#clip5302)\" style=\"stroke:#000000; stroke-width:2; stroke-opacity:0.1; fill:none\" points=\"\n",
       "  180.66,933.424 2352.76,933.424 \n",
       "  \"/>\n",
       "<polyline clip-path=\"url(#clip5302)\" style=\"stroke:#000000; stroke-width:2; stroke-opacity:0.1; fill:none\" points=\"\n",
       "  180.66,675.726 2352.76,675.726 \n",
       "  \"/>\n",
       "<polyline clip-path=\"url(#clip5302)\" style=\"stroke:#000000; stroke-width:2; stroke-opacity:0.1; fill:none\" points=\"\n",
       "  180.66,418.028 2352.76,418.028 \n",
       "  \"/>\n",
       "<polyline clip-path=\"url(#clip5302)\" style=\"stroke:#000000; stroke-width:2; stroke-opacity:0.1; fill:none\" points=\"\n",
       "  180.66,160.33 2352.76,160.33 \n",
       "  \"/>\n",
       "<polyline clip-path=\"url(#clip5300)\" style=\"stroke:#000000; stroke-width:4; stroke-opacity:1; fill:none\" points=\"\n",
       "  180.66,1487.47 2352.76,1487.47 \n",
       "  \"/>\n",
       "<polyline clip-path=\"url(#clip5300)\" style=\"stroke:#000000; stroke-width:4; stroke-opacity:1; fill:none\" points=\"\n",
       "  180.66,1487.47 180.66,121.675 \n",
       "  \"/>\n",
       "<polyline clip-path=\"url(#clip5300)\" style=\"stroke:#000000; stroke-width:4; stroke-opacity:1; fill:none\" points=\"\n",
       "  344.592,1487.47 344.592,1471.09 \n",
       "  \"/>\n",
       "<polyline clip-path=\"url(#clip5300)\" style=\"stroke:#000000; stroke-width:4; stroke-opacity:1; fill:none\" points=\"\n",
       "  856.879,1487.47 856.879,1471.09 \n",
       "  \"/>\n",
       "<polyline clip-path=\"url(#clip5300)\" style=\"stroke:#000000; stroke-width:4; stroke-opacity:1; fill:none\" points=\"\n",
       "  1369.17,1487.47 1369.17,1471.09 \n",
       "  \"/>\n",
       "<polyline clip-path=\"url(#clip5300)\" style=\"stroke:#000000; stroke-width:4; stroke-opacity:1; fill:none\" points=\"\n",
       "  1881.45,1487.47 1881.45,1471.09 \n",
       "  \"/>\n",
       "<polyline clip-path=\"url(#clip5300)\" style=\"stroke:#000000; stroke-width:4; stroke-opacity:1; fill:none\" points=\"\n",
       "  180.66,1448.82 206.725,1448.82 \n",
       "  \"/>\n",
       "<polyline clip-path=\"url(#clip5300)\" style=\"stroke:#000000; stroke-width:4; stroke-opacity:1; fill:none\" points=\"\n",
       "  180.66,1191.12 206.725,1191.12 \n",
       "  \"/>\n",
       "<polyline clip-path=\"url(#clip5300)\" style=\"stroke:#000000; stroke-width:4; stroke-opacity:1; fill:none\" points=\"\n",
       "  180.66,933.424 206.725,933.424 \n",
       "  \"/>\n",
       "<polyline clip-path=\"url(#clip5300)\" style=\"stroke:#000000; stroke-width:4; stroke-opacity:1; fill:none\" points=\"\n",
       "  180.66,675.726 206.725,675.726 \n",
       "  \"/>\n",
       "<polyline clip-path=\"url(#clip5300)\" style=\"stroke:#000000; stroke-width:4; stroke-opacity:1; fill:none\" points=\"\n",
       "  180.66,418.028 206.725,418.028 \n",
       "  \"/>\n",
       "<polyline clip-path=\"url(#clip5300)\" style=\"stroke:#000000; stroke-width:4; stroke-opacity:1; fill:none\" points=\"\n",
       "  180.66,160.33 206.725,160.33 \n",
       "  \"/>\n",
       "<g clip-path=\"url(#clip5300)\">\n",
       "<text style=\"fill:#000000; fill-opacity:1; font-family:Arial,Helvetica Neue,Helvetica,sans-serif; font-size:48px; text-anchor:start;\" transform=\"rotate(0, 259.45, 1562.48)\" x=\"259.45\" y=\"1562.48\">8.0×10</text>\n",
       "</g>\n",
       "<g clip-path=\"url(#clip5300)\">\n",
       "<text style=\"fill:#000000; fill-opacity:1; font-family:Arial,Helvetica Neue,Helvetica,sans-serif; font-size:38px; text-anchor:start;\" transform=\"rotate(0, 407.99, 1535.07)\" x=\"407.99\" y=\"1535.07\">5</text>\n",
       "</g>\n",
       "<g clip-path=\"url(#clip5300)\">\n",
       "<text style=\"fill:#000000; fill-opacity:1; font-family:Arial,Helvetica Neue,Helvetica,sans-serif; font-size:48px; text-anchor:start;\" transform=\"rotate(0, 771.736, 1562.48)\" x=\"771.736\" y=\"1562.48\">8.5×10</text>\n",
       "</g>\n",
       "<g clip-path=\"url(#clip5300)\">\n",
       "<text style=\"fill:#000000; fill-opacity:1; font-family:Arial,Helvetica Neue,Helvetica,sans-serif; font-size:38px; text-anchor:start;\" transform=\"rotate(0, 920.277, 1535.07)\" x=\"920.277\" y=\"1535.07\">5</text>\n",
       "</g>\n",
       "<g clip-path=\"url(#clip5300)\">\n",
       "<text style=\"fill:#000000; fill-opacity:1; font-family:Arial,Helvetica Neue,Helvetica,sans-serif; font-size:48px; text-anchor:start;\" transform=\"rotate(0, 1284.02, 1562.48)\" x=\"1284.02\" y=\"1562.48\">9.0×10</text>\n",
       "</g>\n",
       "<g clip-path=\"url(#clip5300)\">\n",
       "<text style=\"fill:#000000; fill-opacity:1; font-family:Arial,Helvetica Neue,Helvetica,sans-serif; font-size:38px; text-anchor:start;\" transform=\"rotate(0, 1432.56, 1535.07)\" x=\"1432.56\" y=\"1535.07\">5</text>\n",
       "</g>\n",
       "<g clip-path=\"url(#clip5300)\">\n",
       "<text style=\"fill:#000000; fill-opacity:1; font-family:Arial,Helvetica Neue,Helvetica,sans-serif; font-size:48px; text-anchor:start;\" transform=\"rotate(0, 1796.31, 1562.48)\" x=\"1796.31\" y=\"1562.48\">9.5×10</text>\n",
       "</g>\n",
       "<g clip-path=\"url(#clip5300)\">\n",
       "<text style=\"fill:#000000; fill-opacity:1; font-family:Arial,Helvetica Neue,Helvetica,sans-serif; font-size:38px; text-anchor:start;\" transform=\"rotate(0, 1944.85, 1535.07)\" x=\"1944.85\" y=\"1535.07\">5</text>\n",
       "</g>\n",
       "<g clip-path=\"url(#clip5300)\">\n",
       "<text style=\"fill:#000000; fill-opacity:1; font-family:Arial,Helvetica Neue,Helvetica,sans-serif; font-size:48px; text-anchor:end;\" transform=\"rotate(0, 156.66, 1466.32)\" x=\"156.66\" y=\"1466.32\">0.04</text>\n",
       "</g>\n",
       "<g clip-path=\"url(#clip5300)\">\n",
       "<text style=\"fill:#000000; fill-opacity:1; font-family:Arial,Helvetica Neue,Helvetica,sans-serif; font-size:48px; text-anchor:end;\" transform=\"rotate(0, 156.66, 1208.62)\" x=\"156.66\" y=\"1208.62\">0.05</text>\n",
       "</g>\n",
       "<g clip-path=\"url(#clip5300)\">\n",
       "<text style=\"fill:#000000; fill-opacity:1; font-family:Arial,Helvetica Neue,Helvetica,sans-serif; font-size:48px; text-anchor:end;\" transform=\"rotate(0, 156.66, 950.924)\" x=\"156.66\" y=\"950.924\">0.06</text>\n",
       "</g>\n",
       "<g clip-path=\"url(#clip5300)\">\n",
       "<text style=\"fill:#000000; fill-opacity:1; font-family:Arial,Helvetica Neue,Helvetica,sans-serif; font-size:48px; text-anchor:end;\" transform=\"rotate(0, 156.66, 693.226)\" x=\"156.66\" y=\"693.226\">0.07</text>\n",
       "</g>\n",
       "<g clip-path=\"url(#clip5300)\">\n",
       "<text style=\"fill:#000000; fill-opacity:1; font-family:Arial,Helvetica Neue,Helvetica,sans-serif; font-size:48px; text-anchor:end;\" transform=\"rotate(0, 156.66, 435.528)\" x=\"156.66\" y=\"435.528\">0.08</text>\n",
       "</g>\n",
       "<g clip-path=\"url(#clip5300)\">\n",
       "<text style=\"fill:#000000; fill-opacity:1; font-family:Arial,Helvetica Neue,Helvetica,sans-serif; font-size:48px; text-anchor:end;\" transform=\"rotate(0, 156.66, 177.83)\" x=\"156.66\" y=\"177.83\">0.09</text>\n",
       "</g>\n",
       "<g clip-path=\"url(#clip5300)\">\n",
       "<text style=\"fill:#000000; fill-opacity:1; font-family:Arial,Helvetica Neue,Helvetica,sans-serif; font-size:84px; text-anchor:middle;\" transform=\"rotate(0, 1266.71, 73.2)\" x=\"1266.71\" y=\"73.2\">Wejsciowe dane</text>\n",
       "</g>\n",
       "<polyline clip-path=\"url(#clip5302)\" style=\"stroke:#009af9; stroke-width:4; stroke-opacity:1; fill:none\" points=\"\n",
       "  242.135,1191.12 447.049,1191.12 447.049,1448.82 447.049,1191.12 447.049,675.726 447.049,933.424 \n",
       "  447.049,1448.82 651.964,1191.12 651.964,675.726 651.964,1191.12 651.964,933.424 651.964,1191.12 651.964,1448.82 \n",
       "  651.964,933.424 856.879,933.424 856.879,1191.12 856.879,933.424 856.879,1191.12 856.879,933.424 \n",
       "  856.879,1191.12 1061.79,1191.12 1061.79,933.424 1061.79,1191.12 1061.79,933.424 1061.79,1191.12 \n",
       "  1266.71,933.424 1266.71,1191.12 1266.71,933.424 1266.71,1191.12 1266.71,933.424 1266.71,1191.12 1266.71,933.424 \n",
       "  1471.62,933.424 1471.62,1191.12 1471.62,933.424 1471.62,1191.12 1471.62,933.424 1471.62,1191.12 1471.62,933.424 \n",
       "  1471.62,1191.12 1676.54,1191.12 1676.54,933.424 1676.54,1191.12 1676.54,933.424 1676.54,1191.12 1676.54,933.424 1676.54,160.33 1676.54,675.726 \n",
       "  1676.54,418.028 1881.45,1191.12 1881.45,933.424 1881.45,1191.12 1881.45,933.424 1881.45,1191.12 1881.45,933.424 1881.45,1191.12 \n",
       "  1881.45,933.424 2086.37,933.424 2086.37,1191.12 2086.37,933.424 2086.37,675.726 2086.37,933.424 2086.37,418.028 2086.37,933.424 \n",
       "  2291.28,933.424 2291.28,1191.12 2291.28,933.424 \n",
       "  \n",
       "  \"/>\n",
       "<path clip-path=\"url(#clip5300)\" d=\"\n",
       "M1989.93 326.155 L2280.76 326.155 L2280.76 205.195 L1989.93 205.195  Z\n",
       "  \" fill=\"#ffffff\" fill-rule=\"evenodd\" fill-opacity=\"1\"/>\n",
       "<polyline clip-path=\"url(#clip5300)\" style=\"stroke:#000000; stroke-width:4; stroke-opacity:1; fill:none\" points=\"\n",
       "  1989.93,326.155 2280.76,326.155 2280.76,205.195 1989.93,205.195 1989.93,326.155 \n",
       "  \"/>\n",
       "<polyline clip-path=\"url(#clip5300)\" style=\"stroke:#009af9; stroke-width:4; stroke-opacity:1; fill:none\" points=\"\n",
       "  2013.93,265.675 2157.93,265.675 \n",
       "  \"/>\n",
       "<g clip-path=\"url(#clip5300)\">\n",
       "<text style=\"fill:#000000; fill-opacity:1; font-family:Arial,Helvetica Neue,Helvetica,sans-serif; font-size:48px; text-anchor:start;\" transform=\"rotate(0, 2181.93, 283.175)\" x=\"2181.93\" y=\"283.175\">y1</text>\n",
       "</g>\n",
       "</svg>\n"
      ]
     },
     "execution_count": 364,
     "metadata": {},
     "output_type": "execute_result"
    }
   ],
   "source": [
    "plot(xs, ys, title=\"Wejsciowe dane\")"
   ]
  },
  {
   "cell_type": "markdown",
   "metadata": {},
   "source": [
    "### Wnioski do zadania 2\n",
    "- 1. Czas wykonania operacji lewego dzielenia nie zmniejszył się po faktoryzacji tak jak w pierwszym zadaniu, bo musiał zfaktoryzować faktor Q do trójkątnej macierzy."
   ]
  },
  {
   "cell_type": "markdown",
   "metadata": {},
   "source": [
    "## Zadanie 3"
   ]
  },
  {
   "cell_type": "markdown",
   "metadata": {},
   "source": [
    "Znajdź i zaprezentuj działanie innego zastosowania wybranej faktoryzacji."
   ]
  },
  {
   "cell_type": "markdown",
   "metadata": {},
   "source": [
    "Algorytm QR szuka wartości własne macierzy. Po wystarczającej liczbie iteracji w głównej przekątnej wynikowej macierzy będziemy mieli wartości własne wejściowej macierzy."
   ]
  },
  {
   "cell_type": "code",
   "execution_count": 365,
   "metadata": {},
   "outputs": [
    {
     "data": {
      "text/plain": [
       "qr_algorithm (generic function with 2 methods)"
      ]
     },
     "execution_count": 365,
     "metadata": {},
     "output_type": "execute_result"
    }
   ],
   "source": [
    "function qr_algorithm(M, n)\n",
    "    U = Diagonal(ones(size(M)[1]))\n",
    "    for k in 1:n\n",
    "        (Q, R) = qr(M)\n",
    "        M = R * Q\n",
    "        U = U * Q\n",
    "    end\n",
    "    return M\n",
    "end"
   ]
  },
  {
   "cell_type": "code",
   "execution_count": 366,
   "metadata": {},
   "outputs": [
    {
     "data": {
      "text/plain": [
       "2×2 Array{Int64,2}:\n",
       " 3  2\n",
       " 4  1"
      ]
     },
     "execution_count": 366,
     "metadata": {},
     "output_type": "execute_result"
    }
   ],
   "source": [
    "A = [3 2; 4 1]"
   ]
  },
  {
   "cell_type": "code",
   "execution_count": 367,
   "metadata": {},
   "outputs": [
    {
     "data": {
      "text/plain": [
       "2×2 Array{Float64,2}:\n",
       " 5.0       -2.0\n",
       " 4.608e-7  -1.0"
      ]
     },
     "execution_count": 367,
     "metadata": {},
     "output_type": "execute_result"
    }
   ],
   "source": [
    "A = qr_algorithm(A, 10)"
   ]
  },
  {
   "cell_type": "markdown",
   "metadata": {},
   "source": [
    "Mamy wynik: 5.0 i -1.0, są wartościamy własnymi macierzy."
   ]
  }
 ],
 "metadata": {
  "kernelspec": {
   "display_name": "Julia 1.4.0",
   "language": "julia",
   "name": "julia-1.4"
  },
  "language_info": {
   "file_extension": ".jl",
   "mimetype": "application/julia",
   "name": "julia",
   "version": "1.4.0"
  }
 },
 "nbformat": 4,
 "nbformat_minor": 4
}
