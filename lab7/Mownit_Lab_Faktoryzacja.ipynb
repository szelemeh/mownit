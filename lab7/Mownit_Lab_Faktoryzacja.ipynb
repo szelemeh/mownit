{
 "cells": [
  {
   "cell_type": "markdown",
   "metadata": {},
   "source": [
    "# MOwNiT \n",
    "## Laboratorium\n",
    "## Wybrane zagadnienia algebry liniowej, faktoryzacja\n",
    "### Algebra liniowa w Julii\n",
    "https://docs.julialang.org/en/v1.2/stdlib/LinearAlgebra/index.html"
   ]
  },
  {
   "cell_type": "code",
   "execution_count": 2,
   "metadata": {},
   "outputs": [],
   "source": [
    "using(LinearAlgebra)"
   ]
  },
  {
   "cell_type": "code",
   "execution_count": 3,
   "metadata": {
    "scrolled": true
   },
   "outputs": [
    {
     "data": {
      "text/html": [
       "# 11 methods for generic function <b>factorize</b>:<ul><li> factorize(A::<b>Union{DenseArray{T,2}, Base.ReinterpretArray{T,2,S,A} where S where A<:Union{SubArray{T,N,A,I,true} where I<:Union{Tuple{Vararg{Real,N} where N}, Tuple{AbstractUnitRange,Vararg{Any,N} where N}} where A<:DenseArray where N where T, DenseArray}, Base.ReshapedArray{T,2,A,MI} where MI<:Tuple{Vararg{Base.MultiplicativeInverses.SignedMultiplicativeInverse{Int64},N} where N} where A<:Union{Base.ReinterpretArray{T,N,S,A} where S where A<:Union{SubArray{T,N,A,I,true} where I<:Union{Tuple{Vararg{Real,N} where N}, Tuple{AbstractUnitRange,Vararg{Any,N} where N}} where A<:DenseArray where N where T, DenseArray} where N where T, SubArray{T,N,A,I,true} where I<:Union{Tuple{Vararg{Real,N} where N}, Tuple{AbstractUnitRange,Vararg{Any,N} where N}} where A<:DenseArray where N where T, DenseArray}, SubArray{T,2,A,I,L} where L where I<:Tuple{Vararg{Union{Int64, AbstractRange{Int64}, Base.AbstractCartesianIndex},N} where N} where A<:Union{Base.ReinterpretArray{T,N,S,A} where S where A<:Union{SubArray{T,N,A,I,true} where I<:Union{Tuple{Vararg{Real,N} where N}, Tuple{AbstractUnitRange,Vararg{Any,N} where N}} where A<:DenseArray where N where T, DenseArray} where N where T, Base.ReshapedArray{T,N,A,MI} where MI<:Tuple{Vararg{Base.MultiplicativeInverses.SignedMultiplicativeInverse{Int64},N} where N} where A<:Union{Base.ReinterpretArray{T,N,S,A} where S where A<:Union{SubArray{T,N,A,I,true} where I<:Union{Tuple{Vararg{Real,N} where N}, Tuple{AbstractUnitRange,Vararg{Any,N} where N}} where A<:DenseArray where N where T, DenseArray} where N where T, SubArray{T,N,A,I,true} where I<:Union{Tuple{Vararg{Real,N} where N}, Tuple{AbstractUnitRange,Vararg{Any,N} where N}} where A<:DenseArray where N where T, DenseArray} where N where T, DenseArray}}</b>)<i> where T</i> in LinearAlgebra at <a href=\"file:///buildworker/worker/package_linux64/build/usr/share/julia/stdlib/v1.4/LinearAlgebra/src/dense.jl\" target=\"_blank\">/home/szelemeh/Programs/julia-1.4.0/share/julia/stdlib/v1.4/LinearAlgebra/src/dense.jl:1197</a></li> <li> factorize(A::<b>Adjoint</b>) in LinearAlgebra at <a href=\"file:///buildworker/worker/package_linux64/build/usr/share/julia/stdlib/v1.4/LinearAlgebra/src/dense.jl\" target=\"_blank\">/home/szelemeh/Programs/julia-1.4.0/share/julia/stdlib/v1.4/LinearAlgebra/src/dense.jl:1272</a></li> <li> factorize(A::<b>Transpose</b>) in LinearAlgebra at <a href=\"file:///buildworker/worker/package_linux64/build/usr/share/julia/stdlib/v1.4/LinearAlgebra/src/dense.jl\" target=\"_blank\">/home/szelemeh/Programs/julia-1.4.0/share/julia/stdlib/v1.4/LinearAlgebra/src/dense.jl:1273</a></li> <li> factorize(A::<b>LinearAlgebra.AbstractTriangular</b>) in LinearAlgebra at <a href=\"file:///buildworker/worker/package_linux64/build/usr/share/julia/stdlib/v1.4/LinearAlgebra/src/triangular.jl\" target=\"_blank\">/home/szelemeh/Programs/julia-1.4.0/share/julia/stdlib/v1.4/LinearAlgebra/src/triangular.jl:2633</a></li> <li> factorize(A::<b>Union{Hermitian{Complex{Float64},#s662}, Hermitian{Float64,#s662}, Symmetric{Float64,#s662}} where #s662<:SparseArrays.AbstractSparseMatrixCSC</b>) in SparseArrays at <a href=\"file:///buildworker/worker/package_linux64/build/usr/share/julia/stdlib/v1.4/SparseArrays/src/linalg.jl\" target=\"_blank\">/home/szelemeh/Programs/julia-1.4.0/share/julia/stdlib/v1.4/SparseArrays/src/linalg.jl:1518</a></li> <li> factorize(A::<b>Union{Hermitian{T,S}, Symmetric{T,S}} where S where T</b>) in LinearAlgebra at <a href=\"file:///buildworker/worker/package_linux64/build/usr/share/julia/stdlib/v1.4/LinearAlgebra/src/symmetric.jl\" target=\"_blank\">/home/szelemeh/Programs/julia-1.4.0/share/julia/stdlib/v1.4/LinearAlgebra/src/symmetric.jl:620</a></li> <li> factorize(A::<b>Tridiagonal</b>) in LinearAlgebra at <a href=\"file:///buildworker/worker/package_linux64/build/usr/share/julia/stdlib/v1.4/LinearAlgebra/src/lu.jl\" target=\"_blank\">/home/szelemeh/Programs/julia-1.4.0/share/julia/stdlib/v1.4/LinearAlgebra/src/lu.jl:552</a></li> <li> factorize(D::<b>Diagonal</b>) in LinearAlgebra at <a href=\"file:///buildworker/worker/package_linux64/build/usr/share/julia/stdlib/v1.4/LinearAlgebra/src/diagonal.jl\" target=\"_blank\">/home/szelemeh/Programs/julia-1.4.0/share/julia/stdlib/v1.4/LinearAlgebra/src/diagonal.jl:121</a></li> <li> factorize(A::<b>Bidiagonal</b>) in LinearAlgebra at <a href=\"file:///buildworker/worker/package_linux64/build/usr/share/julia/stdlib/v1.4/LinearAlgebra/src/bidiag.jl\" target=\"_blank\">/home/szelemeh/Programs/julia-1.4.0/share/julia/stdlib/v1.4/LinearAlgebra/src/bidiag.jl:836</a></li> <li> factorize(S::<b>SymTridiagonal</b>) in LinearAlgebra at <a href=\"file:///buildworker/worker/package_linux64/build/usr/share/julia/stdlib/v1.4/LinearAlgebra/src/ldlt.jl\" target=\"_blank\">/home/szelemeh/Programs/julia-1.4.0/share/julia/stdlib/v1.4/LinearAlgebra/src/ldlt.jl:166</a></li> <li> factorize(A::<b>SparseArrays.AbstractSparseMatrixCSC</b>) in SparseArrays at <a href=\"file:///buildworker/worker/package_linux64/build/usr/share/julia/stdlib/v1.4/SparseArrays/src/linalg.jl\" target=\"_blank\">/home/szelemeh/Programs/julia-1.4.0/share/julia/stdlib/v1.4/SparseArrays/src/linalg.jl:1488</a></li> </ul>"
      ],
      "text/plain": [
       "# 11 methods for generic function \"factorize\":\n",
       "[1] factorize(A::Union{DenseArray{T,2}, Base.ReinterpretArray{T,2,S,A} where S where A<:Union{SubArray{T,N,A,I,true} where I<:Union{Tuple{Vararg{Real,N} where N}, Tuple{AbstractUnitRange,Vararg{Any,N} where N}} where A<:DenseArray where N where T, DenseArray}, Base.ReshapedArray{T,2,A,MI} where MI<:Tuple{Vararg{Base.MultiplicativeInverses.SignedMultiplicativeInverse{Int64},N} where N} where A<:Union{Base.ReinterpretArray{T,N,S,A} where S where A<:Union{SubArray{T,N,A,I,true} where I<:Union{Tuple{Vararg{Real,N} where N}, Tuple{AbstractUnitRange,Vararg{Any,N} where N}} where A<:DenseArray where N where T, DenseArray} where N where T, SubArray{T,N,A,I,true} where I<:Union{Tuple{Vararg{Real,N} where N}, Tuple{AbstractUnitRange,Vararg{Any,N} where N}} where A<:DenseArray where N where T, DenseArray}, SubArray{T,2,A,I,L} where L where I<:Tuple{Vararg{Union{Int64, AbstractRange{Int64}, Base.AbstractCartesianIndex},N} where N} where A<:Union{Base.ReinterpretArray{T,N,S,A} where S where A<:Union{SubArray{T,N,A,I,true} where I<:Union{Tuple{Vararg{Real,N} where N}, Tuple{AbstractUnitRange,Vararg{Any,N} where N}} where A<:DenseArray where N where T, DenseArray} where N where T, Base.ReshapedArray{T,N,A,MI} where MI<:Tuple{Vararg{Base.MultiplicativeInverses.SignedMultiplicativeInverse{Int64},N} where N} where A<:Union{Base.ReinterpretArray{T,N,S,A} where S where A<:Union{SubArray{T,N,A,I,true} where I<:Union{Tuple{Vararg{Real,N} where N}, Tuple{AbstractUnitRange,Vararg{Any,N} where N}} where A<:DenseArray where N where T, DenseArray} where N where T, SubArray{T,N,A,I,true} where I<:Union{Tuple{Vararg{Real,N} where N}, Tuple{AbstractUnitRange,Vararg{Any,N} where N}} where A<:DenseArray where N where T, DenseArray} where N where T, DenseArray}}) where T in LinearAlgebra at /home/szelemeh/Programs/julia-1.4.0/share/julia/stdlib/v1.4/LinearAlgebra/src/dense.jl:1197\n",
       "[2] factorize(A::Adjoint) in LinearAlgebra at /home/szelemeh/Programs/julia-1.4.0/share/julia/stdlib/v1.4/LinearAlgebra/src/dense.jl:1272\n",
       "[3] factorize(A::Transpose) in LinearAlgebra at /home/szelemeh/Programs/julia-1.4.0/share/julia/stdlib/v1.4/LinearAlgebra/src/dense.jl:1273\n",
       "[4] factorize(A::LinearAlgebra.AbstractTriangular) in LinearAlgebra at /home/szelemeh/Programs/julia-1.4.0/share/julia/stdlib/v1.4/LinearAlgebra/src/triangular.jl:2633\n",
       "[5] factorize(A::Union{Hermitian{Complex{Float64},#s662}, Hermitian{Float64,#s662}, Symmetric{Float64,#s662}} where #s662<:SparseArrays.AbstractSparseMatrixCSC) in SparseArrays at /home/szelemeh/Programs/julia-1.4.0/share/julia/stdlib/v1.4/SparseArrays/src/linalg.jl:1518\n",
       "[6] factorize(A::Union{Hermitian{T,S}, Symmetric{T,S}} where S where T) in LinearAlgebra at /home/szelemeh/Programs/julia-1.4.0/share/julia/stdlib/v1.4/LinearAlgebra/src/symmetric.jl:620\n",
       "[7] factorize(A::Tridiagonal) in LinearAlgebra at /home/szelemeh/Programs/julia-1.4.0/share/julia/stdlib/v1.4/LinearAlgebra/src/lu.jl:552\n",
       "[8] factorize(D::Diagonal) in LinearAlgebra at /home/szelemeh/Programs/julia-1.4.0/share/julia/stdlib/v1.4/LinearAlgebra/src/diagonal.jl:121\n",
       "[9] factorize(A::Bidiagonal) in LinearAlgebra at /home/szelemeh/Programs/julia-1.4.0/share/julia/stdlib/v1.4/LinearAlgebra/src/bidiag.jl:836\n",
       "[10] factorize(S::SymTridiagonal) in LinearAlgebra at /home/szelemeh/Programs/julia-1.4.0/share/julia/stdlib/v1.4/LinearAlgebra/src/ldlt.jl:166\n",
       "[11] factorize(A::SparseArrays.AbstractSparseMatrixCSC) in SparseArrays at /home/szelemeh/Programs/julia-1.4.0/share/julia/stdlib/v1.4/SparseArrays/src/linalg.jl:1488"
      ]
     },
     "execution_count": 3,
     "metadata": {},
     "output_type": "execute_result"
    }
   ],
   "source": [
    "methods(factorize)"
   ]
  },
  {
   "cell_type": "code",
   "execution_count": 4,
   "metadata": {},
   "outputs": [
    {
     "data": {
      "text/plain": [
       "1×3 Array{Int64,2}:\n",
       " 1  2  2"
      ]
     },
     "execution_count": 4,
     "metadata": {},
     "output_type": "execute_result"
    }
   ],
   "source": [
    "#wiersze vs kolumny\n",
    "x1=[1 2 2]"
   ]
  },
  {
   "cell_type": "code",
   "execution_count": 5,
   "metadata": {},
   "outputs": [
    {
     "data": {
      "text/plain": [
       "3-element Array{Int64,1}:\n",
       " 1\n",
       " 2\n",
       " 3"
      ]
     },
     "execution_count": 5,
     "metadata": {},
     "output_type": "execute_result"
    }
   ],
   "source": [
    "y1=[1 ;2 ;3]"
   ]
  },
  {
   "cell_type": "code",
   "execution_count": 6,
   "metadata": {},
   "outputs": [
    {
     "data": {
      "text/plain": [
       "3×1 Transpose{Int64,Array{Int64,2}}:\n",
       " 1\n",
       " 2\n",
       " 2"
      ]
     },
     "execution_count": 6,
     "metadata": {},
     "output_type": "execute_result"
    }
   ],
   "source": [
    "transpose(x1)"
   ]
  },
  {
   "cell_type": "code",
   "execution_count": 7,
   "metadata": {},
   "outputs": [
    {
     "data": {
      "text/plain": [
       "11"
      ]
     },
     "execution_count": 7,
     "metadata": {},
     "output_type": "execute_result"
    }
   ],
   "source": [
    "#iloczyn skalarny\n",
    "dot(x1,y1)"
   ]
  },
  {
   "cell_type": "markdown",
   "metadata": {},
   "source": [
    " Długość wektora liczymy jako pierwiastek z jego iloczynu skalarnego \n",
    "$$ \\lVert\\mathbf{v}\\rVert = \\sqrt{\\mathbf{v}\\cdot \\mathbf{v}}=\\sqrt{\\sum_{i=1}^nv_i^2}$$\n",
    "\n"
   ]
  },
  {
   "cell_type": "markdown",
   "metadata": {},
   "source": [
    "#### Przykładowe dane"
   ]
  },
  {
   "cell_type": "code",
   "execution_count": 8,
   "metadata": {},
   "outputs": [
    {
     "data": {
      "text/plain": [
       "3×3 Array{Float64,2}:\n",
       " 0.891896  0.0661564  0.7839\n",
       " 0.610017  0.902016   0.428022\n",
       " 0.638614  0.964226   0.21714"
      ]
     },
     "execution_count": 8,
     "metadata": {},
     "output_type": "execute_result"
    }
   ],
   "source": [
    "#losujemy macierz 3x3\n",
    "A=rand(3,3)"
   ]
  },
  {
   "cell_type": "code",
   "execution_count": 9,
   "metadata": {},
   "outputs": [
    {
     "data": {
      "text/plain": [
       "3-element Array{Float64,1}:\n",
       " 0.8905626670284226\n",
       " 0.06927311864713515\n",
       " 0.32282001697944507"
      ]
     },
     "execution_count": 9,
     "metadata": {},
     "output_type": "execute_result"
    }
   ],
   "source": [
    "#losujemy wektor x\n",
    "x=rand(3)"
   ]
  },
  {
   "cell_type": "code",
   "execution_count": 10,
   "metadata": {},
   "outputs": [
    {
     "data": {
      "text/plain": [
       "3-element Array{Float64,1}:\n",
       " 1.051930841759031\n",
       " 0.7439181617585627\n",
       " 0.7056181365490364"
      ]
     },
     "execution_count": 10,
     "metadata": {},
     "output_type": "execute_result"
    }
   ],
   "source": [
    "# wyliczamy b\n",
    "b=A*x"
   ]
  },
  {
   "cell_type": "markdown",
   "metadata": {},
   "source": [
    "### Sposoby rozwiązania Ax=b"
   ]
  },
  {
   "cell_type": "code",
   "execution_count": 11,
   "metadata": {},
   "outputs": [
    {
     "data": {
      "text/plain": [
       "3-element Array{Float64,1}:\n",
       " 0.8905626670284212\n",
       " 0.06927311864713542\n",
       " 0.32282001697944596"
      ]
     },
     "execution_count": 11,
     "metadata": {},
     "output_type": "execute_result"
    }
   ],
   "source": [
    "#mozemy policzyc odwrotność macierzy i wymnożyć\n",
    "# uwaga: nieefektywne!\n",
    "inv(A) * b"
   ]
  },
  {
   "cell_type": "code",
   "execution_count": 12,
   "metadata": {},
   "outputs": [
    {
     "data": {
      "text/plain": [
       "3-element Array{Float64,1}:\n",
       " 0.8905626670284215\n",
       " 0.06927311864713558\n",
       " 0.32282001697944623"
      ]
     },
     "execution_count": 12,
     "metadata": {},
     "output_type": "execute_result"
    }
   ],
   "source": [
    "#najlepiej używać zoptymalizowanego operatora \"\\\"\"\n",
    "x=A\\b"
   ]
  },
  {
   "cell_type": "markdown",
   "metadata": {},
   "source": [
    " operator \"\\\\\" wybiera odpowiednią faktoryzację:\n",
    "- https://docs.julialang.org/en/v1.2/stdlib/LinearAlgebra/#LinearAlgebra.factorize\n",
    "- https://docs.julialang.org/en/v1.2/stdlib/LinearAlgebra/#man-linalg-factorizations-1\n",
    " \n"
   ]
  },
  {
   "cell_type": "markdown",
   "metadata": {},
   "source": [
    "### Faktoryzacja LU"
   ]
  },
  {
   "cell_type": "code",
   "execution_count": 13,
   "metadata": {},
   "outputs": [
    {
     "data": {
      "text/plain": [
       "LU{Float64,Array{Float64,2}}\n",
       "L factor:\n",
       "3×3 Array{Float64,2}:\n",
       " 1.0       0.0       0.0\n",
       " 0.716019  1.0       0.0\n",
       " 0.683955  0.934463  1.0\n",
       "U factor:\n",
       "3×3 Array{Float64,2}:\n",
       " 0.891896  0.0661564   0.7839\n",
       " 0.0       0.916857   -0.344147\n",
       " 0.0       0.0         0.213462"
      ]
     },
     "execution_count": 13,
     "metadata": {},
     "output_type": "execute_result"
    }
   ],
   "source": [
    "# W przypadku ogólnej macierzy kwadratowej jest to faktoryzacja LU z pivotem\n",
    "Af=factorize(A)"
   ]
  },
  {
   "cell_type": "code",
   "execution_count": 14,
   "metadata": {},
   "outputs": [
    {
     "data": {
      "text/plain": [
       "3×3 Array{Float64,2}:\n",
       " 1.0       0.0       0.0\n",
       " 0.716019  1.0       0.0\n",
       " 0.683955  0.934463  1.0"
      ]
     },
     "execution_count": 14,
     "metadata": {},
     "output_type": "execute_result"
    }
   ],
   "source": [
    "# Macierz L\n",
    "Af.L"
   ]
  },
  {
   "cell_type": "code",
   "execution_count": 15,
   "metadata": {},
   "outputs": [
    {
     "data": {
      "text/plain": [
       "3×3 Array{Float64,2}:\n",
       " 0.891896  0.0661564   0.7839\n",
       " 0.0       0.916857   -0.344147\n",
       " 0.0       0.0         0.213462"
      ]
     },
     "execution_count": 15,
     "metadata": {},
     "output_type": "execute_result"
    }
   ],
   "source": [
    "#Macierz U\n",
    "Af.U"
   ]
  },
  {
   "cell_type": "code",
   "execution_count": 16,
   "metadata": {},
   "outputs": [
    {
     "data": {
      "text/plain": [
       "3-element Array{Int64,1}:\n",
       " 1\n",
       " 3\n",
       " 2"
      ]
     },
     "execution_count": 16,
     "metadata": {},
     "output_type": "execute_result"
    }
   ],
   "source": [
    "# wektor permulatacji \n",
    "Af.p"
   ]
  },
  {
   "cell_type": "code",
   "execution_count": 34,
   "metadata": {},
   "outputs": [
    {
     "data": {
      "text/plain": [
       "3×3 Array{Float64,2}:\n",
       " 0.891896  0.0661564  0.7839\n",
       " 0.638614  0.964226   0.21714\n",
       " 0.610017  0.902016   0.428022"
      ]
     },
     "execution_count": 34,
     "metadata": {},
     "output_type": "execute_result"
    }
   ],
   "source": [
    "# to jest spełnione\n",
    "Af.L*Af.U==A[Af.p,:]"
   ]
  },
  {
   "cell_type": "code",
   "execution_count": 18,
   "metadata": {},
   "outputs": [
    {
     "data": {
      "text/plain": [
       "LU{Float64,Array{Float64,2}}\n",
       "L factor:\n",
       "3×3 Array{Float64,2}:\n",
       " 1.0       0.0       0.0\n",
       " 0.716019  1.0       0.0\n",
       " 0.683955  0.934463  1.0\n",
       "U factor:\n",
       "3×3 Array{Float64,2}:\n",
       " 0.891896  0.0661564   0.7839\n",
       " 0.0       0.916857   -0.344147\n",
       " 0.0       0.0         0.213462"
      ]
     },
     "execution_count": 18,
     "metadata": {},
     "output_type": "execute_result"
    }
   ],
   "source": [
    "# mozemy zamienic macierz A na postać zfaktoryzowaną\n",
    "A=factorize(A)"
   ]
  },
  {
   "cell_type": "code",
   "execution_count": 19,
   "metadata": {},
   "outputs": [
    {
     "data": {
      "text/plain": [
       "3-element Array{Float64,1}:\n",
       " 0.8905626670284215\n",
       " 0.06927311864713558\n",
       " 0.32282001697944623"
      ]
     },
     "execution_count": 19,
     "metadata": {},
     "output_type": "execute_result"
    }
   ],
   "source": [
    "# i działać na niej operatorem \\\n",
    "# operator ten będzie wykorzytywał raz utworzony wynik faktoryzacji\n",
    "A\\b"
   ]
  },
  {
   "cell_type": "code",
   "execution_count": 20,
   "metadata": {},
   "outputs": [
    {
     "data": {
      "text/plain": [
       "3-element Array{Float64,1}:\n",
       " 0.15099452860896656\n",
       " 0.3166451605570247\n",
       " 0.5491844848040343"
      ]
     },
     "execution_count": 20,
     "metadata": {},
     "output_type": "execute_result"
    }
   ],
   "source": [
    "# dla różnych prawych stron równania z tą samą macierzą\n",
    "c=rand(3);\n",
    "A\\c"
   ]
  },
  {
   "cell_type": "markdown",
   "metadata": {},
   "source": [
    "### Faktoryzacja QR\n"
   ]
  },
  {
   "cell_type": "code",
   "execution_count": 21,
   "metadata": {},
   "outputs": [
    {
     "data": {
      "text/plain": [
       "10×5 Array{Float64,2}:\n",
       " 0.157956   0.680796  0.476059  0.222802  0.769459\n",
       " 0.142598   0.424797  0.443208  0.138728  0.654347\n",
       " 0.0576379  0.139381  0.586247  0.302703  0.37969\n",
       " 0.613228   0.765293  0.68881   0.974254  0.602849\n",
       " 0.773344   0.792177  0.168988  0.47747   0.339765\n",
       " 0.815464   0.274746  0.39284   0.915257  0.668149\n",
       " 0.797743   0.235955  0.561141  0.265342  0.173709\n",
       " 0.440484   0.927434  0.739501  0.265119  0.48943\n",
       " 0.679059   0.139144  0.722533  0.750244  0.818205\n",
       " 0.518988   0.873811  0.707168  0.479381  0.854049"
      ]
     },
     "execution_count": 21,
     "metadata": {},
     "output_type": "execute_result"
    }
   ],
   "source": [
    "B=rand(10,5)"
   ]
  },
  {
   "cell_type": "code",
   "execution_count": 22,
   "metadata": {},
   "outputs": [
    {
     "data": {
      "text/plain": [
       "QRPivoted{Float64,Array{Float64,2}}\n",
       "Q factor:\n",
       "10×10 LinearAlgebra.QRPackedQ{Float64,Array{Float64,2}}:\n",
       " -0.39691    -0.371212    0.154129   …  -0.322325   -0.332443   -0.507715\n",
       " -0.337532   -0.308162   -0.0280382      0.0300695   0.194521   -0.100706\n",
       " -0.195855   -0.201624   -0.118352       0.344137   -0.495306    0.106897\n",
       " -0.310967    0.153895    0.222306      -0.423337    0.185255   -0.121434\n",
       " -0.175261    0.475363    0.374992       0.246803    0.0148898  -0.0247742\n",
       " -0.344651    0.293961   -0.374339   …   0.276471   -0.417966   -0.037089\n",
       " -0.0896041   0.608615   -0.0907607     -0.391743   -0.218716   -0.0937419\n",
       " -0.252463    0.0728137   0.507689       0.505446    0.197564   -0.192004\n",
       " -0.422054    0.0696462  -0.571412       0.0972853   0.555529   -0.0704799\n",
       " -0.440544   -0.0997701   0.196939      -0.204469   -0.0399663   0.80827\n",
       "R factor:\n",
       "5×5 Array{Float64,2}:\n",
       " -1.93863  -1.42732  -1.61137   -1.68604   -1.51517\n",
       "  0.0       1.10061   0.29703    0.245447   0.644684\n",
       "  0.0       0.0       0.982877   0.111916  -0.176135\n",
       "  0.0       0.0       0.0       -0.626479   0.0172508\n",
       "  0.0       0.0       0.0        0.0       -0.605018\n",
       "permutation:\n",
       "5-element Array{Int64,1}:\n",
       " 5\n",
       " 1\n",
       " 2\n",
       " 3\n",
       " 4"
      ]
     },
     "execution_count": 22,
     "metadata": {},
     "output_type": "execute_result"
    }
   ],
   "source": [
    "# W przypadku ogólnej macierzy prostokątnej wybierana jest faktoryzacja QR z pivotem\n",
    "factorize(B)"
   ]
  },
  {
   "cell_type": "markdown",
   "metadata": {},
   "source": [
    "- $Q$ to macierz  ortogonalna mxm, co oznacza, że  $Q^T*Q=Q*Q^T=I$ czyli $Q^{-1}=Q^T$ (odwracanie takich macierzy jest szybkie i nie generuje dodatkowych błędów !)\n",
    "- $R$ to macierz postaci $\\begin{pmatrix} Rfactor \\\\ 0 \\end{pmatrix} $ , gdzie $Rfactor$ jest macierzą trójkątną górną, a 0 to macierz zer o wymierze nx(m-n)"
   ]
  },
  {
   "cell_type": "markdown",
   "metadata": {},
   "source": [
    "### Zastosowanie faktoryzacji do metody najmniejszych kwadratów\n",
    "\n",
    "Jednym z zastosowań faktoryzacji QR jest użycie jej do metody najmniejszych kwadratów.\n",
    "\n",
    "Przykład:\n",
    "\n",
    "Obliczmy dopasowanie wielomianu $$f(x)=wsp_2*x^2+wsp_1*x+wsp_0$$ do punktów (1,1) (2,2) (3,4) (4, 4) (5,3) (6,0)\n",
    "\n",
    "- Budujemy układ równań wg wzoru $$wsp_2x_i^2+wsp_1x_i+wsp_0=y_i$$:\n",
    "$$wsp_2*1^2+wsp_1*1+wsp_0=1$$\n",
    "$$wsp_2*2^2+wsp_1*2+wsp_0=2$$\n",
    "$$wsp_2*3^2+wsp_1*3+wsp_0=4$$\n",
    "$$wsp_2*4^2+wsp_1*4+wsp_0=4$$\n",
    "$$wsp_2*5^2+wsp_1*5+wsp_0=3$$\n",
    "$$wsp_2*6^2+wsp_1*6+wsp_0=0$$\n",
    "\n",
    "- Układ ten  nie ma dokładnego rozwiązania. Możemy jednak znaleźć najlepsze przybliżenie, czyli takie $wsp_i$, które minimalizują odległość:\n",
    "\n",
    "$$\\sqrt{\\sum_{i=1}^{6}{(y_i-f(x_i))^2}}=\\lVert y-A*wsp\\rVert$$\n",
    "\n",
    "\n",
    "\n"
   ]
  },
  {
   "cell_type": "markdown",
   "metadata": {},
   "source": [
    "Jak użyć do tej mimalizacji faktoryzacji QR:\n",
    "\n",
    "#### 1. Tworzymy macierz A na postawie $(x_i,y_i)$"
   ]
  },
  {
   "cell_type": "code",
   "execution_count": 23,
   "metadata": {},
   "outputs": [
    {
     "data": {
      "text/plain": [
       "6×3 Array{Float64,2}:\n",
       " 0.0  0.0  0.0\n",
       " 0.0  0.0  0.0\n",
       " 0.0  0.0  0.0\n",
       " 0.0  0.0  0.0\n",
       " 0.0  0.0  0.0\n",
       " 0.0  0.0  0.0"
      ]
     },
     "execution_count": 23,
     "metadata": {},
     "output_type": "execute_result"
    }
   ],
   "source": [
    "A=zeros(6,3) "
   ]
  },
  {
   "cell_type": "markdown",
   "metadata": {},
   "source": [
    " punkty $(x_i,y_i)$\n"
   ]
  },
  {
   "cell_type": "code",
   "execution_count": 24,
   "metadata": {},
   "outputs": [
    {
     "data": {
      "text/plain": [
       "6-element Array{Int64,1}:\n",
       " 1\n",
       " 2\n",
       " 4\n",
       " 4\n",
       " 3\n",
       " 0"
      ]
     },
     "execution_count": 24,
     "metadata": {},
     "output_type": "execute_result"
    }
   ],
   "source": [
    "x=[1; 2 ;3 ;4 ;5 ;6]\n",
    "y=[1; 2; 4; 4; 3; 0]"
   ]
  },
  {
   "cell_type": "code",
   "execution_count": 25,
   "metadata": {},
   "outputs": [
    {
     "data": {
      "text/plain": [
       "6-element Array{Int64,1}:\n",
       "  1\n",
       "  4\n",
       "  9\n",
       " 16\n",
       " 25\n",
       " 36"
      ]
     },
     "execution_count": 25,
     "metadata": {},
     "output_type": "execute_result"
    }
   ],
   "source": [
    "A[:,1]=x.^2"
   ]
  },
  {
   "cell_type": "code",
   "execution_count": 26,
   "metadata": {},
   "outputs": [
    {
     "data": {
      "text/plain": [
       "6-element Array{Int64,1}:\n",
       " 1\n",
       " 2\n",
       " 3\n",
       " 4\n",
       " 5\n",
       " 6"
      ]
     },
     "execution_count": 26,
     "metadata": {},
     "output_type": "execute_result"
    }
   ],
   "source": [
    "A[:,2]=x"
   ]
  },
  {
   "cell_type": "code",
   "execution_count": 27,
   "metadata": {},
   "outputs": [
    {
     "data": {
      "text/plain": [
       "6-element Array{Float64,1}:\n",
       " 1.0\n",
       " 1.0\n",
       " 1.0\n",
       " 1.0\n",
       " 1.0\n",
       " 1.0"
      ]
     },
     "execution_count": 27,
     "metadata": {},
     "output_type": "execute_result"
    }
   ],
   "source": [
    "A[:,3]=ones(6)"
   ]
  },
  {
   "cell_type": "code",
   "execution_count": 28,
   "metadata": {},
   "outputs": [
    {
     "data": {
      "text/plain": [
       "6×3 Array{Float64,2}:\n",
       "  1.0  1.0  1.0\n",
       "  4.0  2.0  1.0\n",
       "  9.0  3.0  1.0\n",
       " 16.0  4.0  1.0\n",
       " 25.0  5.0  1.0\n",
       " 36.0  6.0  1.0"
      ]
     },
     "execution_count": 28,
     "metadata": {},
     "output_type": "execute_result"
    }
   ],
   "source": [
    "A"
   ]
  },
  {
   "cell_type": "markdown",
   "metadata": {},
   "source": [
    "#### 2. Dokonujemy faktoryzacji QR macierzy A "
   ]
  },
  {
   "cell_type": "code",
   "execution_count": 29,
   "metadata": {},
   "outputs": [
    {
     "data": {
      "text/plain": [
       "QRPivoted{Float64,Array{Float64,2}}\n",
       "Q factor:\n",
       "6×6 LinearAlgebra.QRPackedQ{Float64,Array{Float64,2}}:\n",
       " -0.0209657  -0.343313    0.838525   0.112335    -0.0400677  -0.405397\n",
       " -0.0838628  -0.521522    0.167705  -0.00636667   0.34634     0.756879\n",
       " -0.188691   -0.534625   -0.223607  -0.612934    -0.487947   -0.121617\n",
       " -0.335451   -0.382624   -0.33541    0.753648    -0.213523   -0.122449\n",
       " -0.524142   -0.0655178  -0.167705  -0.204705     0.705864   -0.390779\n",
       " -0.754765    0.416693    0.279508  -0.0419783   -0.310667    0.283364\n",
       "R factor:\n",
       "3×3 Array{Float64,2}:\n",
       " -47.697  -9.24587  -1.90788\n",
       "   0.0    -2.34816  -1.43091\n",
       "   0.0     0.0       0.559017\n",
       "permutation:\n",
       "3-element Array{Int64,1}:\n",
       " 1\n",
       " 2\n",
       " 3"
      ]
     },
     "execution_count": 29,
     "metadata": {},
     "output_type": "execute_result"
    }
   ],
   "source": [
    " AF=factorize(A)"
   ]
  },
  {
   "cell_type": "code",
   "execution_count": 30,
   "metadata": {},
   "outputs": [
    {
     "data": {
      "text/plain": [
       "6×6 Array{Float64,2}:\n",
       "  1.0           0.0           1.11022e-16  …   8.32667e-17   0.0\n",
       "  0.0           1.0           9.71445e-17     -5.55112e-17  -1.249e-16\n",
       "  1.11022e-16   9.71445e-17   1.0             -4.16334e-17   0.0\n",
       " -9.71445e-17   3.46945e-17   2.60209e-17     -9.88792e-17  -2.08167e-17\n",
       "  8.32667e-17  -5.55112e-17  -4.16334e-17      1.0           0.0\n",
       "  0.0          -1.249e-16     0.0          …   0.0           1.0"
      ]
     },
     "execution_count": 30,
     "metadata": {},
     "output_type": "execute_result"
    }
   ],
   "source": [
    "# można przetestować ortogonalność:\n",
    "Transpose(AF.Q)*AF.Q"
   ]
  },
  {
   "cell_type": "markdown",
   "metadata": {},
   "source": [
    "Mamy równanie:\n",
    "$$A*wsp=y$$\n",
    "Dla $A=QR$:\n",
    "$$QR*wsp =y$$\n",
    "Możemy obydwie strony wymnożyć z lewej przez $Q^T$:\n",
    "$$R*wsp =Q^T y$$\n",
    "$$\\begin{pmatrix} Rfactor \\\\ 0 \\end{pmatrix} wsp= Q^T y$$\n",
    "\n",
    "Poszukiwanym rozwiązaniem jest rozwiązanie równania będącego górną niezerową częścią:\n",
    "$$Rfactor * wsp= Q^T y[1:n]$$\n",
    "$$wsp=Rfactor \\setminus Q^T y[1:n]$$"
   ]
  },
  {
   "cell_type": "code",
   "execution_count": 31,
   "metadata": {},
   "outputs": [
    {
     "data": {
      "text/plain": [
       "3-element Array{Float64,1}:\n",
       " -0.5714285714285727\n",
       "  3.942857142857152\n",
       " -2.8000000000000163"
      ]
     },
     "execution_count": 31,
     "metadata": {},
     "output_type": "execute_result"
    }
   ],
   "source": [
    "# implementacja powyższego (uwaga: w tym przykladzie nie jest potrzebna permutacja,\n",
    "# bo wektor permutacji wynosi[1 2 3])\n",
    "AF.R\\((Transpose(AF.Q)*y)[1:3])"
   ]
  },
  {
   "cell_type": "markdown",
   "metadata": {},
   "source": [
    "Więcej informacji:\n",
    "- http://www.math.uconn.edu/~leykekhman/courses/MATH3795/Lectures/Lecture_8_Linear_least_squares_orthogonal_matrices.pdf\n",
    "- http://www.seas.ucla.edu/~vandenbe/133A/lectures/qr.pdf"
   ]
  },
  {
   "cell_type": "markdown",
   "metadata": {},
   "source": [
    "W praktyce używamy tego algorytmu poprzez operator \"\\\\\", za którym jest on \"schowany\"."
   ]
  },
  {
   "cell_type": "code",
   "execution_count": 32,
   "metadata": {},
   "outputs": [
    {
     "data": {
      "text/plain": [
       "3-element Array{Float64,1}:\n",
       " -0.5714285714285726\n",
       "  3.942857142857151\n",
       " -2.8000000000000145"
      ]
     },
     "execution_count": 32,
     "metadata": {},
     "output_type": "execute_result"
    }
   ],
   "source": [
    "A \\ y"
   ]
  },
  {
   "cell_type": "code",
   "execution_count": 33,
   "metadata": {},
   "outputs": [
    {
     "data": {
      "text/html": [
       "&#45;2.8000000000000145 &#43; 3.942857142857151&#8729;x &#45; 0.5714285714285726&#8729;x<sup>2</sup>"
      ],
      "text/latex": [
       "$-2.8000000000000145 + 3.942857142857151\\cdot x - 0.5714285714285726\\cdot x^{2}$"
      ],
      "text/plain": [
       "Poly(-2.8000000000000145 + 3.942857142857151*x - 0.5714285714285726*x^2)"
      ]
     },
     "execution_count": 33,
     "metadata": {},
     "output_type": "execute_result"
    }
   ],
   "source": [
    "#sprawdzamy czy dostaliśmy dobre wspólczynniki\n",
    "using Polynomials\n",
    "polyfit(x,y, 2)"
   ]
  },
  {
   "cell_type": "markdown",
   "metadata": {},
   "source": [
    "Funkcja <a href=\"https://github.com/JuliaMath/Polynomials.jl/blob/ef129b779d08f791eb607e390ca9d31d8c08ead1/src/Polynomials.jl#L689-L707\">\n",
    "polyfit</a> używa własnie tej metody\n"
   ]
  },
  {
   "cell_type": "markdown",
   "metadata": {},
   "source": [
    "### Zadania"
   ]
  },
  {
   "cell_type": "markdown",
   "metadata": {},
   "source": [
    "#### Zadanie 1 \n",
    "Ustal losowe (referencyjne) x rozmiaru 1000 oraz losowe A rozmiaru 1000x1000, policz b=A*x.\n",
    "Nastepnie rozwiąż równanie Ax=b trzema metodami:\n",
    "- inv()\n",
    "- \\\n",
    "- factorize()\n",
    "\n",
    "Porównaj jakość wyniku (zmierzoną jako długość różnicy wektorów wyniku oraz referencyjnego x) oraz czas wykonania (@time). UWAGA: pierwsze wykonanie funkcji w Julii zawiera czas kompilacji tej funkcji, dlatego czas mierzymy  od drugiego wywołania !\n",
    "\n",
    "#### Zadanie 2\n",
    "Policz współczynniki wielomianu aproksymującego dowolne dane z poprzednich laboratoriów tworząc wprost układ równań i rozwiązujac go (metoda zaprezentowana na tym laboratorium).\n",
    "Porównaj wyniki z tymi otrzymanymi poprzednio.\n",
    "\n",
    "#### Zadanie 3\n",
    "\n",
    "Znajdź i zaprezentuj działanie innego zastosowania wybranej faktoryzacji. Przykładowe (ale nie jedyne!) tematy:\n",
    "\n",
    "-    tworzenie pseudoinversji macierzy (http://buzzard.ups.edu/courses/2014spring/420projects/math420-UPS-spring-2014-macausland-pseudo-inverse-present.pdf).\n",
    "\n",
    "-   uzycie faktoryzacji QR do znajdowania wartości własnych (https://en.wikipedia.org/wiki/QR_algorithm)\n",
    "\n",
    "-  zastosowanie faktoryzacji SVD - przykład zastosowania w uczeniu maszynowym https://blog.statsbot.co/singular-value-decomposition-tutorial-52c695315254\n",
    "\n",
    "\n"
   ]
  },
  {
   "cell_type": "code",
   "execution_count": null,
   "metadata": {},
   "outputs": [],
   "source": []
  }
 ],
 "metadata": {
  "kernelspec": {
   "display_name": "Julia 1.4.0",
   "language": "julia",
   "name": "julia-1.4"
  },
  "language_info": {
   "file_extension": ".jl",
   "mimetype": "application/julia",
   "name": "julia",
   "version": "1.4.0"
  }
 },
 "nbformat": 4,
 "nbformat_minor": 2
}
