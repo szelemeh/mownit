{
 "cells": [
  {
   "cell_type": "code",
   "execution_count": null,
   "metadata": {},
   "outputs": [],
   "source": [
    "#Zadanie 2 \n",
    "#Zbadać, jak zmienia się odległość między kolejnymi liczbami zminnoprzecinkowymi reprezentowanymi w komputerze za pomocą języka Julia. \n",
    "#Narysować wykres używając Plots zależności odległości od wartości liczby dla zakresu od 1.0 do 1000.0 z krokiem 1.0."
   ]
  },
  {
   "cell_type": "code",
   "execution_count": null,
   "metadata": {},
   "outputs": [],
   "source": [
    "import Pkg\n",
    "Pkg.add(\"Plots\")"
   ]
  },
  {
   "cell_type": "code",
   "execution_count": null,
   "metadata": {},
   "outputs": [],
   "source": [
    "using Plots\n",
    "\n",
    "start = 1.0\n",
    "finish = 1000.0\n",
    "step = 1.0\n",
    "range = start:step:finish\n",
    "epss = Float64[]\n",
    "\n",
    "for i in range\n",
    "    push!(epss, nextfloat(i) - i)\n",
    "end\n",
    "\n",
    "scatter(range, epss)"
   ]
  }
 ],
 "metadata": {
  "kernelspec": {
   "display_name": "Julia 1.3.1",
   "language": "julia",
   "name": "julia-1.3"
  },
  "language_info": {
   "file_extension": ".jl",
   "mimetype": "application/julia",
   "name": "julia",
   "version": "1.3.1"
  }
 },
 "nbformat": 4,
 "nbformat_minor": 4
}
