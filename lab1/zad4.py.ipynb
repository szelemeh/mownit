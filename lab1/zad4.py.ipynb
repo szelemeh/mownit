{
 "cells": [
  {
   "cell_type": "code",
   "execution_count": 13,
   "metadata": {},
   "outputs": [],
   "source": []
  },
  {
   "cell_type": "code",
   "execution_count": 25,
   "metadata": {},
   "outputs": [],
   "source": [
    "def factorial(num):\n",
    "    if num == 0: return 1\n",
    "    if num < 0: return -1\n",
    "    result = 1\n",
    "    while(num>=1):\n",
    "        result *= num\n",
    "        num -= 1\n",
    "    return result\n",
    "\n",
    "def unstable_e_to(x):\n",
    "    result = 0\n",
    "    for i in range(1, 20):\n",
    "        result += pow(x, i)/factorial(i)\n",
    "    return result"
   ]
  },
  {
   "cell_type": "code",
   "execution_count": 26,
   "metadata": {},
   "outputs": [
    {
     "name": "stdout",
     "output_type": "stream",
     "text": [
      "Niepoprawny wynik:  -0.9932936589457844\n",
      "Poprawny wynik:  0.006783657264000891\n"
     ]
    }
   ],
   "source": [
    "print(\"Niepoprawny wynik: \", unstable_e_to(-5))\n",
    "print(\"Poprawny wynik: \", 1/unstable_e_to(5))"
   ]
  },
  {
   "cell_type": "code",
   "execution_count": 44,
   "metadata": {},
   "outputs": [],
   "source": [
    "def stable_e_to(x):\n",
    "    x_is_negative = False\n",
    "    if x < 0: \n",
    "        x = -x\n",
    "        x_is_negative = True\n",
    "        \n",
    "    result = 0\n",
    "    \n",
    "    for i in range(0, 20):\n",
    "        result += pow(x, i)/factorial(i)\n",
    "    \n",
    "    if x_is_negative:\n",
    "        return 1/result\n",
    "    else:\n",
    "        return result"
   ]
  },
  {
   "cell_type": "code",
   "execution_count": null,
   "metadata": {},
   "outputs": [],
   "source": []
  }
 ],
 "metadata": {
  "kernelspec": {
   "display_name": "Python 3",
   "language": "python",
   "name": "python3"
  },
  "language_info": {
   "codemirror_mode": {
    "name": "ipython",
    "version": 3
   },
   "file_extension": ".py",
   "mimetype": "text/x-python",
   "name": "python",
   "nbconvert_exporter": "python",
   "pygments_lexer": "ipython3",
   "version": "3.6.5"
  }
 },
 "nbformat": 4,
 "nbformat_minor": 4
}
