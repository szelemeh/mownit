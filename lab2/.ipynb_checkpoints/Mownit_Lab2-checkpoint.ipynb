{
 "cells": [
  {
   "cell_type": "markdown",
   "metadata": {},
   "source": [
    "# MOwNiT\n",
    "## Laboratorium 2\n",
    "### Analiza danych - DataFrames"
   ]
  },
  {
   "cell_type": "markdown",
   "metadata": {},
   "source": [
    "- Zaawansowany pakiet do działania na tabelkach nxm danych \n",
    "- Podobne do pandas DataFrames w Pythonie albo data.frame w R\n",
    "- Specjalistyczne funkcje do statystyki\n",
    "- należy zaistalować pakiety:\n",
    "\n",
    "```julia\n",
    "import Pkg\n",
    "Pkg.add(\"DataFrames\")\n",
    "```\n",
    "\n",
    "- DataFrame to rodzaj bazy danych in-memory\n",
    "- Składa się z kolumn, do których odwołujemy się używając symboli\n",
    "- Każda z kolumn może przechowywać inny typ (inaczej niż w dwuwymiarowych tablicach )\n",
    "- od wersji 0.11 każda z kolumn jest typu Array{T,1} gdzie T jest okreslonym typem danych (np. Float64)\n",
    "- strona pakietu: https://github.com/JuliaStats/DataFrames.jl\n",
    "- dokumentacja najnowszej wersji 0.14 : https://juliadata.github.io/DataFrames.jl/stable/index.html\n",
    "\n",
    "\n",
    "\n"
   ]
  },
  {
   "cell_type": "code",
   "execution_count": 1,
   "metadata": {},
   "outputs": [
    {
     "name": "stdout",
     "output_type": "stream",
     "text": [
      "4×3 DataFrame\n",
      "│ Row │ MojaKolumna │ x2      │ Col3 │\n",
      "│     │ \u001b[90mInt64\u001b[39m       │ \u001b[90mFloat64\u001b[39m │ \u001b[90mBool\u001b[39m │\n",
      "├─────┼─────────────┼─────────┼──────┤\n",
      "│ 1   │ 1           │ 4.0     │ 1    │\n",
      "│ 2   │ 2           │ 3.14159 │ 0    │\n",
      "│ 3   │ 3           │ 1.41421 │ 1    │\n",
      "│ 4   │ 4           │ 42.0    │ 0    │"
     ]
    }
   ],
   "source": [
    "# Tworzenie DataFrame\n",
    "using DataFrames\n",
    "df1=DataFrame()\n",
    "df1.MojaKolumna= 1:4\n",
    "df1.x2= [4,pi,sqrt(2), 42]\n",
    "df1.Col3= [true,false, true, false]\n",
    "show(df1)"
   ]
  },
  {
   "cell_type": "code",
   "execution_count": 2,
   "metadata": {},
   "outputs": [
    {
     "ename": "LoadError",
     "evalue": "syntax: missing comma or ) in argument list",
     "output_type": "error",
     "traceback": [
      "syntax: missing comma or ) in argument list",
      ""
     ]
    }
   ],
   "source": [
    "typeof(df1.2)"
   ]
  },
  {
   "cell_type": "code",
   "execution_count": 3,
   "metadata": {},
   "outputs": [
    {
     "data": {
      "text/plain": [
       "Array{Bool,1}"
      ]
     },
     "execution_count": 3,
     "metadata": {},
     "output_type": "execute_result"
    }
   ],
   "source": [
    "typeof(df1.Col3)"
   ]
  },
  {
   "cell_type": "code",
   "execution_count": 4,
   "metadata": {},
   "outputs": [
    {
     "data": {
      "text/html": [
       "<table class=\"data-frame\"><thead><tr><th></th><th>MojaKolumna</th><th>Col2</th><th>Col3</th></tr><tr><th></th><th>Int64</th><th>Float64</th><th>Bool</th></tr></thead><tbody><p>10 rows × 3 columns</p><tr><th>1</th><td>1</td><td>2.0</td><td>1</td></tr><tr><th>2</th><td>2</td><td>3.14159</td><td>1</td></tr><tr><th>3</th><td>3</td><td>1.41421</td><td>0</td></tr><tr><th>4</th><td>4</td><td>3.0</td><td>1</td></tr><tr><th>5</th><td>5</td><td>4.0</td><td>0</td></tr><tr><th>6</th><td>6</td><td>2.0</td><td>1</td></tr><tr><th>7</th><td>7</td><td>3.14159</td><td>1</td></tr><tr><th>8</th><td>8</td><td>1.41421</td><td>0</td></tr><tr><th>9</th><td>9</td><td>3.0</td><td>1</td></tr><tr><th>10</th><td>10</td><td>4.0</td><td>0</td></tr></tbody></table>"
      ],
      "text/latex": [
       "\\begin{tabular}{r|ccc}\n",
       "\t& MojaKolumna & Col2 & Col3\\\\\n",
       "\t\\hline\n",
       "\t& Int64 & Float64 & Bool\\\\\n",
       "\t\\hline\n",
       "\t1 & 1 & 2.0 & 1 \\\\\n",
       "\t2 & 2 & 3.14159 & 1 \\\\\n",
       "\t3 & 3 & 1.41421 & 0 \\\\\n",
       "\t4 & 4 & 3.0 & 1 \\\\\n",
       "\t5 & 5 & 4.0 & 0 \\\\\n",
       "\t6 & 6 & 2.0 & 1 \\\\\n",
       "\t7 & 7 & 3.14159 & 1 \\\\\n",
       "\t8 & 8 & 1.41421 & 0 \\\\\n",
       "\t9 & 9 & 3.0 & 1 \\\\\n",
       "\t10 & 10 & 4.0 & 0 \\\\\n",
       "\\end{tabular}\n"
      ],
      "text/plain": [
       "10×3 DataFrame\n",
       "│ Row │ MojaKolumna │ Col2    │ Col3 │\n",
       "│     │ \u001b[90mInt64\u001b[39m       │ \u001b[90mFloat64\u001b[39m │ \u001b[90mBool\u001b[39m │\n",
       "├─────┼─────────────┼─────────┼──────┤\n",
       "│ 1   │ 1           │ 2.0     │ 1    │\n",
       "│ 2   │ 2           │ 3.14159 │ 1    │\n",
       "│ 3   │ 3           │ 1.41421 │ 0    │\n",
       "│ 4   │ 4           │ 3.0     │ 1    │\n",
       "│ 5   │ 5           │ 4.0     │ 0    │\n",
       "│ 6   │ 6           │ 2.0     │ 1    │\n",
       "│ 7   │ 7           │ 3.14159 │ 1    │\n",
       "│ 8   │ 8           │ 1.41421 │ 0    │\n",
       "│ 9   │ 9           │ 3.0     │ 1    │\n",
       "│ 10  │ 10          │ 4.0     │ 0    │"
      ]
     },
     "execution_count": 4,
     "metadata": {},
     "output_type": "execute_result"
    }
   ],
   "source": [
    "# możemy też utworzyć DataFrame używając konstruktora\n",
    "df2=DataFrame(MojaKolumna=1:10, \n",
    "    Col2=[2,pi, sqrt(2), 3, 4,2,pi, sqrt(2), 3, 4], \n",
    "    Col3=[true,true,false,true,false,true,true,false,true,false])"
   ]
  },
  {
   "cell_type": "code",
   "execution_count": 5,
   "metadata": {},
   "outputs": [
    {
     "data": {
      "text/plain": [
       "10"
      ]
     },
     "execution_count": 5,
     "metadata": {},
     "output_type": "execute_result"
    }
   ],
   "source": [
    "# ilosc wierszy\n",
    "size(df2, 1) "
   ]
  },
  {
   "cell_type": "code",
   "execution_count": 6,
   "metadata": {},
   "outputs": [
    {
     "data": {
      "text/plain": [
       "3"
      ]
     },
     "execution_count": 6,
     "metadata": {},
     "output_type": "execute_result"
    }
   ],
   "source": [
    "#ilosc kolumn\n",
    "size(df2, 2) "
   ]
  },
  {
   "cell_type": "code",
   "execution_count": 7,
   "metadata": {},
   "outputs": [
    {
     "name": "stdout",
     "output_type": "stream",
     "text": [
      "[2.0, 3.141592653589793, 1.4142135623730951, 3.0, 4.0, 2.0, 3.141592653589793, 1.4142135623730951, 3.0, 4.0]"
     ]
    }
   ],
   "source": [
    "# można odwoływać się po indeksie\n",
    "show(df2[:,2])"
   ]
  },
  {
   "cell_type": "code",
   "execution_count": 8,
   "metadata": {},
   "outputs": [
    {
     "name": "stdout",
     "output_type": "stream",
     "text": [
      "[2.0, 3.141592653589793, 1.4142135623730951, 3.0, 4.0, 2.0, 3.141592653589793, 1.4142135623730951, 3.0, 4.0]"
     ]
    }
   ],
   "source": [
    "# albo po symbolu kolumny\n",
    "show(df2[!,:Col2])"
   ]
  },
  {
   "cell_type": "code",
   "execution_count": 9,
   "metadata": {},
   "outputs": [
    {
     "name": "stdout",
     "output_type": "stream",
     "text": [
      "DataFrameRow\n",
      "│ Row │ MojaKolumna │ Col2    │ Col3 │\n",
      "│     │ \u001b[90mInt64\u001b[39m       │ \u001b[90mFloat64\u001b[39m │ \u001b[90mBool\u001b[39m │\n",
      "├─────┼─────────────┼─────────┼──────┤\n",
      "│ 3   │ 3           │ 1.41421 │ 0    │"
     ]
    }
   ],
   "source": [
    "# wiersze lub podzbiory wierszy i kolumn uzyskujemy poprzez operator (:). Wynikiem jest nowy DataFrame\n",
    "show(df2[3,:])"
   ]
  },
  {
   "cell_type": "code",
   "execution_count": 10,
   "metadata": {},
   "outputs": [
    {
     "data": {
      "text/html": [
       "<table class=\"data-frame\"><thead><tr><th></th><th>MojaKolumna</th><th>Col2</th><th>Col3</th></tr><tr><th></th><th>Int64</th><th>Float64</th><th>Bool</th></tr></thead><tbody><p>2 rows × 3 columns</p><tr><th>1</th><td>2</td><td>3.14159</td><td>1</td></tr><tr><th>2</th><td>3</td><td>1.41421</td><td>0</td></tr></tbody></table>"
      ],
      "text/latex": [
       "\\begin{tabular}{r|ccc}\n",
       "\t& MojaKolumna & Col2 & Col3\\\\\n",
       "\t\\hline\n",
       "\t& Int64 & Float64 & Bool\\\\\n",
       "\t\\hline\n",
       "\t1 & 2 & 3.14159 & 1 \\\\\n",
       "\t2 & 3 & 1.41421 & 0 \\\\\n",
       "\\end{tabular}\n"
      ],
      "text/plain": [
       "2×3 DataFrame\n",
       "│ Row │ MojaKolumna │ Col2    │ Col3 │\n",
       "│     │ \u001b[90mInt64\u001b[39m       │ \u001b[90mFloat64\u001b[39m │ \u001b[90mBool\u001b[39m │\n",
       "├─────┼─────────────┼─────────┼──────┤\n",
       "│ 1   │ 2           │ 3.14159 │ 1    │\n",
       "│ 2   │ 3           │ 1.41421 │ 0    │"
      ]
     },
     "execution_count": 10,
     "metadata": {},
     "output_type": "execute_result"
    }
   ],
   "source": [
    "# drugi i trzeci wiersz\n",
    "df2[2:3, :]"
   ]
  },
  {
   "cell_type": "code",
   "execution_count": 11,
   "metadata": {},
   "outputs": [
    {
     "data": {
      "text/plain": [
       "2-element Array{Float64,1}:\n",
       " 3.141592653589793 \n",
       " 1.4142135623730951"
      ]
     },
     "execution_count": 11,
     "metadata": {},
     "output_type": "execute_result"
    }
   ],
   "source": [
    "# druga kolumna drugiego i trzeciego wiersza\n",
    "df2[2:3, :Col2]"
   ]
  },
  {
   "cell_type": "code",
   "execution_count": 12,
   "metadata": {},
   "outputs": [
    {
     "data": {
      "text/html": [
       "<table class=\"data-frame\"><thead><tr><th></th><th>Col2</th><th>Col3</th></tr><tr><th></th><th>Float64</th><th>Bool</th></tr></thead><tbody><p>2 rows × 2 columns</p><tr><th>1</th><td>3.14159</td><td>1</td></tr><tr><th>2</th><td>1.41421</td><td>0</td></tr></tbody></table>"
      ],
      "text/latex": [
       "\\begin{tabular}{r|cc}\n",
       "\t& Col2 & Col3\\\\\n",
       "\t\\hline\n",
       "\t& Float64 & Bool\\\\\n",
       "\t\\hline\n",
       "\t1 & 3.14159 & 1 \\\\\n",
       "\t2 & 1.41421 & 0 \\\\\n",
       "\\end{tabular}\n"
      ],
      "text/plain": [
       "2×2 DataFrame\n",
       "│ Row │ Col2    │ Col3 │\n",
       "│     │ \u001b[90mFloat64\u001b[39m │ \u001b[90mBool\u001b[39m │\n",
       "├─────┼─────────┼──────┤\n",
       "│ 1   │ 3.14159 │ 1    │\n",
       "│ 2   │ 1.41421 │ 0    │"
      ]
     },
     "execution_count": 12,
     "metadata": {},
     "output_type": "execute_result"
    }
   ],
   "source": [
    "# druga i trzecia kolumna drugiego i trzeciego wiersza\n",
    "df2[2:3,[:Col2, :Col3]]"
   ]
  },
  {
   "cell_type": "code",
   "execution_count": 13,
   "metadata": {},
   "outputs": [
    {
     "data": {
      "text/html": [
       "<p>DataFrameRow (3 columns)</p><table class=\"data-frame\"><thead><tr><th></th><th>MojaKolumna</th><th>Col2</th><th>Col3</th></tr><tr><th></th><th>Int64</th><th>Float64</th><th>Bool</th></tr></thead><tbody><tr><th>1</th><td>1</td><td>2.0</td><td>1</td></tr></tbody></table>"
      ],
      "text/latex": [
       "\\begin{tabular}{r|ccc}\n",
       "\t& MojaKolumna & Col2 & Col3\\\\\n",
       "\t\\hline\n",
       "\t& Int64 & Float64 & Bool\\\\\n",
       "\t\\hline\n",
       "\t1 & 1 & 2.0 & 1 \\\\\n",
       "\\end{tabular}\n"
      ],
      "text/plain": [
       "DataFrameRow\n",
       "│ Row │ MojaKolumna │ Col2    │ Col3 │\n",
       "│     │ \u001b[90mInt64\u001b[39m       │ \u001b[90mFloat64\u001b[39m │ \u001b[90mBool\u001b[39m │\n",
       "├─────┼─────────────┼─────────┼──────┤\n",
       "│ 1   │ 1           │ 2.0     │ 1    │"
      ]
     },
     "execution_count": 13,
     "metadata": {},
     "output_type": "execute_result"
    }
   ],
   "source": [
    "# pierwsze sześć wierszy\n",
    "DataFrames.first(df2)"
   ]
  },
  {
   "cell_type": "code",
   "execution_count": 14,
   "metadata": {},
   "outputs": [
    {
     "data": {
      "text/html": [
       "<p>DataFrameRow (3 columns)</p><table class=\"data-frame\"><thead><tr><th></th><th>MojaKolumna</th><th>Col2</th><th>Col3</th></tr><tr><th></th><th>Int64</th><th>Float64</th><th>Bool</th></tr></thead><tbody><tr><th>10</th><td>10</td><td>4.0</td><td>0</td></tr></tbody></table>"
      ],
      "text/latex": [
       "\\begin{tabular}{r|ccc}\n",
       "\t& MojaKolumna & Col2 & Col3\\\\\n",
       "\t\\hline\n",
       "\t& Int64 & Float64 & Bool\\\\\n",
       "\t\\hline\n",
       "\t10 & 10 & 4.0 & 0 \\\\\n",
       "\\end{tabular}\n"
      ],
      "text/plain": [
       "DataFrameRow\n",
       "│ Row │ MojaKolumna │ Col2    │ Col3 │\n",
       "│     │ \u001b[90mInt64\u001b[39m       │ \u001b[90mFloat64\u001b[39m │ \u001b[90mBool\u001b[39m │\n",
       "├─────┼─────────────┼─────────┼──────┤\n",
       "│ 10  │ 10          │ 4.0     │ 0    │"
      ]
     },
     "execution_count": 14,
     "metadata": {},
     "output_type": "execute_result"
    }
   ],
   "source": [
    "# ostatnie sześć wierszy\n",
    "DataFrames.last(df2)"
   ]
  },
  {
   "cell_type": "code",
   "execution_count": 15,
   "metadata": {},
   "outputs": [
    {
     "data": {
      "text/plain": [
       "3-element Array{Symbol,1}:\n",
       " :MojaKolumna\n",
       " :Col2       \n",
       " :Col3       "
      ]
     },
     "execution_count": 15,
     "metadata": {},
     "output_type": "execute_result"
    }
   ],
   "source": [
    "# nazwy kolumn\n",
    "names(df2)"
   ]
  },
  {
   "cell_type": "code",
   "execution_count": 16,
   "metadata": {},
   "outputs": [
    {
     "data": {
      "text/plain": [
       "3-element Array{DataType,1}:\n",
       " Int64  \n",
       " Float64\n",
       " Bool   "
      ]
     },
     "execution_count": 16,
     "metadata": {},
     "output_type": "execute_result"
    }
   ],
   "source": [
    "# typy kolumn\n",
    "eltype.(eachcol(df2))"
   ]
  },
  {
   "cell_type": "code",
   "execution_count": 17,
   "metadata": {},
   "outputs": [
    {
     "data": {
      "text/html": [
       "<table class=\"data-frame\"><thead><tr><th></th><th>variable</th><th>mean</th><th>min</th><th>median</th><th>max</th><th>nunique</th><th>nmissing</th><th>eltype</th></tr><tr><th></th><th>Symbol</th><th>Float64</th><th>Real</th><th>Float64</th><th>Real</th><th>Nothing</th><th>Nothing</th><th>DataType</th></tr></thead><tbody><p>3 rows × 8 columns</p><tr><th>1</th><td>MojaKolumna</td><td>5.5</td><td>1</td><td>5.5</td><td>10</td><td></td><td></td><td>Int64</td></tr><tr><th>2</th><td>Col2</td><td>2.71116</td><td>1.41421</td><td>3.0</td><td>4.0</td><td></td><td></td><td>Float64</td></tr><tr><th>3</th><td>Col3</td><td>0.6</td><td>0</td><td>1.0</td><td>1</td><td></td><td></td><td>Bool</td></tr></tbody></table>"
      ],
      "text/latex": [
       "\\begin{tabular}{r|cccccccc}\n",
       "\t& variable & mean & min & median & max & nunique & nmissing & eltype\\\\\n",
       "\t\\hline\n",
       "\t& Symbol & Float64 & Real & Float64 & Real & Nothing & Nothing & DataType\\\\\n",
       "\t\\hline\n",
       "\t1 & MojaKolumna & 5.5 & 1 & 5.5 & 10 &  &  & Int64 \\\\\n",
       "\t2 & Col2 & 2.71116 & 1.41421 & 3.0 & 4.0 &  &  & Float64 \\\\\n",
       "\t3 & Col3 & 0.6 & 0 & 1.0 & 1 &  &  & Bool \\\\\n",
       "\\end{tabular}\n"
      ],
      "text/plain": [
       "3×8 DataFrame. Omitted printing of 1 columns\n",
       "│ Row │ variable    │ mean    │ min     │ median  │ max  │ nunique │ nmissing │\n",
       "│     │ \u001b[90mSymbol\u001b[39m      │ \u001b[90mFloat64\u001b[39m │ \u001b[90mReal\u001b[39m    │ \u001b[90mFloat64\u001b[39m │ \u001b[90mReal\u001b[39m │ \u001b[90mNothing\u001b[39m │ \u001b[90mNothing\u001b[39m  │\n",
       "├─────┼─────────────┼─────────┼─────────┼─────────┼──────┼─────────┼──────────┤\n",
       "│ 1   │ MojaKolumna │ 5.5     │ 1       │ 5.5     │ 10   │         │          │\n",
       "│ 2   │ Col2        │ 2.71116 │ 1.41421 │ 3.0     │ 4.0  │         │          │\n",
       "│ 3   │ Col3        │ 0.6     │ 0       │ 1.0     │ 1    │         │          │"
      ]
     },
     "execution_count": 17,
     "metadata": {},
     "output_type": "execute_result"
    }
   ],
   "source": [
    "# podstawowe dane statystyczne o wartościach w kolumnie\n",
    "describe(df2)"
   ]
  },
  {
   "cell_type": "code",
   "execution_count": 18,
   "metadata": {},
   "outputs": [
    {
     "data": {
      "text/plain": [
       "2.711161243192578"
      ]
     },
     "execution_count": 18,
     "metadata": {},
     "output_type": "execute_result"
    }
   ],
   "source": [
    "using Statistics\n",
    "mean(df2.Col2)"
   ]
  },
  {
   "cell_type": "code",
   "execution_count": 19,
   "metadata": {},
   "outputs": [
    {
     "data": {
      "text/plain": [
       "0.9150284373648316"
      ]
     },
     "execution_count": 19,
     "metadata": {},
     "output_type": "execute_result"
    }
   ],
   "source": [
    "var(df2.Col2)"
   ]
  },
  {
   "cell_type": "code",
   "execution_count": 20,
   "metadata": {},
   "outputs": [
    {
     "data": {
      "text/html": [
       "<table class=\"data-frame\"><thead><tr><th></th><th>fixed acidity</th><th>volatile acidity</th><th>citric acid</th><th>residual sugar</th><th>chlorides</th><th>free sulfur dioxide</th></tr><tr><th></th><th>Float64</th><th>Float64</th><th>Float64</th><th>Float64</th><th>Float64</th><th>Float64</th></tr></thead><tbody><p>1,599 rows × 12 columns (omitted printing of 6 columns)</p><tr><th>1</th><td>7.4</td><td>0.7</td><td>0.0</td><td>1.9</td><td>0.076</td><td>11.0</td></tr><tr><th>2</th><td>7.8</td><td>0.88</td><td>0.0</td><td>2.6</td><td>0.098</td><td>25.0</td></tr><tr><th>3</th><td>7.8</td><td>0.76</td><td>0.04</td><td>2.3</td><td>0.092</td><td>15.0</td></tr><tr><th>4</th><td>11.2</td><td>0.28</td><td>0.56</td><td>1.9</td><td>0.075</td><td>17.0</td></tr><tr><th>5</th><td>7.4</td><td>0.7</td><td>0.0</td><td>1.9</td><td>0.076</td><td>11.0</td></tr><tr><th>6</th><td>7.4</td><td>0.66</td><td>0.0</td><td>1.8</td><td>0.075</td><td>13.0</td></tr><tr><th>7</th><td>7.9</td><td>0.6</td><td>0.06</td><td>1.6</td><td>0.069</td><td>15.0</td></tr><tr><th>8</th><td>7.3</td><td>0.65</td><td>0.0</td><td>1.2</td><td>0.065</td><td>15.0</td></tr><tr><th>9</th><td>7.8</td><td>0.58</td><td>0.02</td><td>2.0</td><td>0.073</td><td>9.0</td></tr><tr><th>10</th><td>7.5</td><td>0.5</td><td>0.36</td><td>6.1</td><td>0.071</td><td>17.0</td></tr><tr><th>11</th><td>6.7</td><td>0.58</td><td>0.08</td><td>1.8</td><td>0.097</td><td>15.0</td></tr><tr><th>12</th><td>7.5</td><td>0.5</td><td>0.36</td><td>6.1</td><td>0.071</td><td>17.0</td></tr><tr><th>13</th><td>5.6</td><td>0.615</td><td>0.0</td><td>1.6</td><td>0.089</td><td>16.0</td></tr><tr><th>14</th><td>7.8</td><td>0.61</td><td>0.29</td><td>1.6</td><td>0.114</td><td>9.0</td></tr><tr><th>15</th><td>8.9</td><td>0.62</td><td>0.18</td><td>3.8</td><td>0.176</td><td>52.0</td></tr><tr><th>16</th><td>8.9</td><td>0.62</td><td>0.19</td><td>3.9</td><td>0.17</td><td>51.0</td></tr><tr><th>17</th><td>8.5</td><td>0.28</td><td>0.56</td><td>1.8</td><td>0.092</td><td>35.0</td></tr><tr><th>18</th><td>8.1</td><td>0.56</td><td>0.28</td><td>1.7</td><td>0.368</td><td>16.0</td></tr><tr><th>19</th><td>7.4</td><td>0.59</td><td>0.08</td><td>4.4</td><td>0.086</td><td>6.0</td></tr><tr><th>20</th><td>7.9</td><td>0.32</td><td>0.51</td><td>1.8</td><td>0.341</td><td>17.0</td></tr><tr><th>21</th><td>8.9</td><td>0.22</td><td>0.48</td><td>1.8</td><td>0.077</td><td>29.0</td></tr><tr><th>22</th><td>7.6</td><td>0.39</td><td>0.31</td><td>2.3</td><td>0.082</td><td>23.0</td></tr><tr><th>23</th><td>7.9</td><td>0.43</td><td>0.21</td><td>1.6</td><td>0.106</td><td>10.0</td></tr><tr><th>24</th><td>8.5</td><td>0.49</td><td>0.11</td><td>2.3</td><td>0.084</td><td>9.0</td></tr><tr><th>25</th><td>6.9</td><td>0.4</td><td>0.14</td><td>2.4</td><td>0.085</td><td>21.0</td></tr><tr><th>26</th><td>6.3</td><td>0.39</td><td>0.16</td><td>1.4</td><td>0.08</td><td>11.0</td></tr><tr><th>27</th><td>7.6</td><td>0.41</td><td>0.24</td><td>1.8</td><td>0.08</td><td>4.0</td></tr><tr><th>28</th><td>7.9</td><td>0.43</td><td>0.21</td><td>1.6</td><td>0.106</td><td>10.0</td></tr><tr><th>29</th><td>7.1</td><td>0.71</td><td>0.0</td><td>1.9</td><td>0.08</td><td>14.0</td></tr><tr><th>30</th><td>7.8</td><td>0.645</td><td>0.0</td><td>2.0</td><td>0.082</td><td>8.0</td></tr><tr><th>&vellip;</th><td>&vellip;</td><td>&vellip;</td><td>&vellip;</td><td>&vellip;</td><td>&vellip;</td><td>&vellip;</td></tr></tbody></table>"
      ],
      "text/latex": [
       "\\begin{tabular}{r|ccccccc}\n",
       "\t& fixed acidity & volatile acidity & citric acid & residual sugar & chlorides & free sulfur dioxide & \\\\\n",
       "\t\\hline\n",
       "\t& Float64 & Float64 & Float64 & Float64 & Float64 & Float64 & \\\\\n",
       "\t\\hline\n",
       "\t1 & 7.4 & 0.7 & 0.0 & 1.9 & 0.076 & 11.0 & $\\dots$ \\\\\n",
       "\t2 & 7.8 & 0.88 & 0.0 & 2.6 & 0.098 & 25.0 & $\\dots$ \\\\\n",
       "\t3 & 7.8 & 0.76 & 0.04 & 2.3 & 0.092 & 15.0 & $\\dots$ \\\\\n",
       "\t4 & 11.2 & 0.28 & 0.56 & 1.9 & 0.075 & 17.0 & $\\dots$ \\\\\n",
       "\t5 & 7.4 & 0.7 & 0.0 & 1.9 & 0.076 & 11.0 & $\\dots$ \\\\\n",
       "\t6 & 7.4 & 0.66 & 0.0 & 1.8 & 0.075 & 13.0 & $\\dots$ \\\\\n",
       "\t7 & 7.9 & 0.6 & 0.06 & 1.6 & 0.069 & 15.0 & $\\dots$ \\\\\n",
       "\t8 & 7.3 & 0.65 & 0.0 & 1.2 & 0.065 & 15.0 & $\\dots$ \\\\\n",
       "\t9 & 7.8 & 0.58 & 0.02 & 2.0 & 0.073 & 9.0 & $\\dots$ \\\\\n",
       "\t10 & 7.5 & 0.5 & 0.36 & 6.1 & 0.071 & 17.0 & $\\dots$ \\\\\n",
       "\t11 & 6.7 & 0.58 & 0.08 & 1.8 & 0.097 & 15.0 & $\\dots$ \\\\\n",
       "\t12 & 7.5 & 0.5 & 0.36 & 6.1 & 0.071 & 17.0 & $\\dots$ \\\\\n",
       "\t13 & 5.6 & 0.615 & 0.0 & 1.6 & 0.089 & 16.0 & $\\dots$ \\\\\n",
       "\t14 & 7.8 & 0.61 & 0.29 & 1.6 & 0.114 & 9.0 & $\\dots$ \\\\\n",
       "\t15 & 8.9 & 0.62 & 0.18 & 3.8 & 0.176 & 52.0 & $\\dots$ \\\\\n",
       "\t16 & 8.9 & 0.62 & 0.19 & 3.9 & 0.17 & 51.0 & $\\dots$ \\\\\n",
       "\t17 & 8.5 & 0.28 & 0.56 & 1.8 & 0.092 & 35.0 & $\\dots$ \\\\\n",
       "\t18 & 8.1 & 0.56 & 0.28 & 1.7 & 0.368 & 16.0 & $\\dots$ \\\\\n",
       "\t19 & 7.4 & 0.59 & 0.08 & 4.4 & 0.086 & 6.0 & $\\dots$ \\\\\n",
       "\t20 & 7.9 & 0.32 & 0.51 & 1.8 & 0.341 & 17.0 & $\\dots$ \\\\\n",
       "\t21 & 8.9 & 0.22 & 0.48 & 1.8 & 0.077 & 29.0 & $\\dots$ \\\\\n",
       "\t22 & 7.6 & 0.39 & 0.31 & 2.3 & 0.082 & 23.0 & $\\dots$ \\\\\n",
       "\t23 & 7.9 & 0.43 & 0.21 & 1.6 & 0.106 & 10.0 & $\\dots$ \\\\\n",
       "\t24 & 8.5 & 0.49 & 0.11 & 2.3 & 0.084 & 9.0 & $\\dots$ \\\\\n",
       "\t25 & 6.9 & 0.4 & 0.14 & 2.4 & 0.085 & 21.0 & $\\dots$ \\\\\n",
       "\t26 & 6.3 & 0.39 & 0.16 & 1.4 & 0.08 & 11.0 & $\\dots$ \\\\\n",
       "\t27 & 7.6 & 0.41 & 0.24 & 1.8 & 0.08 & 4.0 & $\\dots$ \\\\\n",
       "\t28 & 7.9 & 0.43 & 0.21 & 1.6 & 0.106 & 10.0 & $\\dots$ \\\\\n",
       "\t29 & 7.1 & 0.71 & 0.0 & 1.9 & 0.08 & 14.0 & $\\dots$ \\\\\n",
       "\t30 & 7.8 & 0.645 & 0.0 & 2.0 & 0.082 & 8.0 & $\\dots$ \\\\\n",
       "\t$\\dots$ & $\\dots$ & $\\dots$ & $\\dots$ & $\\dots$ & $\\dots$ & $\\dots$ &  \\\\\n",
       "\\end{tabular}\n"
      ],
      "text/plain": [
       "1599×12 DataFrame. Omitted printing of 8 columns\n",
       "│ Row  │ fixed acidity │ volatile acidity │ citric acid │ residual sugar │\n",
       "│      │ \u001b[90mFloat64\u001b[39m       │ \u001b[90mFloat64\u001b[39m          │ \u001b[90mFloat64\u001b[39m     │ \u001b[90mFloat64\u001b[39m        │\n",
       "├──────┼───────────────┼──────────────────┼─────────────┼────────────────┤\n",
       "│ 1    │ 7.4           │ 0.7              │ 0.0         │ 1.9            │\n",
       "│ 2    │ 7.8           │ 0.88             │ 0.0         │ 2.6            │\n",
       "│ 3    │ 7.8           │ 0.76             │ 0.04        │ 2.3            │\n",
       "│ 4    │ 11.2          │ 0.28             │ 0.56        │ 1.9            │\n",
       "│ 5    │ 7.4           │ 0.7              │ 0.0         │ 1.9            │\n",
       "│ 6    │ 7.4           │ 0.66             │ 0.0         │ 1.8            │\n",
       "│ 7    │ 7.9           │ 0.6              │ 0.06        │ 1.6            │\n",
       "│ 8    │ 7.3           │ 0.65             │ 0.0         │ 1.2            │\n",
       "│ 9    │ 7.8           │ 0.58             │ 0.02        │ 2.0            │\n",
       "│ 10   │ 7.5           │ 0.5              │ 0.36        │ 6.1            │\n",
       "⋮\n",
       "│ 1589 │ 7.2           │ 0.66             │ 0.33        │ 2.5            │\n",
       "│ 1590 │ 6.6           │ 0.725            │ 0.2         │ 7.8            │\n",
       "│ 1591 │ 6.3           │ 0.55             │ 0.15        │ 1.8            │\n",
       "│ 1592 │ 5.4           │ 0.74             │ 0.09        │ 1.7            │\n",
       "│ 1593 │ 6.3           │ 0.51             │ 0.13        │ 2.3            │\n",
       "│ 1594 │ 6.8           │ 0.62             │ 0.08        │ 1.9            │\n",
       "│ 1595 │ 6.2           │ 0.6              │ 0.08        │ 2.0            │\n",
       "│ 1596 │ 5.9           │ 0.55             │ 0.1         │ 2.2            │\n",
       "│ 1597 │ 6.3           │ 0.51             │ 0.13        │ 2.3            │\n",
       "│ 1598 │ 5.9           │ 0.645            │ 0.12        │ 2.0            │\n",
       "│ 1599 │ 6.0           │ 0.31             │ 0.47        │ 3.6            │"
      ]
     },
     "execution_count": 20,
     "metadata": {},
     "output_type": "execute_result"
    }
   ],
   "source": [
    "using CSV\n",
    "input=\"winequality.csv\"\n",
    "mydata=CSV.read(input, delim=\";\")"
   ]
  },
  {
   "cell_type": "code",
   "execution_count": 21,
   "metadata": {},
   "outputs": [
    {
     "data": {
      "text/plain": [
       "DataFrame"
      ]
     },
     "execution_count": 21,
     "metadata": {},
     "output_type": "execute_result"
    }
   ],
   "source": [
    "typeof(mydata)"
   ]
  },
  {
   "cell_type": "code",
   "execution_count": 22,
   "metadata": {},
   "outputs": [
    {
     "data": {
      "text/plain": [
       "(1599, 12)"
      ]
     },
     "execution_count": 22,
     "metadata": {},
     "output_type": "execute_result"
    }
   ],
   "source": [
    "size(mydata)"
   ]
  },
  {
   "cell_type": "code",
   "execution_count": 23,
   "metadata": {},
   "outputs": [
    {
     "data": {
      "text/html": [
       "<table class=\"data-frame\"><thead><tr><th></th><th>quality</th><th>x1</th></tr><tr><th></th><th>Int64</th><th>Int64</th></tr></thead><tbody><p>6 rows × 2 columns</p><tr><th>1</th><td>5</td><td>681</td></tr><tr><th>2</th><td>6</td><td>638</td></tr><tr><th>3</th><td>7</td><td>199</td></tr><tr><th>4</th><td>4</td><td>53</td></tr><tr><th>5</th><td>8</td><td>18</td></tr><tr><th>6</th><td>3</td><td>10</td></tr></tbody></table>"
      ],
      "text/latex": [
       "\\begin{tabular}{r|cc}\n",
       "\t& quality & x1\\\\\n",
       "\t\\hline\n",
       "\t& Int64 & Int64\\\\\n",
       "\t\\hline\n",
       "\t1 & 5 & 681 \\\\\n",
       "\t2 & 6 & 638 \\\\\n",
       "\t3 & 7 & 199 \\\\\n",
       "\t4 & 4 & 53 \\\\\n",
       "\t5 & 8 & 18 \\\\\n",
       "\t6 & 3 & 10 \\\\\n",
       "\\end{tabular}\n"
      ],
      "text/plain": [
       "6×2 DataFrame\n",
       "│ Row │ quality │ x1    │\n",
       "│     │ \u001b[90mInt64\u001b[39m   │ \u001b[90mInt64\u001b[39m │\n",
       "├─────┼─────────┼───────┤\n",
       "│ 1   │ 5       │ 681   │\n",
       "│ 2   │ 6       │ 638   │\n",
       "│ 3   │ 7       │ 199   │\n",
       "│ 4   │ 4       │ 53    │\n",
       "│ 5   │ 8       │ 18    │\n",
       "│ 6   │ 3       │ 10    │"
      ]
     },
     "execution_count": 23,
     "metadata": {},
     "output_type": "execute_result"
    }
   ],
   "source": [
    "# grupowanie wierszy (tutaj po jakości (quality))\n",
    "# ostatni argument to funkcja albo wyrażenie \n",
    "#https://juliadata.github.io/DataFrames.jl/stable/man/split_apply_combine.html\n",
    "# przyklad: zliczanie ilosci win pogrupowanych po jakości\n",
    "wine_grouped=by(mydata, :quality, df->size(df,1))"
   ]
  },
  {
   "cell_type": "code",
   "execution_count": 24,
   "metadata": {},
   "outputs": [
    {
     "data": {
      "text/html": [
       "<table class=\"data-frame\"><thead><tr><th></th><th>quality</th><th>alcohol</th><th>size</th></tr><tr><th></th><th>Int64</th><th>Float64</th><th>Int64</th></tr></thead><tbody><p>190 rows × 3 columns</p><tr><th>1</th><td>3</td><td>8.4</td><td>1</td></tr><tr><th>2</th><td>3</td><td>9.0</td><td>1</td></tr><tr><th>3</th><td>3</td><td>9.7</td><td>1</td></tr><tr><th>4</th><td>3</td><td>9.8</td><td>1</td></tr><tr><th>5</th><td>3</td><td>9.9</td><td>1</td></tr><tr><th>6</th><td>3</td><td>9.95</td><td>1</td></tr><tr><th>7</th><td>3</td><td>10.2</td><td>1</td></tr><tr><th>8</th><td>3</td><td>10.7</td><td>1</td></tr><tr><th>9</th><td>3</td><td>10.9</td><td>1</td></tr><tr><th>10</th><td>3</td><td>11.0</td><td>1</td></tr><tr><th>11</th><td>4</td><td>9.0</td><td>2</td></tr><tr><th>12</th><td>4</td><td>9.05</td><td>1</td></tr><tr><th>13</th><td>4</td><td>9.1</td><td>2</td></tr><tr><th>14</th><td>4</td><td>9.2</td><td>3</td></tr><tr><th>15</th><td>4</td><td>9.3</td><td>2</td></tr><tr><th>16</th><td>4</td><td>9.4</td><td>2</td></tr><tr><th>17</th><td>4</td><td>9.6</td><td>6</td></tr><tr><th>18</th><td>4</td><td>9.7</td><td>2</td></tr><tr><th>19</th><td>4</td><td>9.8</td><td>3</td></tr><tr><th>20</th><td>4</td><td>9.9</td><td>1</td></tr><tr><th>21</th><td>4</td><td>10.0</td><td>4</td></tr><tr><th>22</th><td>4</td><td>10.1</td><td>1</td></tr><tr><th>23</th><td>4</td><td>10.3</td><td>1</td></tr><tr><th>24</th><td>4</td><td>10.4</td><td>3</td></tr><tr><th>25</th><td>4</td><td>10.5</td><td>1</td></tr><tr><th>26</th><td>4</td><td>10.9</td><td>3</td></tr><tr><th>27</th><td>4</td><td>11.0</td><td>4</td></tr><tr><th>28</th><td>4</td><td>11.1</td><td>1</td></tr><tr><th>29</th><td>4</td><td>11.2</td><td>3</td></tr><tr><th>30</th><td>4</td><td>11.3</td><td>1</td></tr><tr><th>&vellip;</th><td>&vellip;</td><td>&vellip;</td><td>&vellip;</td></tr></tbody></table>"
      ],
      "text/latex": [
       "\\begin{tabular}{r|ccc}\n",
       "\t& quality & alcohol & size\\\\\n",
       "\t\\hline\n",
       "\t& Int64 & Float64 & Int64\\\\\n",
       "\t\\hline\n",
       "\t1 & 3 & 8.4 & 1 \\\\\n",
       "\t2 & 3 & 9.0 & 1 \\\\\n",
       "\t3 & 3 & 9.7 & 1 \\\\\n",
       "\t4 & 3 & 9.8 & 1 \\\\\n",
       "\t5 & 3 & 9.9 & 1 \\\\\n",
       "\t6 & 3 & 9.95 & 1 \\\\\n",
       "\t7 & 3 & 10.2 & 1 \\\\\n",
       "\t8 & 3 & 10.7 & 1 \\\\\n",
       "\t9 & 3 & 10.9 & 1 \\\\\n",
       "\t10 & 3 & 11.0 & 1 \\\\\n",
       "\t11 & 4 & 9.0 & 2 \\\\\n",
       "\t12 & 4 & 9.05 & 1 \\\\\n",
       "\t13 & 4 & 9.1 & 2 \\\\\n",
       "\t14 & 4 & 9.2 & 3 \\\\\n",
       "\t15 & 4 & 9.3 & 2 \\\\\n",
       "\t16 & 4 & 9.4 & 2 \\\\\n",
       "\t17 & 4 & 9.6 & 6 \\\\\n",
       "\t18 & 4 & 9.7 & 2 \\\\\n",
       "\t19 & 4 & 9.8 & 3 \\\\\n",
       "\t20 & 4 & 9.9 & 1 \\\\\n",
       "\t21 & 4 & 10.0 & 4 \\\\\n",
       "\t22 & 4 & 10.1 & 1 \\\\\n",
       "\t23 & 4 & 10.3 & 1 \\\\\n",
       "\t24 & 4 & 10.4 & 3 \\\\\n",
       "\t25 & 4 & 10.5 & 1 \\\\\n",
       "\t26 & 4 & 10.9 & 3 \\\\\n",
       "\t27 & 4 & 11.0 & 4 \\\\\n",
       "\t28 & 4 & 11.1 & 1 \\\\\n",
       "\t29 & 4 & 11.2 & 3 \\\\\n",
       "\t30 & 4 & 11.3 & 1 \\\\\n",
       "\t$\\dots$ & $\\dots$ & $\\dots$ & $\\dots$ \\\\\n",
       "\\end{tabular}\n"
      ],
      "text/plain": [
       "190×3 DataFrame\n",
       "│ Row │ quality │ alcohol │ size  │\n",
       "│     │ \u001b[90mInt64\u001b[39m   │ \u001b[90mFloat64\u001b[39m │ \u001b[90mInt64\u001b[39m │\n",
       "├─────┼─────────┼─────────┼───────┤\n",
       "│ 1   │ 3       │ 8.4     │ 1     │\n",
       "│ 2   │ 3       │ 9.0     │ 1     │\n",
       "│ 3   │ 3       │ 9.7     │ 1     │\n",
       "│ 4   │ 3       │ 9.8     │ 1     │\n",
       "│ 5   │ 3       │ 9.9     │ 1     │\n",
       "│ 6   │ 3       │ 9.95    │ 1     │\n",
       "│ 7   │ 3       │ 10.2    │ 1     │\n",
       "│ 8   │ 3       │ 10.7    │ 1     │\n",
       "│ 9   │ 3       │ 10.9    │ 1     │\n",
       "│ 10  │ 3       │ 11.0    │ 1     │\n",
       "⋮\n",
       "│ 180 │ 8       │ 11.4    │ 1     │\n",
       "│ 181 │ 8       │ 11.7    │ 2     │\n",
       "│ 182 │ 8       │ 11.8    │ 1     │\n",
       "│ 183 │ 8       │ 12.5    │ 1     │\n",
       "│ 184 │ 8       │ 12.6    │ 1     │\n",
       "│ 185 │ 8       │ 12.7    │ 1     │\n",
       "│ 186 │ 8       │ 12.8    │ 1     │\n",
       "│ 187 │ 8       │ 12.9    │ 1     │\n",
       "│ 188 │ 8       │ 13.1    │ 1     │\n",
       "│ 189 │ 8       │ 13.4    │ 1     │\n",
       "│ 190 │ 8       │ 14.0    │ 2     │"
      ]
     },
     "execution_count": 24,
     "metadata": {},
     "output_type": "execute_result"
    }
   ],
   "source": [
    "#zaawansowane dzialanie na podgrupach\n",
    "df2=by(mydata, [:quality, :alcohol]) do mySubGroup\n",
    "          DataFrame(size = size(mySubGroup,1))\n",
    "        end\n",
    "sort(df2, [:quality, :alcohol])"
   ]
  },
  {
   "cell_type": "code",
   "execution_count": 25,
   "metadata": {},
   "outputs": [
    {
     "data": {
      "text/plain": [
       "\"dataframe1.csv\""
      ]
     },
     "execution_count": 25,
     "metadata": {},
     "output_type": "execute_result"
    }
   ],
   "source": [
    "# zapis do pliku\n",
    "# https://juliadata.github.io/DataFrames.jl/stable/man/getting_started.html#Importing-and-Exporting-Data-(I/O)-1\n",
    "CSV.write(\"dataframe1.csv\", mydata)"
   ]
  },
  {
   "cell_type": "markdown",
   "metadata": {},
   "source": [
    "\n",
    "### Graficzna reprezentacja DataFrames\n",
    "\n",
    "Do wyświetlania danych statystycznych dobrym wyborem jest dodatkowy pakiet do pakietu Plots \n",
    "\n",
    "```julia\n",
    "Pkg.add(\"StatPlots\")\n",
    "```\n",
    "https://github.com/JuliaPlots/StatPlots.jl\n",
    "\n",
    "Niestety Juliabox (chwilowo) nie pozwala na zainstalowanie dowolnych pakietow."
   ]
  },
  {
   "cell_type": "code",
   "execution_count": 26,
   "metadata": {},
   "outputs": [
    {
     "data": {
      "text/html": [
       "<table class=\"data-frame\"><thead><tr><th></th><th>a</th><th>b</th><th>c</th><th>d</th><th>e</th></tr><tr><th></th><th>Int64</th><th>Float64</th><th>Float64</th><th>Float64</th><th>Int64</th></tr></thead><tbody><p>10 rows × 5 columns</p><tr><th>1</th><td>1</td><td>0.0988582</td><td>9.82455</td><td>0.687863</td><td>1</td></tr><tr><th>2</th><td>2</td><td>3.18709</td><td>6.35771</td><td>0.051988</td><td>0</td></tr><tr><th>3</th><td>3</td><td>8.15454</td><td>0.856457</td><td>0.13007</td><td>1</td></tr><tr><th>4</th><td>4</td><td>5.671</td><td>4.87437</td><td>0.515565</td><td>0</td></tr><tr><th>5</th><td>5</td><td>7.59715</td><td>2.94847</td><td>0.402801</td><td>1</td></tr><tr><th>6</th><td>6</td><td>3.6468</td><td>5.62045</td><td>0.361987</td><td>0</td></tr><tr><th>7</th><td>7</td><td>0.323949</td><td>9.86404</td><td>0.416904</td><td>1</td></tr><tr><th>8</th><td>8</td><td>0.715326</td><td>4.60032</td><td>0.512147</td><td>0</td></tr><tr><th>9</th><td>9</td><td>9.66096</td><td>1.07064</td><td>0.261828</td><td>1</td></tr><tr><th>10</th><td>10</td><td>4.76618</td><td>0.319232</td><td>0.622286</td><td>0</td></tr></tbody></table>"
      ],
      "text/latex": [
       "\\begin{tabular}{r|ccccc}\n",
       "\t& a & b & c & d & e\\\\\n",
       "\t\\hline\n",
       "\t& Int64 & Float64 & Float64 & Float64 & Int64\\\\\n",
       "\t\\hline\n",
       "\t1 & 1 & 0.0988582 & 9.82455 & 0.687863 & 1 \\\\\n",
       "\t2 & 2 & 3.18709 & 6.35771 & 0.051988 & 0 \\\\\n",
       "\t3 & 3 & 8.15454 & 0.856457 & 0.13007 & 1 \\\\\n",
       "\t4 & 4 & 5.671 & 4.87437 & 0.515565 & 0 \\\\\n",
       "\t5 & 5 & 7.59715 & 2.94847 & 0.402801 & 1 \\\\\n",
       "\t6 & 6 & 3.6468 & 5.62045 & 0.361987 & 0 \\\\\n",
       "\t7 & 7 & 0.323949 & 9.86404 & 0.416904 & 1 \\\\\n",
       "\t8 & 8 & 0.715326 & 4.60032 & 0.512147 & 0 \\\\\n",
       "\t9 & 9 & 9.66096 & 1.07064 & 0.261828 & 1 \\\\\n",
       "\t10 & 10 & 4.76618 & 0.319232 & 0.622286 & 0 \\\\\n",
       "\\end{tabular}\n"
      ],
      "text/plain": [
       "10×5 DataFrame\n",
       "│ Row │ a     │ b         │ c        │ d        │ e     │\n",
       "│     │ \u001b[90mInt64\u001b[39m │ \u001b[90mFloat64\u001b[39m   │ \u001b[90mFloat64\u001b[39m  │ \u001b[90mFloat64\u001b[39m  │ \u001b[90mInt64\u001b[39m │\n",
       "├─────┼───────┼───────────┼──────────┼──────────┼───────┤\n",
       "│ 1   │ 1     │ 0.0988582 │ 9.82455  │ 0.687863 │ 1     │\n",
       "│ 2   │ 2     │ 3.18709   │ 6.35771  │ 0.051988 │ 0     │\n",
       "│ 3   │ 3     │ 8.15454   │ 0.856457 │ 0.13007  │ 1     │\n",
       "│ 4   │ 4     │ 5.671     │ 4.87437  │ 0.515565 │ 0     │\n",
       "│ 5   │ 5     │ 7.59715   │ 2.94847  │ 0.402801 │ 1     │\n",
       "│ 6   │ 6     │ 3.6468    │ 5.62045  │ 0.361987 │ 0     │\n",
       "│ 7   │ 7     │ 0.323949  │ 9.86404  │ 0.416904 │ 1     │\n",
       "│ 8   │ 8     │ 0.715326  │ 4.60032  │ 0.512147 │ 0     │\n",
       "│ 9   │ 9     │ 9.66096   │ 1.07064  │ 0.261828 │ 1     │\n",
       "│ 10  │ 10    │ 4.76618   │ 0.319232 │ 0.622286 │ 0     │"
      ]
     },
     "execution_count": 26,
     "metadata": {},
     "output_type": "execute_result"
    }
   ],
   "source": [
    "using DataFrames\n",
    "df = DataFrame(a = 1:10, b = 10 .* rand(10), c = 10 .* rand(10), d=rand(10), e=map(x->x%2,(1:10)))\n"
   ]
  },
  {
   "cell_type": "code",
   "execution_count": 27,
   "metadata": {},
   "outputs": [
    {
     "data": {
      "image/svg+xml": [
       "<?xml version=\"1.0\" encoding=\"utf-8\"?>\n",
       "<svg xmlns=\"http://www.w3.org/2000/svg\" xmlns:xlink=\"http://www.w3.org/1999/xlink\" width=\"600\" height=\"400\" viewBox=\"0 0 2400 1600\">\n",
       "<defs>\n",
       "  <clipPath id=\"clip4600\">\n",
       "    <rect x=\"0\" y=\"0\" width=\"2400\" height=\"1600\"/>\n",
       "  </clipPath>\n",
       "</defs>\n",
       "<path clip-path=\"url(#clip4600)\" d=\"\n",
       "M0 1600 L2400 1600 L2400 0 L0 0  Z\n",
       "  \" fill=\"#ffffff\" fill-rule=\"evenodd\" fill-opacity=\"1\"/>\n",
       "<defs>\n",
       "  <clipPath id=\"clip4601\">\n",
       "    <rect x=\"480\" y=\"0\" width=\"1681\" height=\"1600\"/>\n",
       "  </clipPath>\n",
       "</defs>\n",
       "<path clip-path=\"url(#clip4600)\" d=\"\n",
       "M180.66 1487.47 L2352.76 1487.47 L2352.76 47.2441 L180.66 47.2441  Z\n",
       "  \" fill=\"#ffffff\" fill-rule=\"evenodd\" fill-opacity=\"1\"/>\n",
       "<defs>\n",
       "  <clipPath id=\"clip4602\">\n",
       "    <rect x=\"180\" y=\"47\" width=\"2173\" height=\"1441\"/>\n",
       "  </clipPath>\n",
       "</defs>\n",
       "<polyline clip-path=\"url(#clip4602)\" style=\"stroke:#000000; stroke-width:2; stroke-opacity:0.1; fill:none\" points=\"\n",
       "  469.818,1487.47 469.818,47.2441 \n",
       "  \"/>\n",
       "<polyline clip-path=\"url(#clip4602)\" style=\"stroke:#000000; stroke-width:2; stroke-opacity:0.1; fill:none\" points=\"\n",
       "  925.184,1487.47 925.184,47.2441 \n",
       "  \"/>\n",
       "<polyline clip-path=\"url(#clip4602)\" style=\"stroke:#000000; stroke-width:2; stroke-opacity:0.1; fill:none\" points=\"\n",
       "  1380.55,1487.47 1380.55,47.2441 \n",
       "  \"/>\n",
       "<polyline clip-path=\"url(#clip4602)\" style=\"stroke:#000000; stroke-width:2; stroke-opacity:0.1; fill:none\" points=\"\n",
       "  1835.92,1487.47 1835.92,47.2441 \n",
       "  \"/>\n",
       "<polyline clip-path=\"url(#clip4602)\" style=\"stroke:#000000; stroke-width:2; stroke-opacity:0.1; fill:none\" points=\"\n",
       "  2291.28,1487.47 2291.28,47.2441 \n",
       "  \"/>\n",
       "<polyline clip-path=\"url(#clip4602)\" style=\"stroke:#000000; stroke-width:2; stroke-opacity:0.1; fill:none\" points=\"\n",
       "  180.66,1374.62 2352.76,1374.62 \n",
       "  \"/>\n",
       "<polyline clip-path=\"url(#clip4602)\" style=\"stroke:#000000; stroke-width:2; stroke-opacity:0.1; fill:none\" points=\"\n",
       "  180.66,1068.65 2352.76,1068.65 \n",
       "  \"/>\n",
       "<polyline clip-path=\"url(#clip4602)\" style=\"stroke:#000000; stroke-width:2; stroke-opacity:0.1; fill:none\" points=\"\n",
       "  180.66,762.673 2352.76,762.673 \n",
       "  \"/>\n",
       "<polyline clip-path=\"url(#clip4602)\" style=\"stroke:#000000; stroke-width:2; stroke-opacity:0.1; fill:none\" points=\"\n",
       "  180.66,456.696 2352.76,456.696 \n",
       "  \"/>\n",
       "<polyline clip-path=\"url(#clip4602)\" style=\"stroke:#000000; stroke-width:2; stroke-opacity:0.1; fill:none\" points=\"\n",
       "  180.66,150.72 2352.76,150.72 \n",
       "  \"/>\n",
       "<polyline clip-path=\"url(#clip4600)\" style=\"stroke:#000000; stroke-width:4; stroke-opacity:1; fill:none\" points=\"\n",
       "  180.66,1487.47 2352.76,1487.47 \n",
       "  \"/>\n",
       "<polyline clip-path=\"url(#clip4600)\" style=\"stroke:#000000; stroke-width:4; stroke-opacity:1; fill:none\" points=\"\n",
       "  180.66,1487.47 180.66,47.2441 \n",
       "  \"/>\n",
       "<polyline clip-path=\"url(#clip4600)\" style=\"stroke:#000000; stroke-width:4; stroke-opacity:1; fill:none\" points=\"\n",
       "  469.818,1487.47 469.818,1470.19 \n",
       "  \"/>\n",
       "<polyline clip-path=\"url(#clip4600)\" style=\"stroke:#000000; stroke-width:4; stroke-opacity:1; fill:none\" points=\"\n",
       "  925.184,1487.47 925.184,1470.19 \n",
       "  \"/>\n",
       "<polyline clip-path=\"url(#clip4600)\" style=\"stroke:#000000; stroke-width:4; stroke-opacity:1; fill:none\" points=\"\n",
       "  1380.55,1487.47 1380.55,1470.19 \n",
       "  \"/>\n",
       "<polyline clip-path=\"url(#clip4600)\" style=\"stroke:#000000; stroke-width:4; stroke-opacity:1; fill:none\" points=\"\n",
       "  1835.92,1487.47 1835.92,1470.19 \n",
       "  \"/>\n",
       "<polyline clip-path=\"url(#clip4600)\" style=\"stroke:#000000; stroke-width:4; stroke-opacity:1; fill:none\" points=\"\n",
       "  2291.28,1487.47 2291.28,1470.19 \n",
       "  \"/>\n",
       "<polyline clip-path=\"url(#clip4600)\" style=\"stroke:#000000; stroke-width:4; stroke-opacity:1; fill:none\" points=\"\n",
       "  180.66,1374.62 206.725,1374.62 \n",
       "  \"/>\n",
       "<polyline clip-path=\"url(#clip4600)\" style=\"stroke:#000000; stroke-width:4; stroke-opacity:1; fill:none\" points=\"\n",
       "  180.66,1068.65 206.725,1068.65 \n",
       "  \"/>\n",
       "<polyline clip-path=\"url(#clip4600)\" style=\"stroke:#000000; stroke-width:4; stroke-opacity:1; fill:none\" points=\"\n",
       "  180.66,762.673 206.725,762.673 \n",
       "  \"/>\n",
       "<polyline clip-path=\"url(#clip4600)\" style=\"stroke:#000000; stroke-width:4; stroke-opacity:1; fill:none\" points=\"\n",
       "  180.66,456.696 206.725,456.696 \n",
       "  \"/>\n",
       "<polyline clip-path=\"url(#clip4600)\" style=\"stroke:#000000; stroke-width:4; stroke-opacity:1; fill:none\" points=\"\n",
       "  180.66,150.72 206.725,150.72 \n",
       "  \"/>\n",
       "<g clip-path=\"url(#clip4600)\">\n",
       "<text style=\"fill:#000000; fill-opacity:1; font-family:Arial,Helvetica Neue,Helvetica,sans-serif; font-size:48px; text-anchor:middle;\" transform=\"rotate(0, 469.818, 1541.47)\" x=\"469.818\" y=\"1541.47\">2</text>\n",
       "</g>\n",
       "<g clip-path=\"url(#clip4600)\">\n",
       "<text style=\"fill:#000000; fill-opacity:1; font-family:Arial,Helvetica Neue,Helvetica,sans-serif; font-size:48px; text-anchor:middle;\" transform=\"rotate(0, 925.184, 1541.47)\" x=\"925.184\" y=\"1541.47\">4</text>\n",
       "</g>\n",
       "<g clip-path=\"url(#clip4600)\">\n",
       "<text style=\"fill:#000000; fill-opacity:1; font-family:Arial,Helvetica Neue,Helvetica,sans-serif; font-size:48px; text-anchor:middle;\" transform=\"rotate(0, 1380.55, 1541.47)\" x=\"1380.55\" y=\"1541.47\">6</text>\n",
       "</g>\n",
       "<g clip-path=\"url(#clip4600)\">\n",
       "<text style=\"fill:#000000; fill-opacity:1; font-family:Arial,Helvetica Neue,Helvetica,sans-serif; font-size:48px; text-anchor:middle;\" transform=\"rotate(0, 1835.92, 1541.47)\" x=\"1835.92\" y=\"1541.47\">8</text>\n",
       "</g>\n",
       "<g clip-path=\"url(#clip4600)\">\n",
       "<text style=\"fill:#000000; fill-opacity:1; font-family:Arial,Helvetica Neue,Helvetica,sans-serif; font-size:48px; text-anchor:middle;\" transform=\"rotate(0, 2291.28, 1541.47)\" x=\"2291.28\" y=\"1541.47\">10</text>\n",
       "</g>\n",
       "<g clip-path=\"url(#clip4600)\">\n",
       "<text style=\"fill:#000000; fill-opacity:1; font-family:Arial,Helvetica Neue,Helvetica,sans-serif; font-size:48px; text-anchor:end;\" transform=\"rotate(0, 156.66, 1392.12)\" x=\"156.66\" y=\"1392.12\">0.0</text>\n",
       "</g>\n",
       "<g clip-path=\"url(#clip4600)\">\n",
       "<text style=\"fill:#000000; fill-opacity:1; font-family:Arial,Helvetica Neue,Helvetica,sans-serif; font-size:48px; text-anchor:end;\" transform=\"rotate(0, 156.66, 1086.15)\" x=\"156.66\" y=\"1086.15\">2.5</text>\n",
       "</g>\n",
       "<g clip-path=\"url(#clip4600)\">\n",
       "<text style=\"fill:#000000; fill-opacity:1; font-family:Arial,Helvetica Neue,Helvetica,sans-serif; font-size:48px; text-anchor:end;\" transform=\"rotate(0, 156.66, 780.173)\" x=\"156.66\" y=\"780.173\">5.0</text>\n",
       "</g>\n",
       "<g clip-path=\"url(#clip4600)\">\n",
       "<text style=\"fill:#000000; fill-opacity:1; font-family:Arial,Helvetica Neue,Helvetica,sans-serif; font-size:48px; text-anchor:end;\" transform=\"rotate(0, 156.66, 474.196)\" x=\"156.66\" y=\"474.196\">7.5</text>\n",
       "</g>\n",
       "<g clip-path=\"url(#clip4600)\">\n",
       "<text style=\"fill:#000000; fill-opacity:1; font-family:Arial,Helvetica Neue,Helvetica,sans-serif; font-size:48px; text-anchor:end;\" transform=\"rotate(0, 156.66, 168.22)\" x=\"156.66\" y=\"168.22\">10.0</text>\n",
       "</g>\n",
       "<circle clip-path=\"url(#clip4602)\" cx=\"242.135\" cy=\"1362.53\" r=\"14\" fill=\"#ff0000\" fill-rule=\"evenodd\" fill-opacity=\"1\" stroke=\"#000000\" stroke-opacity=\"1\" stroke-width=\"3.2\"/>\n",
       "<circle clip-path=\"url(#clip4602)\" cx=\"469.818\" cy=\"984.555\" r=\"14\" fill=\"#ff0000\" fill-rule=\"evenodd\" fill-opacity=\"1\" stroke=\"#000000\" stroke-opacity=\"1\" stroke-width=\"3.2\"/>\n",
       "<circle clip-path=\"url(#clip4602)\" cx=\"697.501\" cy=\"376.587\" r=\"14\" fill=\"#ff0000\" fill-rule=\"evenodd\" fill-opacity=\"1\" stroke=\"#000000\" stroke-opacity=\"1\" stroke-width=\"3.2\"/>\n",
       "<circle clip-path=\"url(#clip4602)\" cx=\"925.184\" cy=\"680.548\" r=\"14\" fill=\"#ff0000\" fill-rule=\"evenodd\" fill-opacity=\"1\" stroke=\"#000000\" stroke-opacity=\"1\" stroke-width=\"3.2\"/>\n",
       "<circle clip-path=\"url(#clip4602)\" cx=\"1152.87\" cy=\"444.806\" r=\"14\" fill=\"#ff0000\" fill-rule=\"evenodd\" fill-opacity=\"1\" stroke=\"#000000\" stroke-opacity=\"1\" stroke-width=\"3.2\"/>\n",
       "<circle clip-path=\"url(#clip4602)\" cx=\"1380.55\" cy=\"928.292\" r=\"14\" fill=\"#ff0000\" fill-rule=\"evenodd\" fill-opacity=\"1\" stroke=\"#000000\" stroke-opacity=\"1\" stroke-width=\"3.2\"/>\n",
       "<circle clip-path=\"url(#clip4602)\" cx=\"1608.23\" cy=\"1334.98\" r=\"14\" fill=\"#ff0000\" fill-rule=\"evenodd\" fill-opacity=\"1\" stroke=\"#000000\" stroke-opacity=\"1\" stroke-width=\"3.2\"/>\n",
       "<circle clip-path=\"url(#clip4602)\" cx=\"1835.92\" cy=\"1287.08\" r=\"14\" fill=\"#ff0000\" fill-rule=\"evenodd\" fill-opacity=\"1\" stroke=\"#000000\" stroke-opacity=\"1\" stroke-width=\"3.2\"/>\n",
       "<circle clip-path=\"url(#clip4602)\" cx=\"2063.6\" cy=\"192.216\" r=\"14\" fill=\"#ff0000\" fill-rule=\"evenodd\" fill-opacity=\"1\" stroke=\"#000000\" stroke-opacity=\"1\" stroke-width=\"3.2\"/>\n",
       "<circle clip-path=\"url(#clip4602)\" cx=\"2291.28\" cy=\"791.29\" r=\"14\" fill=\"#ff0000\" fill-rule=\"evenodd\" fill-opacity=\"1\" stroke=\"#000000\" stroke-opacity=\"1\" stroke-width=\"3.2\"/>\n",
       "<polyline clip-path=\"url(#clip4602)\" style=\"stroke:#ff0000; stroke-width:4; stroke-opacity:1; fill:none\" points=\"\n",
       "  242.135,1446.71 242.135,1278.34 \n",
       "  \"/>\n",
       "<polyline clip-path=\"url(#clip4602)\" style=\"stroke:#ff0000; stroke-width:4; stroke-opacity:1; fill:none\" points=\"\n",
       "  469.818,990.918 469.818,978.192 \n",
       "  \"/>\n",
       "<polyline clip-path=\"url(#clip4602)\" style=\"stroke:#ff0000; stroke-width:4; stroke-opacity:1; fill:none\" points=\"\n",
       "  697.501,392.507 697.501,360.668 \n",
       "  \"/>\n",
       "<polyline clip-path=\"url(#clip4602)\" style=\"stroke:#ff0000; stroke-width:4; stroke-opacity:1; fill:none\" points=\"\n",
       "  925.184,743.648 925.184,617.448 \n",
       "  \"/>\n",
       "<polyline clip-path=\"url(#clip4602)\" style=\"stroke:#ff0000; stroke-width:4; stroke-opacity:1; fill:none\" points=\"\n",
       "  1152.87,494.105 1152.87,395.507 \n",
       "  \"/>\n",
       "<polyline clip-path=\"url(#clip4602)\" style=\"stroke:#ff0000; stroke-width:4; stroke-opacity:1; fill:none\" points=\"\n",
       "  1380.55,972.595 1380.55,883.988 \n",
       "  \"/>\n",
       "<polyline clip-path=\"url(#clip4602)\" style=\"stroke:#ff0000; stroke-width:4; stroke-opacity:1; fill:none\" points=\"\n",
       "  1608.23,1386 1608.23,1283.95 \n",
       "  \"/>\n",
       "<polyline clip-path=\"url(#clip4602)\" style=\"stroke:#ff0000; stroke-width:4; stroke-opacity:1; fill:none\" points=\"\n",
       "  1835.92,1349.76 1835.92,1224.39 \n",
       "  \"/>\n",
       "<polyline clip-path=\"url(#clip4602)\" style=\"stroke:#ff0000; stroke-width:4; stroke-opacity:1; fill:none\" points=\"\n",
       "  2063.6,224.261 2063.6,160.171 \n",
       "  \"/>\n",
       "<polyline clip-path=\"url(#clip4602)\" style=\"stroke:#ff0000; stroke-width:4; stroke-opacity:1; fill:none\" points=\"\n",
       "  2291.28,867.452 2291.28,715.128 \n",
       "  \"/>\n",
       "<line clip-path=\"url(#clip4602)\" x1=\"258.135\" y1=\"1446.71\" x2=\"226.135\" y2=\"1446.71\" style=\"stroke:#ff0000; stroke-width:3.2; stroke-opacity:1\"/>\n",
       "<line clip-path=\"url(#clip4602)\" x1=\"258.135\" y1=\"1278.34\" x2=\"226.135\" y2=\"1278.34\" style=\"stroke:#ff0000; stroke-width:3.2; stroke-opacity:1\"/>\n",
       "<line clip-path=\"url(#clip4602)\" x1=\"485.818\" y1=\"990.918\" x2=\"453.818\" y2=\"990.918\" style=\"stroke:#ff0000; stroke-width:3.2; stroke-opacity:1\"/>\n",
       "<line clip-path=\"url(#clip4602)\" x1=\"485.818\" y1=\"978.192\" x2=\"453.818\" y2=\"978.192\" style=\"stroke:#ff0000; stroke-width:3.2; stroke-opacity:1\"/>\n",
       "<line clip-path=\"url(#clip4602)\" x1=\"713.501\" y1=\"392.507\" x2=\"681.501\" y2=\"392.507\" style=\"stroke:#ff0000; stroke-width:3.2; stroke-opacity:1\"/>\n",
       "<line clip-path=\"url(#clip4602)\" x1=\"713.501\" y1=\"360.668\" x2=\"681.501\" y2=\"360.668\" style=\"stroke:#ff0000; stroke-width:3.2; stroke-opacity:1\"/>\n",
       "<line clip-path=\"url(#clip4602)\" x1=\"941.184\" y1=\"743.648\" x2=\"909.184\" y2=\"743.648\" style=\"stroke:#ff0000; stroke-width:3.2; stroke-opacity:1\"/>\n",
       "<line clip-path=\"url(#clip4602)\" x1=\"941.184\" y1=\"617.448\" x2=\"909.184\" y2=\"617.448\" style=\"stroke:#ff0000; stroke-width:3.2; stroke-opacity:1\"/>\n",
       "<line clip-path=\"url(#clip4602)\" x1=\"1168.87\" y1=\"494.105\" x2=\"1136.87\" y2=\"494.105\" style=\"stroke:#ff0000; stroke-width:3.2; stroke-opacity:1\"/>\n",
       "<line clip-path=\"url(#clip4602)\" x1=\"1168.87\" y1=\"395.507\" x2=\"1136.87\" y2=\"395.507\" style=\"stroke:#ff0000; stroke-width:3.2; stroke-opacity:1\"/>\n",
       "<line clip-path=\"url(#clip4602)\" x1=\"1396.55\" y1=\"972.595\" x2=\"1364.55\" y2=\"972.595\" style=\"stroke:#ff0000; stroke-width:3.2; stroke-opacity:1\"/>\n",
       "<line clip-path=\"url(#clip4602)\" x1=\"1396.55\" y1=\"883.988\" x2=\"1364.55\" y2=\"883.988\" style=\"stroke:#ff0000; stroke-width:3.2; stroke-opacity:1\"/>\n",
       "<line clip-path=\"url(#clip4602)\" x1=\"1624.23\" y1=\"1386\" x2=\"1592.23\" y2=\"1386\" style=\"stroke:#ff0000; stroke-width:3.2; stroke-opacity:1\"/>\n",
       "<line clip-path=\"url(#clip4602)\" x1=\"1624.23\" y1=\"1283.95\" x2=\"1592.23\" y2=\"1283.95\" style=\"stroke:#ff0000; stroke-width:3.2; stroke-opacity:1\"/>\n",
       "<line clip-path=\"url(#clip4602)\" x1=\"1851.92\" y1=\"1349.76\" x2=\"1819.92\" y2=\"1349.76\" style=\"stroke:#ff0000; stroke-width:3.2; stroke-opacity:1\"/>\n",
       "<line clip-path=\"url(#clip4602)\" x1=\"1851.92\" y1=\"1224.39\" x2=\"1819.92\" y2=\"1224.39\" style=\"stroke:#ff0000; stroke-width:3.2; stroke-opacity:1\"/>\n",
       "<line clip-path=\"url(#clip4602)\" x1=\"2079.6\" y1=\"224.261\" x2=\"2047.6\" y2=\"224.261\" style=\"stroke:#ff0000; stroke-width:3.2; stroke-opacity:1\"/>\n",
       "<line clip-path=\"url(#clip4602)\" x1=\"2079.6\" y1=\"160.171\" x2=\"2047.6\" y2=\"160.171\" style=\"stroke:#ff0000; stroke-width:3.2; stroke-opacity:1\"/>\n",
       "<line clip-path=\"url(#clip4602)\" x1=\"2307.28\" y1=\"867.452\" x2=\"2275.28\" y2=\"867.452\" style=\"stroke:#ff0000; stroke-width:3.2; stroke-opacity:1\"/>\n",
       "<line clip-path=\"url(#clip4602)\" x1=\"2307.28\" y1=\"715.128\" x2=\"2275.28\" y2=\"715.128\" style=\"stroke:#ff0000; stroke-width:3.2; stroke-opacity:1\"/>\n",
       "<circle clip-path=\"url(#clip4602)\" cx=\"242.135\" cy=\"172.193\" r=\"14\" fill=\"#0000ff\" fill-rule=\"evenodd\" fill-opacity=\"1\" stroke=\"#000000\" stroke-opacity=\"1\" stroke-width=\"3.2\"/>\n",
       "<circle clip-path=\"url(#clip4602)\" cx=\"469.818\" cy=\"596.502\" r=\"14\" fill=\"#0000ff\" fill-rule=\"evenodd\" fill-opacity=\"1\" stroke=\"#000000\" stroke-opacity=\"1\" stroke-width=\"3.2\"/>\n",
       "<circle clip-path=\"url(#clip4602)\" cx=\"697.501\" cy=\"1269.8\" r=\"14\" fill=\"#0000ff\" fill-rule=\"evenodd\" fill-opacity=\"1\" stroke=\"#000000\" stroke-opacity=\"1\" stroke-width=\"3.2\"/>\n",
       "<circle clip-path=\"url(#clip4602)\" cx=\"925.184\" cy=\"778.049\" r=\"14\" fill=\"#0000ff\" fill-rule=\"evenodd\" fill-opacity=\"1\" stroke=\"#000000\" stroke-opacity=\"1\" stroke-width=\"3.2\"/>\n",
       "<circle clip-path=\"url(#clip4602)\" cx=\"1152.87\" cy=\"1013.76\" r=\"14\" fill=\"#0000ff\" fill-rule=\"evenodd\" fill-opacity=\"1\" stroke=\"#000000\" stroke-opacity=\"1\" stroke-width=\"3.2\"/>\n",
       "<circle clip-path=\"url(#clip4602)\" cx=\"1380.55\" cy=\"686.735\" r=\"14\" fill=\"#0000ff\" fill-rule=\"evenodd\" fill-opacity=\"1\" stroke=\"#000000\" stroke-opacity=\"1\" stroke-width=\"3.2\"/>\n",
       "<circle clip-path=\"url(#clip4602)\" cx=\"1608.23\" cy=\"167.361\" r=\"14\" fill=\"#0000ff\" fill-rule=\"evenodd\" fill-opacity=\"1\" stroke=\"#000000\" stroke-opacity=\"1\" stroke-width=\"3.2\"/>\n",
       "<circle clip-path=\"url(#clip4602)\" cx=\"1835.92\" cy=\"811.59\" r=\"14\" fill=\"#0000ff\" fill-rule=\"evenodd\" fill-opacity=\"1\" stroke=\"#000000\" stroke-opacity=\"1\" stroke-width=\"3.2\"/>\n",
       "<circle clip-path=\"url(#clip4602)\" cx=\"2063.6\" cy=\"1243.59\" r=\"14\" fill=\"#0000ff\" fill-rule=\"evenodd\" fill-opacity=\"1\" stroke=\"#000000\" stroke-opacity=\"1\" stroke-width=\"3.2\"/>\n",
       "<circle clip-path=\"url(#clip4602)\" cx=\"2291.28\" cy=\"1335.55\" r=\"14\" fill=\"#0000ff\" fill-rule=\"evenodd\" fill-opacity=\"1\" stroke=\"#000000\" stroke-opacity=\"1\" stroke-width=\"3.2\"/>\n",
       "<polyline clip-path=\"url(#clip4602)\" style=\"stroke:#0000ff; stroke-width:4; stroke-opacity:1; fill:none\" points=\"\n",
       "  242.135,256.381 242.135,88.0053 \n",
       "  \"/>\n",
       "<polyline clip-path=\"url(#clip4602)\" style=\"stroke:#0000ff; stroke-width:4; stroke-opacity:1; fill:none\" points=\"\n",
       "  469.818,602.865 469.818,590.139 \n",
       "  \"/>\n",
       "<polyline clip-path=\"url(#clip4602)\" style=\"stroke:#0000ff; stroke-width:4; stroke-opacity:1; fill:none\" points=\"\n",
       "  697.501,1285.72 697.501,1253.88 \n",
       "  \"/>\n",
       "<polyline clip-path=\"url(#clip4602)\" style=\"stroke:#0000ff; stroke-width:4; stroke-opacity:1; fill:none\" points=\"\n",
       "  925.184,841.149 925.184,714.949 \n",
       "  \"/>\n",
       "<polyline clip-path=\"url(#clip4602)\" style=\"stroke:#0000ff; stroke-width:4; stroke-opacity:1; fill:none\" points=\"\n",
       "  1152.87,1063.06 1152.87,964.461 \n",
       "  \"/>\n",
       "<polyline clip-path=\"url(#clip4602)\" style=\"stroke:#0000ff; stroke-width:4; stroke-opacity:1; fill:none\" points=\"\n",
       "  1380.55,731.039 1380.55,642.432 \n",
       "  \"/>\n",
       "<polyline clip-path=\"url(#clip4602)\" style=\"stroke:#0000ff; stroke-width:4; stroke-opacity:1; fill:none\" points=\"\n",
       "  1608.23,218.386 1608.23,116.336 \n",
       "  \"/>\n",
       "<polyline clip-path=\"url(#clip4602)\" style=\"stroke:#0000ff; stroke-width:4; stroke-opacity:1; fill:none\" points=\"\n",
       "  1835.92,874.272 1835.92,748.908 \n",
       "  \"/>\n",
       "<polyline clip-path=\"url(#clip4602)\" style=\"stroke:#0000ff; stroke-width:4; stroke-opacity:1; fill:none\" points=\"\n",
       "  2063.6,1275.63 2063.6,1211.54 \n",
       "  \"/>\n",
       "<polyline clip-path=\"url(#clip4602)\" style=\"stroke:#0000ff; stroke-width:4; stroke-opacity:1; fill:none\" points=\"\n",
       "  2291.28,1411.72 2291.28,1259.39 \n",
       "  \"/>\n",
       "<line clip-path=\"url(#clip4602)\" x1=\"258.135\" y1=\"256.381\" x2=\"226.135\" y2=\"256.381\" style=\"stroke:#0000ff; stroke-width:3.2; stroke-opacity:1\"/>\n",
       "<line clip-path=\"url(#clip4602)\" x1=\"258.135\" y1=\"88.0053\" x2=\"226.135\" y2=\"88.0053\" style=\"stroke:#0000ff; stroke-width:3.2; stroke-opacity:1\"/>\n",
       "<line clip-path=\"url(#clip4602)\" x1=\"485.818\" y1=\"602.865\" x2=\"453.818\" y2=\"602.865\" style=\"stroke:#0000ff; stroke-width:3.2; stroke-opacity:1\"/>\n",
       "<line clip-path=\"url(#clip4602)\" x1=\"485.818\" y1=\"590.139\" x2=\"453.818\" y2=\"590.139\" style=\"stroke:#0000ff; stroke-width:3.2; stroke-opacity:1\"/>\n",
       "<line clip-path=\"url(#clip4602)\" x1=\"713.501\" y1=\"1285.72\" x2=\"681.501\" y2=\"1285.72\" style=\"stroke:#0000ff; stroke-width:3.2; stroke-opacity:1\"/>\n",
       "<line clip-path=\"url(#clip4602)\" x1=\"713.501\" y1=\"1253.88\" x2=\"681.501\" y2=\"1253.88\" style=\"stroke:#0000ff; stroke-width:3.2; stroke-opacity:1\"/>\n",
       "<line clip-path=\"url(#clip4602)\" x1=\"941.184\" y1=\"841.149\" x2=\"909.184\" y2=\"841.149\" style=\"stroke:#0000ff; stroke-width:3.2; stroke-opacity:1\"/>\n",
       "<line clip-path=\"url(#clip4602)\" x1=\"941.184\" y1=\"714.949\" x2=\"909.184\" y2=\"714.949\" style=\"stroke:#0000ff; stroke-width:3.2; stroke-opacity:1\"/>\n",
       "<line clip-path=\"url(#clip4602)\" x1=\"1168.87\" y1=\"1063.06\" x2=\"1136.87\" y2=\"1063.06\" style=\"stroke:#0000ff; stroke-width:3.2; stroke-opacity:1\"/>\n",
       "<line clip-path=\"url(#clip4602)\" x1=\"1168.87\" y1=\"964.461\" x2=\"1136.87\" y2=\"964.461\" style=\"stroke:#0000ff; stroke-width:3.2; stroke-opacity:1\"/>\n",
       "<line clip-path=\"url(#clip4602)\" x1=\"1396.55\" y1=\"731.039\" x2=\"1364.55\" y2=\"731.039\" style=\"stroke:#0000ff; stroke-width:3.2; stroke-opacity:1\"/>\n",
       "<line clip-path=\"url(#clip4602)\" x1=\"1396.55\" y1=\"642.432\" x2=\"1364.55\" y2=\"642.432\" style=\"stroke:#0000ff; stroke-width:3.2; stroke-opacity:1\"/>\n",
       "<line clip-path=\"url(#clip4602)\" x1=\"1624.23\" y1=\"218.386\" x2=\"1592.23\" y2=\"218.386\" style=\"stroke:#0000ff; stroke-width:3.2; stroke-opacity:1\"/>\n",
       "<line clip-path=\"url(#clip4602)\" x1=\"1624.23\" y1=\"116.336\" x2=\"1592.23\" y2=\"116.336\" style=\"stroke:#0000ff; stroke-width:3.2; stroke-opacity:1\"/>\n",
       "<line clip-path=\"url(#clip4602)\" x1=\"1851.92\" y1=\"874.272\" x2=\"1819.92\" y2=\"874.272\" style=\"stroke:#0000ff; stroke-width:3.2; stroke-opacity:1\"/>\n",
       "<line clip-path=\"url(#clip4602)\" x1=\"1851.92\" y1=\"748.908\" x2=\"1819.92\" y2=\"748.908\" style=\"stroke:#0000ff; stroke-width:3.2; stroke-opacity:1\"/>\n",
       "<line clip-path=\"url(#clip4602)\" x1=\"2079.6\" y1=\"1275.63\" x2=\"2047.6\" y2=\"1275.63\" style=\"stroke:#0000ff; stroke-width:3.2; stroke-opacity:1\"/>\n",
       "<line clip-path=\"url(#clip4602)\" x1=\"2079.6\" y1=\"1211.54\" x2=\"2047.6\" y2=\"1211.54\" style=\"stroke:#0000ff; stroke-width:3.2; stroke-opacity:1\"/>\n",
       "<line clip-path=\"url(#clip4602)\" x1=\"2307.28\" y1=\"1411.72\" x2=\"2275.28\" y2=\"1411.72\" style=\"stroke:#0000ff; stroke-width:3.2; stroke-opacity:1\"/>\n",
       "<line clip-path=\"url(#clip4602)\" x1=\"2307.28\" y1=\"1259.39\" x2=\"2275.28\" y2=\"1259.39\" style=\"stroke:#0000ff; stroke-width:3.2; stroke-opacity:1\"/>\n",
       "<path clip-path=\"url(#clip4600)\" d=\"\n",
       "M1989.93 312.204 L2280.76 312.204 L2280.76 130.764 L1989.93 130.764  Z\n",
       "  \" fill=\"#ffffff\" fill-rule=\"evenodd\" fill-opacity=\"1\"/>\n",
       "<polyline clip-path=\"url(#clip4600)\" style=\"stroke:#000000; stroke-width:4; stroke-opacity:1; fill:none\" points=\"\n",
       "  1989.93,312.204 2280.76,312.204 2280.76,130.764 1989.93,130.764 1989.93,312.204 \n",
       "  \"/>\n",
       "<circle clip-path=\"url(#clip4600)\" cx=\"2097.93\" cy=\"191.244\" r=\"21\" fill=\"#ff0000\" fill-rule=\"evenodd\" fill-opacity=\"1\" stroke=\"#000000\" stroke-opacity=\"1\" stroke-width=\"3.2\"/>\n",
       "<g clip-path=\"url(#clip4600)\">\n",
       "<text style=\"fill:#000000; fill-opacity:1; font-family:Arial,Helvetica Neue,Helvetica,sans-serif; font-size:48px; text-anchor:start;\" transform=\"rotate(0, 2181.93, 208.744)\" x=\"2181.93\" y=\"208.744\">y1</text>\n",
       "</g>\n",
       "<circle clip-path=\"url(#clip4600)\" cx=\"2097.93\" cy=\"251.724\" r=\"21\" fill=\"#0000ff\" fill-rule=\"evenodd\" fill-opacity=\"1\" stroke=\"#000000\" stroke-opacity=\"1\" stroke-width=\"3.2\"/>\n",
       "<g clip-path=\"url(#clip4600)\">\n",
       "<text style=\"fill:#000000; fill-opacity:1; font-family:Arial,Helvetica Neue,Helvetica,sans-serif; font-size:48px; text-anchor:start;\" transform=\"rotate(0, 2181.93, 269.224)\" x=\"2181.93\" y=\"269.224\">y2</text>\n",
       "</g>\n",
       "</svg>\n"
      ]
     },
     "execution_count": 27,
     "metadata": {},
     "output_type": "execute_result"
    }
   ],
   "source": [
    "# zamiast makra @df z pakietu StatPlots mozna odwolywac sie bezposrednio do kolumn (gdyz sa typu jednowymiarowych tablic \n",
    "# Array{T,1})\n",
    "using Plots\n",
    "scatter(df.a, [df.b, df.c], colour = [:red :blue], yerr=df.d)\n"
   ]
  },
  {
   "cell_type": "code",
   "execution_count": 28,
   "metadata": {},
   "outputs": [
    {
     "data": {
      "image/svg+xml": [
       "<?xml version=\"1.0\" encoding=\"utf-8\"?>\n",
       "<svg xmlns=\"http://www.w3.org/2000/svg\" xmlns:xlink=\"http://www.w3.org/1999/xlink\" width=\"600\" height=\"400\" viewBox=\"0 0 2400 1600\">\n",
       "<defs>\n",
       "  <clipPath id=\"clip5000\">\n",
       "    <rect x=\"0\" y=\"0\" width=\"2400\" height=\"1600\"/>\n",
       "  </clipPath>\n",
       "</defs>\n",
       "<path clip-path=\"url(#clip5000)\" d=\"\n",
       "M0 1600 L2400 1600 L2400 0 L0 0  Z\n",
       "  \" fill=\"#ffffff\" fill-rule=\"evenodd\" fill-opacity=\"1\"/>\n",
       "<defs>\n",
       "  <clipPath id=\"clip5001\">\n",
       "    <rect x=\"480\" y=\"0\" width=\"1681\" height=\"1600\"/>\n",
       "  </clipPath>\n",
       "</defs>\n",
       "<path clip-path=\"url(#clip5000)\" d=\"\n",
       "M113.754 1487.47 L1139.37 1487.47 L1139.37 47.2441 L113.754 47.2441  Z\n",
       "  \" fill=\"#ffffff\" fill-rule=\"evenodd\" fill-opacity=\"1\"/>\n",
       "<defs>\n",
       "  <clipPath id=\"clip5002\">\n",
       "    <rect x=\"113\" y=\"47\" width=\"1027\" height=\"1441\"/>\n",
       "  </clipPath>\n",
       "</defs>\n",
       "<polyline clip-path=\"url(#clip5002)\" style=\"stroke:#000000; stroke-width:2; stroke-opacity:0.1; fill:none\" points=\"\n",
       "  250.289,1487.47 250.289,47.2441 \n",
       "  \"/>\n",
       "<polyline clip-path=\"url(#clip5002)\" style=\"stroke:#000000; stroke-width:2; stroke-opacity:0.1; fill:none\" points=\"\n",
       "  465.304,1487.47 465.304,47.2441 \n",
       "  \"/>\n",
       "<polyline clip-path=\"url(#clip5002)\" style=\"stroke:#000000; stroke-width:2; stroke-opacity:0.1; fill:none\" points=\"\n",
       "  680.318,1487.47 680.318,47.2441 \n",
       "  \"/>\n",
       "<polyline clip-path=\"url(#clip5002)\" style=\"stroke:#000000; stroke-width:2; stroke-opacity:0.1; fill:none\" points=\"\n",
       "  895.333,1487.47 895.333,47.2441 \n",
       "  \"/>\n",
       "<polyline clip-path=\"url(#clip5002)\" style=\"stroke:#000000; stroke-width:2; stroke-opacity:0.1; fill:none\" points=\"\n",
       "  1110.35,1487.47 1110.35,47.2441 \n",
       "  \"/>\n",
       "<polyline clip-path=\"url(#clip5002)\" style=\"stroke:#000000; stroke-width:2; stroke-opacity:0.1; fill:none\" points=\"\n",
       "  113.754,1460.76 1139.37,1460.76 \n",
       "  \"/>\n",
       "<polyline clip-path=\"url(#clip5002)\" style=\"stroke:#000000; stroke-width:2; stroke-opacity:0.1; fill:none\" points=\"\n",
       "  113.754,1176.57 1139.37,1176.57 \n",
       "  \"/>\n",
       "<polyline clip-path=\"url(#clip5002)\" style=\"stroke:#000000; stroke-width:2; stroke-opacity:0.1; fill:none\" points=\"\n",
       "  113.754,892.388 1139.37,892.388 \n",
       "  \"/>\n",
       "<polyline clip-path=\"url(#clip5002)\" style=\"stroke:#000000; stroke-width:2; stroke-opacity:0.1; fill:none\" points=\"\n",
       "  113.754,608.202 1139.37,608.202 \n",
       "  \"/>\n",
       "<polyline clip-path=\"url(#clip5002)\" style=\"stroke:#000000; stroke-width:2; stroke-opacity:0.1; fill:none\" points=\"\n",
       "  113.754,324.016 1139.37,324.016 \n",
       "  \"/>\n",
       "<polyline clip-path=\"url(#clip5000)\" style=\"stroke:#000000; stroke-width:4; stroke-opacity:1; fill:none\" points=\"\n",
       "  113.754,1487.47 1139.37,1487.47 \n",
       "  \"/>\n",
       "<polyline clip-path=\"url(#clip5000)\" style=\"stroke:#000000; stroke-width:4; stroke-opacity:1; fill:none\" points=\"\n",
       "  113.754,1487.47 113.754,47.2441 \n",
       "  \"/>\n",
       "<polyline clip-path=\"url(#clip5000)\" style=\"stroke:#000000; stroke-width:4; stroke-opacity:1; fill:none\" points=\"\n",
       "  250.289,1487.47 250.289,1470.19 \n",
       "  \"/>\n",
       "<polyline clip-path=\"url(#clip5000)\" style=\"stroke:#000000; stroke-width:4; stroke-opacity:1; fill:none\" points=\"\n",
       "  465.304,1487.47 465.304,1470.19 \n",
       "  \"/>\n",
       "<polyline clip-path=\"url(#clip5000)\" style=\"stroke:#000000; stroke-width:4; stroke-opacity:1; fill:none\" points=\"\n",
       "  680.318,1487.47 680.318,1470.19 \n",
       "  \"/>\n",
       "<polyline clip-path=\"url(#clip5000)\" style=\"stroke:#000000; stroke-width:4; stroke-opacity:1; fill:none\" points=\"\n",
       "  895.333,1487.47 895.333,1470.19 \n",
       "  \"/>\n",
       "<polyline clip-path=\"url(#clip5000)\" style=\"stroke:#000000; stroke-width:4; stroke-opacity:1; fill:none\" points=\"\n",
       "  1110.35,1487.47 1110.35,1470.19 \n",
       "  \"/>\n",
       "<polyline clip-path=\"url(#clip5000)\" style=\"stroke:#000000; stroke-width:4; stroke-opacity:1; fill:none\" points=\"\n",
       "  113.754,1460.76 126.062,1460.76 \n",
       "  \"/>\n",
       "<polyline clip-path=\"url(#clip5000)\" style=\"stroke:#000000; stroke-width:4; stroke-opacity:1; fill:none\" points=\"\n",
       "  113.754,1176.57 126.062,1176.57 \n",
       "  \"/>\n",
       "<polyline clip-path=\"url(#clip5000)\" style=\"stroke:#000000; stroke-width:4; stroke-opacity:1; fill:none\" points=\"\n",
       "  113.754,892.388 126.062,892.388 \n",
       "  \"/>\n",
       "<polyline clip-path=\"url(#clip5000)\" style=\"stroke:#000000; stroke-width:4; stroke-opacity:1; fill:none\" points=\"\n",
       "  113.754,608.202 126.062,608.202 \n",
       "  \"/>\n",
       "<polyline clip-path=\"url(#clip5000)\" style=\"stroke:#000000; stroke-width:4; stroke-opacity:1; fill:none\" points=\"\n",
       "  113.754,324.016 126.062,324.016 \n",
       "  \"/>\n",
       "<g clip-path=\"url(#clip5000)\">\n",
       "<text style=\"fill:#000000; fill-opacity:1; font-family:Arial,Helvetica Neue,Helvetica,sans-serif; font-size:48px; text-anchor:middle;\" transform=\"rotate(0, 250.289, 1541.47)\" x=\"250.289\" y=\"1541.47\">2</text>\n",
       "</g>\n",
       "<g clip-path=\"url(#clip5000)\">\n",
       "<text style=\"fill:#000000; fill-opacity:1; font-family:Arial,Helvetica Neue,Helvetica,sans-serif; font-size:48px; text-anchor:middle;\" transform=\"rotate(0, 465.304, 1541.47)\" x=\"465.304\" y=\"1541.47\">4</text>\n",
       "</g>\n",
       "<g clip-path=\"url(#clip5000)\">\n",
       "<text style=\"fill:#000000; fill-opacity:1; font-family:Arial,Helvetica Neue,Helvetica,sans-serif; font-size:48px; text-anchor:middle;\" transform=\"rotate(0, 680.318, 1541.47)\" x=\"680.318\" y=\"1541.47\">6</text>\n",
       "</g>\n",
       "<g clip-path=\"url(#clip5000)\">\n",
       "<text style=\"fill:#000000; fill-opacity:1; font-family:Arial,Helvetica Neue,Helvetica,sans-serif; font-size:48px; text-anchor:middle;\" transform=\"rotate(0, 895.333, 1541.47)\" x=\"895.333\" y=\"1541.47\">8</text>\n",
       "</g>\n",
       "<g clip-path=\"url(#clip5000)\">\n",
       "<text style=\"fill:#000000; fill-opacity:1; font-family:Arial,Helvetica Neue,Helvetica,sans-serif; font-size:48px; text-anchor:middle;\" transform=\"rotate(0, 1110.35, 1541.47)\" x=\"1110.35\" y=\"1541.47\">10</text>\n",
       "</g>\n",
       "<g clip-path=\"url(#clip5000)\">\n",
       "<text style=\"fill:#000000; fill-opacity:1; font-family:Arial,Helvetica Neue,Helvetica,sans-serif; font-size:48px; text-anchor:end;\" transform=\"rotate(0, 89.7545, 1478.26)\" x=\"89.7545\" y=\"1478.26\">0</text>\n",
       "</g>\n",
       "<g clip-path=\"url(#clip5000)\">\n",
       "<text style=\"fill:#000000; fill-opacity:1; font-family:Arial,Helvetica Neue,Helvetica,sans-serif; font-size:48px; text-anchor:end;\" transform=\"rotate(0, 89.7545, 1194.07)\" x=\"89.7545\" y=\"1194.07\">2</text>\n",
       "</g>\n",
       "<g clip-path=\"url(#clip5000)\">\n",
       "<text style=\"fill:#000000; fill-opacity:1; font-family:Arial,Helvetica Neue,Helvetica,sans-serif; font-size:48px; text-anchor:end;\" transform=\"rotate(0, 89.7545, 909.888)\" x=\"89.7545\" y=\"909.888\">4</text>\n",
       "</g>\n",
       "<g clip-path=\"url(#clip5000)\">\n",
       "<text style=\"fill:#000000; fill-opacity:1; font-family:Arial,Helvetica Neue,Helvetica,sans-serif; font-size:48px; text-anchor:end;\" transform=\"rotate(0, 89.7545, 625.702)\" x=\"89.7545\" y=\"625.702\">6</text>\n",
       "</g>\n",
       "<g clip-path=\"url(#clip5000)\">\n",
       "<text style=\"fill:#000000; fill-opacity:1; font-family:Arial,Helvetica Neue,Helvetica,sans-serif; font-size:48px; text-anchor:end;\" transform=\"rotate(0, 89.7545, 341.516)\" x=\"89.7545\" y=\"341.516\">8</text>\n",
       "</g>\n",
       "<polyline clip-path=\"url(#clip5002)\" style=\"stroke:#ff0000; stroke-width:4; stroke-opacity:1; fill:none\" points=\"\n",
       "  250.289,1007.9 465.304,654.95 680.318,942.576 895.333,1359.12 1110.35,783.519 \n",
       "  \"/>\n",
       "<polyline clip-path=\"url(#clip5002)\" style=\"stroke:#008000; stroke-width:4; stroke-opacity:1; fill:none\" points=\"\n",
       "  142.781,1446.71 357.796,302.057 572.811,381.258 787.826,1414.73 1002.84,88.0053 \n",
       "  \"/>\n",
       "<path clip-path=\"url(#clip5000)\" d=\"\n",
       "M800.612 312.204 L1067.37 312.204 L1067.37 130.764 L800.612 130.764  Z\n",
       "  \" fill=\"#ffffff\" fill-rule=\"evenodd\" fill-opacity=\"1\"/>\n",
       "<polyline clip-path=\"url(#clip5000)\" style=\"stroke:#000000; stroke-width:4; stroke-opacity:1; fill:none\" points=\"\n",
       "  800.612,312.204 1067.37,312.204 1067.37,130.764 800.612,130.764 800.612,312.204 \n",
       "  \"/>\n",
       "<polyline clip-path=\"url(#clip5000)\" style=\"stroke:#ff0000; stroke-width:4; stroke-opacity:1; fill:none\" points=\"\n",
       "  824.612,191.244 968.612,191.244 \n",
       "  \"/>\n",
       "<g clip-path=\"url(#clip5000)\">\n",
       "<text style=\"fill:#000000; fill-opacity:1; font-family:Arial,Helvetica Neue,Helvetica,sans-serif; font-size:48px; text-anchor:start;\" transform=\"rotate(0, 992.612, 208.744)\" x=\"992.612\" y=\"208.744\">0</text>\n",
       "</g>\n",
       "<polyline clip-path=\"url(#clip5000)\" style=\"stroke:#008000; stroke-width:4; stroke-opacity:1; fill:none\" points=\"\n",
       "  824.612,251.724 968.612,251.724 \n",
       "  \"/>\n",
       "<g clip-path=\"url(#clip5000)\">\n",
       "<text style=\"fill:#000000; fill-opacity:1; font-family:Arial,Helvetica Neue,Helvetica,sans-serif; font-size:48px; text-anchor:start;\" transform=\"rotate(0, 992.612, 269.224)\" x=\"992.612\" y=\"269.224\">1</text>\n",
       "</g>\n",
       "<path clip-path=\"url(#clip5000)\" d=\"\n",
       "M1327.14 1487.47 L2352.76 1487.47 L2352.76 47.2441 L1327.14 47.2441  Z\n",
       "  \" fill=\"#ffffff\" fill-rule=\"evenodd\" fill-opacity=\"1\"/>\n",
       "<defs>\n",
       "  <clipPath id=\"clip5003\">\n",
       "    <rect x=\"1327\" y=\"47\" width=\"1027\" height=\"1441\"/>\n",
       "  </clipPath>\n",
       "</defs>\n",
       "<polyline clip-path=\"url(#clip5003)\" style=\"stroke:#000000; stroke-width:2; stroke-opacity:0.1; fill:none\" points=\"\n",
       "  1463.67,1487.47 1463.67,47.2441 \n",
       "  \"/>\n",
       "<polyline clip-path=\"url(#clip5003)\" style=\"stroke:#000000; stroke-width:2; stroke-opacity:0.1; fill:none\" points=\"\n",
       "  1678.68,1487.47 1678.68,47.2441 \n",
       "  \"/>\n",
       "<polyline clip-path=\"url(#clip5003)\" style=\"stroke:#000000; stroke-width:2; stroke-opacity:0.1; fill:none\" points=\"\n",
       "  1893.7,1487.47 1893.7,47.2441 \n",
       "  \"/>\n",
       "<polyline clip-path=\"url(#clip5003)\" style=\"stroke:#000000; stroke-width:2; stroke-opacity:0.1; fill:none\" points=\"\n",
       "  2108.71,1487.47 2108.71,47.2441 \n",
       "  \"/>\n",
       "<polyline clip-path=\"url(#clip5003)\" style=\"stroke:#000000; stroke-width:2; stroke-opacity:0.1; fill:none\" points=\"\n",
       "  2323.73,1487.47 2323.73,47.2441 \n",
       "  \"/>\n",
       "<polyline clip-path=\"url(#clip5003)\" style=\"stroke:#000000; stroke-width:2; stroke-opacity:0.1; fill:none\" points=\"\n",
       "  1327.14,1207.46 2352.76,1207.46 \n",
       "  \"/>\n",
       "<polyline clip-path=\"url(#clip5003)\" style=\"stroke:#000000; stroke-width:2; stroke-opacity:0.1; fill:none\" points=\"\n",
       "  1327.14,922.754 2352.76,922.754 \n",
       "  \"/>\n",
       "<polyline clip-path=\"url(#clip5003)\" style=\"stroke:#000000; stroke-width:2; stroke-opacity:0.1; fill:none\" points=\"\n",
       "  1327.14,638.053 2352.76,638.053 \n",
       "  \"/>\n",
       "<polyline clip-path=\"url(#clip5003)\" style=\"stroke:#000000; stroke-width:2; stroke-opacity:0.1; fill:none\" points=\"\n",
       "  1327.14,353.352 2352.76,353.352 \n",
       "  \"/>\n",
       "<polyline clip-path=\"url(#clip5003)\" style=\"stroke:#000000; stroke-width:2; stroke-opacity:0.1; fill:none\" points=\"\n",
       "  1327.14,68.651 2352.76,68.651 \n",
       "  \"/>\n",
       "<polyline clip-path=\"url(#clip5000)\" style=\"stroke:#000000; stroke-width:4; stroke-opacity:1; fill:none\" points=\"\n",
       "  1327.14,1487.47 2352.76,1487.47 \n",
       "  \"/>\n",
       "<polyline clip-path=\"url(#clip5000)\" style=\"stroke:#000000; stroke-width:4; stroke-opacity:1; fill:none\" points=\"\n",
       "  1327.14,1487.47 1327.14,47.2441 \n",
       "  \"/>\n",
       "<polyline clip-path=\"url(#clip5000)\" style=\"stroke:#000000; stroke-width:4; stroke-opacity:1; fill:none\" points=\"\n",
       "  1463.67,1487.47 1463.67,1470.19 \n",
       "  \"/>\n",
       "<polyline clip-path=\"url(#clip5000)\" style=\"stroke:#000000; stroke-width:4; stroke-opacity:1; fill:none\" points=\"\n",
       "  1678.68,1487.47 1678.68,1470.19 \n",
       "  \"/>\n",
       "<polyline clip-path=\"url(#clip5000)\" style=\"stroke:#000000; stroke-width:4; stroke-opacity:1; fill:none\" points=\"\n",
       "  1893.7,1487.47 1893.7,1470.19 \n",
       "  \"/>\n",
       "<polyline clip-path=\"url(#clip5000)\" style=\"stroke:#000000; stroke-width:4; stroke-opacity:1; fill:none\" points=\"\n",
       "  2108.71,1487.47 2108.71,1470.19 \n",
       "  \"/>\n",
       "<polyline clip-path=\"url(#clip5000)\" style=\"stroke:#000000; stroke-width:4; stroke-opacity:1; fill:none\" points=\"\n",
       "  2323.73,1487.47 2323.73,1470.19 \n",
       "  \"/>\n",
       "<polyline clip-path=\"url(#clip5000)\" style=\"stroke:#000000; stroke-width:4; stroke-opacity:1; fill:none\" points=\"\n",
       "  1327.14,1207.46 1339.44,1207.46 \n",
       "  \"/>\n",
       "<polyline clip-path=\"url(#clip5000)\" style=\"stroke:#000000; stroke-width:4; stroke-opacity:1; fill:none\" points=\"\n",
       "  1327.14,922.754 1339.44,922.754 \n",
       "  \"/>\n",
       "<polyline clip-path=\"url(#clip5000)\" style=\"stroke:#000000; stroke-width:4; stroke-opacity:1; fill:none\" points=\"\n",
       "  1327.14,638.053 1339.44,638.053 \n",
       "  \"/>\n",
       "<polyline clip-path=\"url(#clip5000)\" style=\"stroke:#000000; stroke-width:4; stroke-opacity:1; fill:none\" points=\"\n",
       "  1327.14,353.352 1339.44,353.352 \n",
       "  \"/>\n",
       "<polyline clip-path=\"url(#clip5000)\" style=\"stroke:#000000; stroke-width:4; stroke-opacity:1; fill:none\" points=\"\n",
       "  1327.14,68.651 1339.44,68.651 \n",
       "  \"/>\n",
       "<g clip-path=\"url(#clip5000)\">\n",
       "<text style=\"fill:#000000; fill-opacity:1; font-family:Arial,Helvetica Neue,Helvetica,sans-serif; font-size:48px; text-anchor:middle;\" transform=\"rotate(0, 1463.67, 1541.47)\" x=\"1463.67\" y=\"1541.47\">2</text>\n",
       "</g>\n",
       "<g clip-path=\"url(#clip5000)\">\n",
       "<text style=\"fill:#000000; fill-opacity:1; font-family:Arial,Helvetica Neue,Helvetica,sans-serif; font-size:48px; text-anchor:middle;\" transform=\"rotate(0, 1678.68, 1541.47)\" x=\"1678.68\" y=\"1541.47\">4</text>\n",
       "</g>\n",
       "<g clip-path=\"url(#clip5000)\">\n",
       "<text style=\"fill:#000000; fill-opacity:1; font-family:Arial,Helvetica Neue,Helvetica,sans-serif; font-size:48px; text-anchor:middle;\" transform=\"rotate(0, 1893.7, 1541.47)\" x=\"1893.7\" y=\"1541.47\">6</text>\n",
       "</g>\n",
       "<g clip-path=\"url(#clip5000)\">\n",
       "<text style=\"fill:#000000; fill-opacity:1; font-family:Arial,Helvetica Neue,Helvetica,sans-serif; font-size:48px; text-anchor:middle;\" transform=\"rotate(0, 2108.71, 1541.47)\" x=\"2108.71\" y=\"1541.47\">8</text>\n",
       "</g>\n",
       "<g clip-path=\"url(#clip5000)\">\n",
       "<text style=\"fill:#000000; fill-opacity:1; font-family:Arial,Helvetica Neue,Helvetica,sans-serif; font-size:48px; text-anchor:middle;\" transform=\"rotate(0, 2323.73, 1541.47)\" x=\"2323.73\" y=\"1541.47\">10</text>\n",
       "</g>\n",
       "<g clip-path=\"url(#clip5000)\">\n",
       "<text style=\"fill:#000000; fill-opacity:1; font-family:Arial,Helvetica Neue,Helvetica,sans-serif; font-size:48px; text-anchor:end;\" transform=\"rotate(0, 1303.14, 1224.96)\" x=\"1303.14\" y=\"1224.96\">2</text>\n",
       "</g>\n",
       "<g clip-path=\"url(#clip5000)\">\n",
       "<text style=\"fill:#000000; fill-opacity:1; font-family:Arial,Helvetica Neue,Helvetica,sans-serif; font-size:48px; text-anchor:end;\" transform=\"rotate(0, 1303.14, 940.254)\" x=\"1303.14\" y=\"940.254\">4</text>\n",
       "</g>\n",
       "<g clip-path=\"url(#clip5000)\">\n",
       "<text style=\"fill:#000000; fill-opacity:1; font-family:Arial,Helvetica Neue,Helvetica,sans-serif; font-size:48px; text-anchor:end;\" transform=\"rotate(0, 1303.14, 655.553)\" x=\"1303.14\" y=\"655.553\">6</text>\n",
       "</g>\n",
       "<g clip-path=\"url(#clip5000)\">\n",
       "<text style=\"fill:#000000; fill-opacity:1; font-family:Arial,Helvetica Neue,Helvetica,sans-serif; font-size:48px; text-anchor:end;\" transform=\"rotate(0, 1303.14, 370.852)\" x=\"1303.14\" y=\"370.852\">8</text>\n",
       "</g>\n",
       "<g clip-path=\"url(#clip5000)\">\n",
       "<text style=\"fill:#000000; fill-opacity:1; font-family:Arial,Helvetica Neue,Helvetica,sans-serif; font-size:48px; text-anchor:end;\" transform=\"rotate(0, 1303.14, 86.151)\" x=\"1303.14\" y=\"86.151\">10</text>\n",
       "</g>\n",
       "<polyline clip-path=\"url(#clip5003)\" style=\"stroke:#0000ff; stroke-width:4; stroke-opacity:1; fill:none\" points=\"\n",
       "  1463.67,587.133 1678.68,798.288 1893.7,692.082 2108.71,837.299 2323.73,1446.71 \n",
       "  \"/>\n",
       "<polyline clip-path=\"url(#clip5003)\" style=\"stroke:#000000; stroke-width:4; stroke-opacity:1; fill:none\" points=\"\n",
       "  1356.16,93.6259 1571.18,1370.24 1786.19,1072.44 2001.21,88.0053 2216.22,1339.75 \n",
       "  \"/>\n",
       "<path clip-path=\"url(#clip5000)\" d=\"\n",
       "M2013.99 312.204 L2280.76 312.204 L2280.76 130.764 L2013.99 130.764  Z\n",
       "  \" fill=\"#ffffff\" fill-rule=\"evenodd\" fill-opacity=\"1\"/>\n",
       "<polyline clip-path=\"url(#clip5000)\" style=\"stroke:#000000; stroke-width:4; stroke-opacity:1; fill:none\" points=\"\n",
       "  2013.99,312.204 2280.76,312.204 2280.76,130.764 2013.99,130.764 2013.99,312.204 \n",
       "  \"/>\n",
       "<polyline clip-path=\"url(#clip5000)\" style=\"stroke:#0000ff; stroke-width:4; stroke-opacity:1; fill:none\" points=\"\n",
       "  2037.99,191.244 2181.99,191.244 \n",
       "  \"/>\n",
       "<g clip-path=\"url(#clip5000)\">\n",
       "<text style=\"fill:#000000; fill-opacity:1; font-family:Arial,Helvetica Neue,Helvetica,sans-serif; font-size:48px; text-anchor:start;\" transform=\"rotate(0, 2205.99, 208.744)\" x=\"2205.99\" y=\"208.744\">0</text>\n",
       "</g>\n",
       "<polyline clip-path=\"url(#clip5000)\" style=\"stroke:#000000; stroke-width:4; stroke-opacity:1; fill:none\" points=\"\n",
       "  2037.99,251.724 2181.99,251.724 \n",
       "  \"/>\n",
       "<g clip-path=\"url(#clip5000)\">\n",
       "<text style=\"fill:#000000; fill-opacity:1; font-family:Arial,Helvetica Neue,Helvetica,sans-serif; font-size:48px; text-anchor:start;\" transform=\"rotate(0, 2205.99, 269.224)\" x=\"2205.99\" y=\"269.224\">1</text>\n",
       "</g>\n",
       "</svg>\n"
      ]
     },
     "execution_count": 28,
     "metadata": {},
     "output_type": "execute_result"
    }
   ],
   "source": [
    "plot(df.a, [df.b, df.c], group=df.e, colour = [:red :blue :green :black], layout=2)"
   ]
  },
  {
   "cell_type": "markdown",
   "metadata": {},
   "source": [
    "### Zadanie \n",
    "- Napisać program w języku C używającego  interfejsu GSL do BLAS:<a href=\"https://www.gnu.org/software/gsl/doc/html/blas.html?highlight=blas#c.gsl_blas_ddot\"> funkcji gsl_blas_ddot </a> (mnożenie dwóch wektorów) i \n",
    "<a href=\"https://www.gnu.org/software/gsl/doc/html/blas.html?highlight=blas#c.gsl_blas_dgemv\">gsl_blas_dgemv</a> (mnożenie macierzy przez wektor). <a href=\"https://www.gnu.org/software/gsl/doc/html/blas.html?highlight=blas#examples\"> Przykłady użycia.</a>\n",
    "- Uruchomić i zmierzyć czasy działania obydwu funkcji - każdej dla różnych rozmiarów wektorów.  Dokonać 10 pomiarów dla każdego rozmiaru wektora.\n",
    "- Czasy działania powinny  być zapisywane do <b>jednego</b> pliku CSV. Należy zaplanować odpowiednią strukturę kolumn takiego pliku.\n",
    "- Wczytać dane z w/w pliku do <b>jednego</b> DataFrame w języku Julia. \n",
    "- Korzystająć z mechanizmów DataFrame w języku Julia obliczyć średnią i odchylenie standardowe, w taki sposób, aby narysować wykresy średnich czasów obliczenia operacji BLAS w zależności od rozmiaru wektora (macierzy) osobno dla poziomu 1 i poziomu 2. Dodać słupki błędów do obydwu wykresów uzyskanych z obliczenia odchylenia standardowego. Prosze poukladac wykresy  w tabalke za pomoca  opcji layout\n",
    "- Należy zadbać o staranne podpisanie osi i wykresów."
   ]
  }
 ],
 "metadata": {
  "kernelspec": {
   "display_name": "Julia 1.3.1",
   "language": "julia",
   "name": "julia-1.3"
  },
  "language_info": {
   "file_extension": ".jl",
   "mimetype": "application/julia",
   "name": "julia",
   "version": "1.3.1"
  }
 },
 "nbformat": 4,
 "nbformat_minor": 2
}
