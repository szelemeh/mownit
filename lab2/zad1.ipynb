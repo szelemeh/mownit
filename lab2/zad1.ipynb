{
 "cells": [
  {
   "cell_type": "code",
   "execution_count": 4,
   "metadata": {},
   "outputs": [
    {
     "name": "stdout",
     "output_type": "stream",
     "text": [
      "\u001b[32m\u001b[1m Resolving\u001b[22m\u001b[39m package versions...\n",
      "\u001b[32m\u001b[1m  Updating\u001b[22m\u001b[39m `C:\\Users\\stass\\.julia\\environments\\v1.3\\Project.toml`\n",
      "\u001b[90m [no changes]\u001b[39m\n",
      "\u001b[32m\u001b[1m  Updating\u001b[22m\u001b[39m `C:\\Users\\stass\\.julia\\environments\\v1.3\\Manifest.toml`\n",
      "\u001b[90m [no changes]\u001b[39m\n",
      "\u001b[32m\u001b[1m Resolving\u001b[22m\u001b[39m package versions...\n",
      "\u001b[32m\u001b[1m Installed\u001b[22m\u001b[39m WeakRefStrings ─ v0.6.2\n",
      "\u001b[32m\u001b[1m Installed\u001b[22m\u001b[39m FilePathsBase ── v0.7.0\n",
      "\u001b[32m\u001b[1m Installed\u001b[22m\u001b[39m CSV ──────────── v0.5.26\n",
      "\u001b[32m\u001b[1m  Updating\u001b[22m\u001b[39m `C:\\Users\\stass\\.julia\\environments\\v1.3\\Project.toml`\n",
      " \u001b[90m [336ed68f]\u001b[39m\u001b[92m + CSV v0.5.26\u001b[39m\n",
      "\u001b[32m\u001b[1m  Updating\u001b[22m\u001b[39m `C:\\Users\\stass\\.julia\\environments\\v1.3\\Manifest.toml`\n",
      " \u001b[90m [336ed68f]\u001b[39m\u001b[92m + CSV v0.5.26\u001b[39m\n",
      " \u001b[90m [48062228]\u001b[39m\u001b[92m + FilePathsBase v0.7.0\u001b[39m\n",
      " \u001b[90m [ea10d353]\u001b[39m\u001b[92m + WeakRefStrings v0.6.2\u001b[39m\n"
     ]
    },
    {
     "name": "stderr",
     "output_type": "stream",
     "text": [
      "┌ Info: Precompiling CSV [336ed68f-0bac-5ca0-87d4-7b16caf5d00b]\n",
      "└ @ Base loading.jl:1273\n"
     ]
    }
   ],
   "source": [
    "import Pkg\n",
    "Pkg.add(\"DataFrames\")\n",
    "Pkg.add(\"CSV\")\n",
    "using DataFrames\n",
    "using CSV"
   ]
  },
  {
   "cell_type": "code",
   "execution_count": 5,
   "metadata": {},
   "outputs": [
    {
     "data": {
      "text/html": [
       "<table class=\"data-frame\"><thead><tr><th></th><th>size</th><th>time</th><th>only_vectors</th></tr><tr><th></th><th>Int64</th><th>Float64</th><th>Int64</th></tr></thead><tbody><p>930 rows × 3 columns</p><tr><th>1</th><td>50000</td><td>0.0</td><td>1</td></tr><tr><th>2</th><td>50000</td><td>0.0</td><td>1</td></tr><tr><th>3</th><td>50000</td><td>0.01</td><td>1</td></tr><tr><th>4</th><td>50000</td><td>0.0</td><td>1</td></tr><tr><th>5</th><td>50000</td><td>0.0</td><td>1</td></tr><tr><th>6</th><td>50000</td><td>0.01</td><td>1</td></tr><tr><th>7</th><td>50000</td><td>0.0</td><td>1</td></tr><tr><th>8</th><td>50000</td><td>0.0</td><td>1</td></tr><tr><th>9</th><td>50000</td><td>0.01</td><td>1</td></tr><tr><th>10</th><td>50000</td><td>0.0</td><td>1</td></tr><tr><th>11</th><td>70000</td><td>0.01</td><td>1</td></tr><tr><th>12</th><td>70000</td><td>0.0</td><td>1</td></tr><tr><th>13</th><td>70000</td><td>0.01</td><td>1</td></tr><tr><th>14</th><td>70000</td><td>0.0</td><td>1</td></tr><tr><th>15</th><td>70000</td><td>0.0</td><td>1</td></tr><tr><th>16</th><td>70000</td><td>0.01</td><td>1</td></tr><tr><th>17</th><td>70000</td><td>0.0</td><td>1</td></tr><tr><th>18</th><td>70000</td><td>0.01</td><td>1</td></tr><tr><th>19</th><td>70000</td><td>0.01</td><td>1</td></tr><tr><th>20</th><td>70000</td><td>0.0</td><td>1</td></tr><tr><th>21</th><td>90000</td><td>0.01</td><td>1</td></tr><tr><th>22</th><td>90000</td><td>0.01</td><td>1</td></tr><tr><th>23</th><td>90000</td><td>0.0</td><td>1</td></tr><tr><th>24</th><td>90000</td><td>0.01</td><td>1</td></tr><tr><th>25</th><td>90000</td><td>0.0</td><td>1</td></tr><tr><th>26</th><td>90000</td><td>0.01</td><td>1</td></tr><tr><th>27</th><td>90000</td><td>0.0</td><td>1</td></tr><tr><th>28</th><td>90000</td><td>0.01</td><td>1</td></tr><tr><th>29</th><td>90000</td><td>0.01</td><td>1</td></tr><tr><th>30</th><td>90000</td><td>0.0</td><td>1</td></tr><tr><th>&vellip;</th><td>&vellip;</td><td>&vellip;</td><td>&vellip;</td></tr></tbody></table>"
      ],
      "text/latex": [
       "\\begin{tabular}{r|ccc}\n",
       "\t& size & time & only\\_vectors\\\\\n",
       "\t\\hline\n",
       "\t& Int64 & Float64 & Int64\\\\\n",
       "\t\\hline\n",
       "\t1 & 50000 & 0.0 & 1 \\\\\n",
       "\t2 & 50000 & 0.0 & 1 \\\\\n",
       "\t3 & 50000 & 0.01 & 1 \\\\\n",
       "\t4 & 50000 & 0.0 & 1 \\\\\n",
       "\t5 & 50000 & 0.0 & 1 \\\\\n",
       "\t6 & 50000 & 0.01 & 1 \\\\\n",
       "\t7 & 50000 & 0.0 & 1 \\\\\n",
       "\t8 & 50000 & 0.0 & 1 \\\\\n",
       "\t9 & 50000 & 0.01 & 1 \\\\\n",
       "\t10 & 50000 & 0.0 & 1 \\\\\n",
       "\t11 & 70000 & 0.01 & 1 \\\\\n",
       "\t12 & 70000 & 0.0 & 1 \\\\\n",
       "\t13 & 70000 & 0.01 & 1 \\\\\n",
       "\t14 & 70000 & 0.0 & 1 \\\\\n",
       "\t15 & 70000 & 0.0 & 1 \\\\\n",
       "\t16 & 70000 & 0.01 & 1 \\\\\n",
       "\t17 & 70000 & 0.0 & 1 \\\\\n",
       "\t18 & 70000 & 0.01 & 1 \\\\\n",
       "\t19 & 70000 & 0.01 & 1 \\\\\n",
       "\t20 & 70000 & 0.0 & 1 \\\\\n",
       "\t21 & 90000 & 0.01 & 1 \\\\\n",
       "\t22 & 90000 & 0.01 & 1 \\\\\n",
       "\t23 & 90000 & 0.0 & 1 \\\\\n",
       "\t24 & 90000 & 0.01 & 1 \\\\\n",
       "\t25 & 90000 & 0.0 & 1 \\\\\n",
       "\t26 & 90000 & 0.01 & 1 \\\\\n",
       "\t27 & 90000 & 0.0 & 1 \\\\\n",
       "\t28 & 90000 & 0.01 & 1 \\\\\n",
       "\t29 & 90000 & 0.01 & 1 \\\\\n",
       "\t30 & 90000 & 0.0 & 1 \\\\\n",
       "\t$\\dots$ & $\\dots$ & $\\dots$ & $\\dots$ \\\\\n",
       "\\end{tabular}\n"
      ],
      "text/plain": [
       "930×3 DataFrame\n",
       "│ Row │ size  │ time    │ only_vectors │\n",
       "│     │ \u001b[90mInt64\u001b[39m │ \u001b[90mFloat64\u001b[39m │ \u001b[90mInt64\u001b[39m        │\n",
       "├─────┼───────┼─────────┼──────────────┤\n",
       "│ 1   │ 50000 │ 0.0     │ 1            │\n",
       "│ 2   │ 50000 │ 0.0     │ 1            │\n",
       "│ 3   │ 50000 │ 0.01    │ 1            │\n",
       "│ 4   │ 50000 │ 0.0     │ 1            │\n",
       "│ 5   │ 50000 │ 0.0     │ 1            │\n",
       "│ 6   │ 50000 │ 0.01    │ 1            │\n",
       "│ 7   │ 50000 │ 0.0     │ 1            │\n",
       "│ 8   │ 50000 │ 0.0     │ 1            │\n",
       "│ 9   │ 50000 │ 0.01    │ 1            │\n",
       "│ 10  │ 50000 │ 0.0     │ 1            │\n",
       "⋮\n",
       "│ 920 │ 3520  │ 0.41    │ 0            │\n",
       "│ 921 │ 3600  │ 0.42    │ 0            │\n",
       "│ 922 │ 3600  │ 0.45    │ 0            │\n",
       "│ 923 │ 3600  │ 0.39    │ 0            │\n",
       "│ 924 │ 3600  │ 0.43    │ 0            │\n",
       "│ 925 │ 3600  │ 0.39    │ 0            │\n",
       "│ 926 │ 3600  │ 0.38    │ 0            │\n",
       "│ 927 │ 3600  │ 0.41    │ 0            │\n",
       "│ 928 │ 3600  │ 0.37    │ 0            │\n",
       "│ 929 │ 3600  │ 0.38    │ 0            │\n",
       "│ 930 │ 3600  │ 0.41    │ 0            │"
      ]
     },
     "execution_count": 5,
     "metadata": {},
     "output_type": "execute_result"
    }
   ],
   "source": [
    "input=\"results.csv\"\n",
    "myData=CSV.read(input, delim=\",\")"
   ]
  },
  {
   "cell_type": "code",
   "execution_count": 3,
   "metadata": {},
   "outputs": [
    {
     "ename": "UndefVarError",
     "evalue": "UndefVarError: myData not defined",
     "output_type": "error",
     "traceback": [
      "UndefVarError: myData not defined",
      "",
      "Stacktrace:",
      " [1] top-level scope at In[3]:1"
     ]
    }
   ],
   "source": []
  },
  {
   "cell_type": "code",
   "execution_count": null,
   "metadata": {},
   "outputs": [],
   "source": []
  }
 ],
 "metadata": {
  "kernelspec": {
   "display_name": "Julia 1.3.1",
   "language": "julia",
   "name": "julia-1.3"
  },
  "language_info": {
   "file_extension": ".jl",
   "mimetype": "application/julia",
   "name": "julia",
   "version": "1.3.1"
  }
 },
 "nbformat": 4,
 "nbformat_minor": 4
}
