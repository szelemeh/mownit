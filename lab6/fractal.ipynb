{
 "cells": [
  {
   "cell_type": "markdown",
   "metadata": {},
   "source": [
    "### Rysowanie wstęgi Newtona"
   ]
  },
  {
   "cell_type": "markdown",
   "metadata": {},
   "source": [
    "Wstęga Newtona ma do metody Newtona to, że każdy punkt na wstędze oznacza czy wykorzystując ten punkt jako początkowy w metodzie Newtona znajdziemy korzenia równania. Można też pokolorować punkty w zależności jak szybko(ile iteracji) dochodzimy do rozwiązania."
   ]
  },
  {
   "cell_type": "code",
   "execution_count": 42,
   "metadata": {},
   "outputs": [],
   "source": [
    "from PIL import Image"
   ]
  },
  {
   "cell_type": "code",
   "execution_count": 43,
   "metadata": {},
   "outputs": [],
   "source": [
    "width = 512\n",
    "height = 512\n",
    "image = Image.new(\"RGB\", (width, height))\n",
    "\n",
    "# drawing area\n",
    "xa = -1.0\n",
    "xb = 1.0\n",
    "ya = -1.0\n",
    "yb = 1.0\n",
    "\n",
    "maxIt = 20 # maks ilość iteracji\n",
    "h = 1e-6 # krok dla numerycznegoliczenia pochodnej\n",
    "eps = 1e-3 # maks błąd"
   ]
  },
  {
   "cell_type": "code",
   "execution_count": 44,
   "metadata": {},
   "outputs": [],
   "source": [
    "# funkcja z której jest rysowana wstęga\n",
    "def f(z):\n",
    "    return z*z*z - 2*z + 2"
   ]
  },
  {
   "cell_type": "code",
   "execution_count": 45,
   "metadata": {},
   "outputs": [],
   "source": [
    "# Rysowanie wstęgi\n",
    "for y in range(height):\n",
    "    zy = y * (yb - ya) / (height - 1) + ya\n",
    "    for x in range(width):\n",
    "        zx = x * (xb - xa) / (width - 1) + xa\n",
    "        z = complex(zx, zy)\n",
    "        for i in range(maxIt):\n",
    "            # zespolona pochodna\n",
    "            dz = (f(z + complex(h, h)) - f(z)) / complex(h, h)\n",
    "            z0 = z - f(z) / dz # iteracja metody Newtona\n",
    "            if abs(z0 - z) < eps: # stop when close enough to any root\n",
    "                break\n",
    "            z = z0\n",
    "        image.putpixel((x, y), (i % 4 * 64, i % 8 * 32, i % 16 * 16))"
   ]
  },
  {
   "cell_type": "code",
   "execution_count": 48,
   "metadata": {},
   "outputs": [],
   "source": [
    "# zapisujemy wynik do pliku fractal_img.png\n",
    "image.save(\"fractal_img.png\", \"PNG\")"
   ]
  }
 ],
 "metadata": {
  "kernelspec": {
   "display_name": "Python 3",
   "language": "python",
   "name": "python3"
  },
  "language_info": {
   "codemirror_mode": {
    "name": "ipython",
    "version": 3
   },
   "file_extension": ".py",
   "mimetype": "text/x-python",
   "name": "python",
   "nbconvert_exporter": "python",
   "pygments_lexer": "ipython3",
   "version": "3.6.9"
  }
 },
 "nbformat": 4,
 "nbformat_minor": 4
}
