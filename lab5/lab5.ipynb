{
 "cells": [
  {
   "cell_type": "markdown",
   "metadata": {},
   "source": [
    "# Całkowanie"
   ]
  },
  {
   "cell_type": "markdown",
   "metadata": {},
   "source": [
    "Stanislav Shelemekh"
   ]
  },
  {
   "cell_type": "markdown",
   "metadata": {},
   "source": [
    "### Zadanie 1\n",
    "- Korzytając z pakietu <a href=\"https://github.com/JuliaMath/Polynomials.jl\">Polynomials</a> zaimplementuj wielomiany Legendre'a zdefiniowane w taki sposób:\n",
    "\n",
    "$P_{0}(x)=1$\n",
    "\n",
    "$P_{1}(x)=x$\n",
    "\n",
    "$P_{k+1}(x)=\\frac{2k+1}{k+1} x P_{k}(x)-\\frac{k}{k+1}P_{k-1}(x)$\n",
    "\n",
    "- narysuj ich wykresy w przedziale (-1,1). \n",
    "- sprawdź(np. za pomocą fukcji <i>roots</i> z pakietu Polynomials), że ich zera  sa odciętymi punktów Gaussa. Test wykonaj dla wielomianow od 2 do 4 stopnia\n",
    "- podaj związek tego faktu z podstawowym twierdzeniem kwadratur Gaussa (z wykładu)"
   ]
  },
  {
   "cell_type": "code",
   "execution_count": 182,
   "metadata": {},
   "outputs": [],
   "source": [
    "using Polynomials"
   ]
  },
  {
   "cell_type": "code",
   "execution_count": 183,
   "metadata": {},
   "outputs": [
    {
     "data": {
      "text/plain": [
       "legend_poly (generic function with 1 method)"
      ]
     },
     "execution_count": 183,
     "metadata": {},
     "output_type": "execute_result"
    }
   ],
   "source": [
    "function legend_poly(degree)\n",
    "    if degree == 0\n",
    "        return Poly([1])\n",
    "    end\n",
    "    \n",
    "    x = Poly([0, 1])\n",
    "    \n",
    "    if degree == 1\n",
    "        return x\n",
    "    end\n",
    "    \n",
    "    k = degree\n",
    "    \n",
    "    return(2*(k-1)+1)/(k)*x*legendPoly(k-1) - (k-1)/k*legendPoly(k-2)\n",
    "\n",
    "end     "
   ]
  },
  {
   "cell_type": "code",
   "execution_count": 184,
   "metadata": {},
   "outputs": [],
   "source": [
    "using Plots"
   ]
  },
  {
   "cell_type": "code",
   "execution_count": 185,
   "metadata": {},
   "outputs": [
    {
     "data": {
      "image/svg+xml": [
       "<?xml version=\"1.0\" encoding=\"utf-8\"?>\n",
       "<svg xmlns=\"http://www.w3.org/2000/svg\" xmlns:xlink=\"http://www.w3.org/1999/xlink\" width=\"600\" height=\"400\" viewBox=\"0 0 2400 1600\">\n",
       "<defs>\n",
       "  <clipPath id=\"clip1400\">\n",
       "    <rect x=\"0\" y=\"0\" width=\"2400\" height=\"1600\"/>\n",
       "  </clipPath>\n",
       "</defs>\n",
       "<path clip-path=\"url(#clip1400)\" d=\"\n",
       "M0 1600 L2400 1600 L2400 0 L0 0  Z\n",
       "  \" fill=\"#ffffff\" fill-rule=\"evenodd\" fill-opacity=\"1\"/>\n",
       "<defs>\n",
       "  <clipPath id=\"clip1401\">\n",
       "    <rect x=\"480\" y=\"0\" width=\"1681\" height=\"1600\"/>\n",
       "  </clipPath>\n",
       "</defs>\n",
       "<path clip-path=\"url(#clip1400)\" d=\"\n",
       "M182.008 1487.47 L2352.76 1487.47 L2352.76 121.675 L182.008 121.675  Z\n",
       "  \" fill=\"#ffffff\" fill-rule=\"evenodd\" fill-opacity=\"1\"/>\n",
       "<defs>\n",
       "  <clipPath id=\"clip1402\">\n",
       "    <rect x=\"182\" y=\"121\" width=\"2172\" height=\"1367\"/>\n",
       "  </clipPath>\n",
       "</defs>\n",
       "<polyline clip-path=\"url(#clip1402)\" style=\"stroke:#000000; stroke-width:2; stroke-opacity:0.1; fill:none\" points=\"\n",
       "  243.444,1487.47 243.444,121.675 \n",
       "  \"/>\n",
       "<polyline clip-path=\"url(#clip1402)\" style=\"stroke:#000000; stroke-width:2; stroke-opacity:0.1; fill:none\" points=\"\n",
       "  755.413,1487.47 755.413,121.675 \n",
       "  \"/>\n",
       "<polyline clip-path=\"url(#clip1402)\" style=\"stroke:#000000; stroke-width:2; stroke-opacity:0.1; fill:none\" points=\"\n",
       "  1267.38,1487.47 1267.38,121.675 \n",
       "  \"/>\n",
       "<polyline clip-path=\"url(#clip1402)\" style=\"stroke:#000000; stroke-width:2; stroke-opacity:0.1; fill:none\" points=\"\n",
       "  1779.35,1487.47 1779.35,121.675 \n",
       "  \"/>\n",
       "<polyline clip-path=\"url(#clip1402)\" style=\"stroke:#000000; stroke-width:2; stroke-opacity:0.1; fill:none\" points=\"\n",
       "  2291.32,1487.47 2291.32,121.675 \n",
       "  \"/>\n",
       "<polyline clip-path=\"url(#clip1402)\" style=\"stroke:#000000; stroke-width:2; stroke-opacity:0.1; fill:none\" points=\"\n",
       "  182.008,1448.82 2352.76,1448.82 \n",
       "  \"/>\n",
       "<polyline clip-path=\"url(#clip1402)\" style=\"stroke:#000000; stroke-width:2; stroke-opacity:0.1; fill:none\" points=\"\n",
       "  182.008,1126.7 2352.76,1126.7 \n",
       "  \"/>\n",
       "<polyline clip-path=\"url(#clip1402)\" style=\"stroke:#000000; stroke-width:2; stroke-opacity:0.1; fill:none\" points=\"\n",
       "  182.008,804.575 2352.76,804.575 \n",
       "  \"/>\n",
       "<polyline clip-path=\"url(#clip1402)\" style=\"stroke:#000000; stroke-width:2; stroke-opacity:0.1; fill:none\" points=\"\n",
       "  182.008,482.452 2352.76,482.452 \n",
       "  \"/>\n",
       "<polyline clip-path=\"url(#clip1402)\" style=\"stroke:#000000; stroke-width:2; stroke-opacity:0.1; fill:none\" points=\"\n",
       "  182.008,160.33 2352.76,160.33 \n",
       "  \"/>\n",
       "<polyline clip-path=\"url(#clip1400)\" style=\"stroke:#000000; stroke-width:4; stroke-opacity:1; fill:none\" points=\"\n",
       "  182.008,1487.47 2352.76,1487.47 \n",
       "  \"/>\n",
       "<polyline clip-path=\"url(#clip1400)\" style=\"stroke:#000000; stroke-width:4; stroke-opacity:1; fill:none\" points=\"\n",
       "  182.008,1487.47 182.008,121.675 \n",
       "  \"/>\n",
       "<polyline clip-path=\"url(#clip1400)\" style=\"stroke:#000000; stroke-width:4; stroke-opacity:1; fill:none\" points=\"\n",
       "  243.444,1487.47 243.444,1471.09 \n",
       "  \"/>\n",
       "<polyline clip-path=\"url(#clip1400)\" style=\"stroke:#000000; stroke-width:4; stroke-opacity:1; fill:none\" points=\"\n",
       "  755.413,1487.47 755.413,1471.09 \n",
       "  \"/>\n",
       "<polyline clip-path=\"url(#clip1400)\" style=\"stroke:#000000; stroke-width:4; stroke-opacity:1; fill:none\" points=\"\n",
       "  1267.38,1487.47 1267.38,1471.09 \n",
       "  \"/>\n",
       "<polyline clip-path=\"url(#clip1400)\" style=\"stroke:#000000; stroke-width:4; stroke-opacity:1; fill:none\" points=\"\n",
       "  1779.35,1487.47 1779.35,1471.09 \n",
       "  \"/>\n",
       "<polyline clip-path=\"url(#clip1400)\" style=\"stroke:#000000; stroke-width:4; stroke-opacity:1; fill:none\" points=\"\n",
       "  2291.32,1487.47 2291.32,1471.09 \n",
       "  \"/>\n",
       "<polyline clip-path=\"url(#clip1400)\" style=\"stroke:#000000; stroke-width:4; stroke-opacity:1; fill:none\" points=\"\n",
       "  182.008,1448.82 208.057,1448.82 \n",
       "  \"/>\n",
       "<polyline clip-path=\"url(#clip1400)\" style=\"stroke:#000000; stroke-width:4; stroke-opacity:1; fill:none\" points=\"\n",
       "  182.008,1126.7 208.057,1126.7 \n",
       "  \"/>\n",
       "<polyline clip-path=\"url(#clip1400)\" style=\"stroke:#000000; stroke-width:4; stroke-opacity:1; fill:none\" points=\"\n",
       "  182.008,804.575 208.057,804.575 \n",
       "  \"/>\n",
       "<polyline clip-path=\"url(#clip1400)\" style=\"stroke:#000000; stroke-width:4; stroke-opacity:1; fill:none\" points=\"\n",
       "  182.008,482.452 208.057,482.452 \n",
       "  \"/>\n",
       "<polyline clip-path=\"url(#clip1400)\" style=\"stroke:#000000; stroke-width:4; stroke-opacity:1; fill:none\" points=\"\n",
       "  182.008,160.33 208.057,160.33 \n",
       "  \"/>\n",
       "<g clip-path=\"url(#clip1400)\">\n",
       "<text style=\"fill:#000000; fill-opacity:1; font-family:Arial,Helvetica Neue,Helvetica,sans-serif; font-size:48px; text-anchor:middle;\" transform=\"rotate(0, 243.444, 1541.47)\" x=\"243.444\" y=\"1541.47\">-1.0</text>\n",
       "</g>\n",
       "<g clip-path=\"url(#clip1400)\">\n",
       "<text style=\"fill:#000000; fill-opacity:1; font-family:Arial,Helvetica Neue,Helvetica,sans-serif; font-size:48px; text-anchor:middle;\" transform=\"rotate(0, 755.413, 1541.47)\" x=\"755.413\" y=\"1541.47\">-0.5</text>\n",
       "</g>\n",
       "<g clip-path=\"url(#clip1400)\">\n",
       "<text style=\"fill:#000000; fill-opacity:1; font-family:Arial,Helvetica Neue,Helvetica,sans-serif; font-size:48px; text-anchor:middle;\" transform=\"rotate(0, 1267.38, 1541.47)\" x=\"1267.38\" y=\"1541.47\">0.0</text>\n",
       "</g>\n",
       "<g clip-path=\"url(#clip1400)\">\n",
       "<text style=\"fill:#000000; fill-opacity:1; font-family:Arial,Helvetica Neue,Helvetica,sans-serif; font-size:48px; text-anchor:middle;\" transform=\"rotate(0, 1779.35, 1541.47)\" x=\"1779.35\" y=\"1541.47\">0.5</text>\n",
       "</g>\n",
       "<g clip-path=\"url(#clip1400)\">\n",
       "<text style=\"fill:#000000; fill-opacity:1; font-family:Arial,Helvetica Neue,Helvetica,sans-serif; font-size:48px; text-anchor:middle;\" transform=\"rotate(0, 2291.32, 1541.47)\" x=\"2291.32\" y=\"1541.47\">1.0</text>\n",
       "</g>\n",
       "<g clip-path=\"url(#clip1400)\">\n",
       "<text style=\"fill:#000000; fill-opacity:1; font-family:Arial,Helvetica Neue,Helvetica,sans-serif; font-size:48px; text-anchor:end;\" transform=\"rotate(0, 158.008, 1466.32)\" x=\"158.008\" y=\"1466.32\">-1.0</text>\n",
       "</g>\n",
       "<g clip-path=\"url(#clip1400)\">\n",
       "<text style=\"fill:#000000; fill-opacity:1; font-family:Arial,Helvetica Neue,Helvetica,sans-serif; font-size:48px; text-anchor:end;\" transform=\"rotate(0, 158.008, 1144.2)\" x=\"158.008\" y=\"1144.2\">-0.5</text>\n",
       "</g>\n",
       "<g clip-path=\"url(#clip1400)\">\n",
       "<text style=\"fill:#000000; fill-opacity:1; font-family:Arial,Helvetica Neue,Helvetica,sans-serif; font-size:48px; text-anchor:end;\" transform=\"rotate(0, 158.008, 822.075)\" x=\"158.008\" y=\"822.075\">0.0</text>\n",
       "</g>\n",
       "<g clip-path=\"url(#clip1400)\">\n",
       "<text style=\"fill:#000000; fill-opacity:1; font-family:Arial,Helvetica Neue,Helvetica,sans-serif; font-size:48px; text-anchor:end;\" transform=\"rotate(0, 158.008, 499.952)\" x=\"158.008\" y=\"499.952\">0.5</text>\n",
       "</g>\n",
       "<g clip-path=\"url(#clip1400)\">\n",
       "<text style=\"fill:#000000; fill-opacity:1; font-family:Arial,Helvetica Neue,Helvetica,sans-serif; font-size:48px; text-anchor:end;\" transform=\"rotate(0, 158.008, 177.83)\" x=\"158.008\" y=\"177.83\">1.0</text>\n",
       "</g>\n",
       "<g clip-path=\"url(#clip1400)\">\n",
       "<text style=\"fill:#000000; fill-opacity:1; font-family:Arial,Helvetica Neue,Helvetica,sans-serif; font-size:84px; text-anchor:middle;\" transform=\"rotate(0, 1267.38, 73.2)\" x=\"1267.38\" y=\"73.2\">Wielomiany Legendre&apos;a</text>\n",
       "</g>\n",
       "<polyline clip-path=\"url(#clip1402)\" style=\"stroke:#009af9; stroke-width:4; stroke-opacity:1; fill:none\" points=\"\n",
       "  243.444,160.33 253.684,179.561 263.923,198.598 274.162,217.442 284.402,236.093 294.641,254.551 304.881,272.815 315.12,290.886 325.359,308.764 335.599,326.448 \n",
       "  345.838,343.94 356.077,361.238 366.317,378.342 376.556,395.254 386.796,411.972 397.035,428.497 407.274,444.828 417.514,460.967 427.753,476.912 437.992,492.664 \n",
       "  448.232,508.222 458.471,523.587 468.711,538.759 478.95,553.738 489.189,568.524 499.429,583.116 509.668,597.515 519.907,611.72 530.147,625.732 540.386,639.552 \n",
       "  550.626,653.177 560.865,666.61 571.104,679.849 581.344,692.895 591.583,705.748 601.823,718.407 612.062,730.873 622.301,743.146 632.541,755.226 642.78,767.112 \n",
       "  653.019,778.805 663.259,790.305 673.498,801.611 683.738,812.725 693.977,823.645 704.216,834.371 714.456,844.905 724.695,855.245 734.934,865.392 745.174,875.345 \n",
       "  755.413,885.106 765.653,894.673 775.892,904.046 786.131,913.227 796.371,922.214 806.61,931.008 816.849,939.609 827.089,948.016 837.328,956.23 847.568,964.251 \n",
       "  857.807,972.079 868.046,979.713 878.286,987.154 888.525,994.402 898.764,1001.46 909.004,1008.32 919.243,1014.99 929.483,1021.46 939.722,1027.74 949.961,1033.83 \n",
       "  960.201,1039.72 970.44,1045.43 980.679,1050.93 990.919,1056.25 1001.16,1061.37 1011.4,1066.3 1021.64,1071.03 1031.88,1075.58 1042.12,1079.93 1052.36,1084.08 \n",
       "  1062.59,1088.04 1072.83,1091.81 1083.07,1095.39 1093.31,1098.77 1103.55,1101.96 1113.79,1104.95 1124.03,1107.76 1134.27,1110.37 1144.51,1112.78 1154.75,1115 \n",
       "  1164.99,1117.03 1175.23,1118.87 1185.47,1120.51 1195.71,1121.96 1205.95,1123.22 1216.19,1124.28 1226.42,1125.15 1236.66,1125.83 1246.9,1126.31 1257.14,1126.6 \n",
       "  1267.38,1126.7 1277.62,1126.6 1287.86,1126.31 1298.1,1125.83 1308.34,1125.15 1318.58,1124.28 1328.82,1123.22 1339.06,1121.96 1349.3,1120.51 1359.54,1118.87 \n",
       "  1369.78,1117.03 1380.02,1115 1390.25,1112.78 1400.49,1110.37 1410.73,1107.76 1420.97,1104.95 1431.21,1101.96 1441.45,1098.77 1451.69,1095.39 1461.93,1091.81 \n",
       "  1472.17,1088.04 1482.41,1084.08 1492.65,1079.93 1502.89,1075.58 1513.13,1071.03 1523.37,1066.3 1533.61,1061.37 1543.85,1056.25 1554.08,1050.93 1564.32,1045.43 \n",
       "  1574.56,1039.72 1584.8,1033.83 1595.04,1027.74 1605.28,1021.46 1615.52,1014.99 1625.76,1008.32 1636,1001.46 1646.24,994.402 1656.48,987.154 1666.72,979.713 \n",
       "  1676.96,972.079 1687.2,964.251 1697.44,956.23 1707.68,948.016 1717.91,939.609 1728.15,931.008 1738.39,922.214 1748.63,913.227 1758.87,904.046 1769.11,894.673 \n",
       "  1779.35,885.106 1789.59,875.345 1799.83,865.392 1810.07,855.245 1820.31,844.905 1830.55,834.371 1840.79,823.645 1851.03,812.725 1861.27,801.611 1871.51,790.305 \n",
       "  1881.74,778.805 1891.98,767.112 1902.22,755.226 1912.46,743.146 1922.7,730.873 1932.94,718.407 1943.18,705.748 1953.42,692.895 1963.66,679.849 1973.9,666.61 \n",
       "  1984.14,653.177 1994.38,639.552 2004.62,625.732 2014.86,611.72 2025.1,597.515 2035.34,583.116 2045.57,568.524 2055.81,553.738 2066.05,538.759 2076.29,523.587 \n",
       "  2086.53,508.222 2096.77,492.664 2107.01,476.912 2117.25,460.967 2127.49,444.828 2137.73,428.497 2147.97,411.972 2158.21,395.254 2168.45,378.342 2178.69,361.238 \n",
       "  2188.93,343.94 2199.17,326.448 2209.4,308.764 2219.64,290.886 2229.88,272.815 2240.12,254.551 2250.36,236.093 2260.6,217.442 2270.84,198.598 2281.08,179.561 \n",
       "  2291.32,160.33 \n",
       "  \"/>\n",
       "<polyline clip-path=\"url(#clip1402)\" style=\"stroke:#e26f46; stroke-width:4; stroke-opacity:1; fill:none\" points=\"\n",
       "  243.444,1448.82 253.684,1410.65 263.923,1373.43 274.162,1337.16 284.402,1301.83 294.641,1267.42 304.881,1233.94 315.12,1201.36 325.359,1169.68 335.599,1138.89 \n",
       "  345.838,1108.98 356.077,1079.94 366.317,1051.76 376.556,1024.43 386.796,997.939 397.035,972.28 407.274,947.443 417.514,923.417 427.753,900.194 437.992,877.763 \n",
       "  448.232,856.115 458.471,835.239 468.711,815.128 478.95,795.77 489.189,777.156 499.429,759.276 509.668,742.122 519.907,725.682 530.147,709.948 540.386,694.91 \n",
       "  550.626,680.558 560.865,666.882 571.104,653.873 581.344,641.521 591.583,629.817 601.823,618.75 612.062,608.312 622.301,598.492 632.541,589.281 642.78,580.669 \n",
       "  653.019,572.647 663.259,565.204 673.498,558.332 683.738,552.02 693.977,546.258 704.216,541.038 714.456,536.35 724.695,532.183 734.934,528.529 745.174,525.377 \n",
       "  755.413,522.718 765.653,520.542 775.892,518.839 786.131,517.601 796.371,516.816 806.61,516.477 816.849,516.572 827.089,517.092 837.328,518.028 847.568,519.369 \n",
       "  857.807,521.107 868.046,523.231 878.286,525.733 888.525,528.601 898.764,531.827 909.004,535.401 919.243,539.313 929.483,543.554 939.722,548.114 949.961,552.983 \n",
       "  960.201,558.151 970.44,563.61 980.679,569.348 990.919,575.357 1001.16,581.627 1011.4,588.149 1021.64,594.912 1031.88,601.907 1042.12,609.124 1052.36,616.554 \n",
       "  1062.59,624.186 1072.83,632.012 1083.07,640.022 1093.31,648.205 1103.55,656.553 1113.79,665.056 1124.03,673.703 1134.27,682.486 1144.51,691.394 1154.75,700.418 \n",
       "  1164.99,709.549 1175.23,718.776 1185.47,728.09 1195.71,737.482 1205.95,746.941 1216.19,756.458 1226.42,766.023 1236.66,775.627 1246.9,785.26 1257.14,794.913 \n",
       "  1267.38,804.575 1277.62,814.237 1287.86,823.889 1298.1,833.522 1308.34,843.127 1318.58,852.692 1328.82,862.209 1339.06,871.668 1349.3,881.06 1359.54,890.374 \n",
       "  1369.78,899.601 1380.02,908.732 1390.25,917.756 1400.49,926.664 1410.73,935.447 1420.97,944.094 1431.21,952.597 1441.45,960.944 1451.69,969.128 1461.93,977.138 \n",
       "  1472.17,984.964 1482.41,992.596 1492.65,1000.03 1502.89,1007.24 1513.13,1014.24 1523.37,1021 1533.61,1027.52 1543.85,1033.79 1554.08,1039.8 1564.32,1045.54 \n",
       "  1574.56,1051 1584.8,1056.17 1595.04,1061.04 1605.28,1065.6 1615.52,1069.84 1625.76,1073.75 1636,1077.32 1646.24,1080.55 1656.48,1083.42 1666.72,1085.92 \n",
       "  1676.96,1088.04 1687.2,1089.78 1697.44,1091.12 1707.68,1092.06 1717.91,1092.58 1728.15,1092.67 1738.39,1092.33 1748.63,1091.55 1758.87,1090.31 1769.11,1088.61 \n",
       "  1779.35,1086.43 1789.59,1083.77 1799.83,1080.62 1810.07,1076.97 1820.31,1072.8 1830.55,1068.11 1840.79,1062.89 1851.03,1057.13 1861.27,1050.82 1871.51,1043.95 \n",
       "  1881.74,1036.5 1891.98,1028.48 1902.22,1019.87 1912.46,1010.66 1922.7,1000.84 1932.94,990.399 1943.18,979.333 1953.42,967.629 1963.66,955.277 1973.9,942.268 \n",
       "  1984.14,928.592 1994.38,914.24 2004.62,899.202 2014.86,883.468 2025.1,867.028 2035.34,849.873 2045.57,831.994 2055.81,813.38 2066.05,794.022 2076.29,773.91 \n",
       "  2086.53,753.035 2096.77,731.387 2107.01,708.956 2117.25,685.733 2127.49,661.707 2137.73,636.87 2147.97,611.211 2158.21,584.721 2168.45,557.391 2178.69,529.21 \n",
       "  2188.93,500.169 2199.17,470.258 2209.4,439.468 2219.64,407.789 2229.88,375.211 2240.12,341.725 2250.36,307.321 2260.6,271.989 2270.84,235.719 2281.08,198.503 \n",
       "  2291.32,160.33 \n",
       "  \"/>\n",
       "<polyline clip-path=\"url(#clip1402)\" style=\"stroke:#3da44d; stroke-width:4; stroke-opacity:1; fill:none\" points=\"\n",
       "  243.444,160.33 253.684,223.316 263.923,283.47 274.162,340.86 284.402,395.549 294.641,447.605 304.881,497.092 315.12,544.073 325.359,588.612 335.599,630.771 \n",
       "  345.838,670.612 356.077,708.197 366.317,743.586 376.556,776.839 386.796,808.015 397.035,837.172 407.274,864.369 417.514,889.663 427.753,913.109 437.992,934.765 \n",
       "  448.232,954.684 458.471,972.922 468.711,989.532 478.95,1004.57 489.189,1018.08 499.429,1030.12 509.668,1040.75 519.907,1050 530.147,1057.94 540.386,1064.6 \n",
       "  550.626,1070.04 560.865,1074.31 571.104,1077.45 581.344,1079.52 591.583,1080.54 601.823,1080.58 612.062,1079.67 622.301,1077.85 632.541,1075.18 642.78,1071.69 \n",
       "  653.019,1067.43 663.259,1062.43 673.498,1056.73 683.738,1050.39 693.977,1043.42 704.216,1035.88 714.456,1027.8 724.695,1019.22 734.934,1010.16 745.174,1000.68 \n",
       "  755.413,990.802 765.653,980.56 775.892,969.989 786.131,959.122 796.371,947.991 806.61,936.628 816.849,925.062 827.089,913.325 837.328,901.446 847.568,889.453 \n",
       "  857.807,877.375 868.046,865.238 878.286,853.071 888.525,840.898 898.764,828.745 909.004,816.637 919.243,804.598 929.483,792.651 939.722,780.818 949.961,769.123 \n",
       "  960.201,757.585 970.44,746.227 980.679,735.067 990.919,724.124 1001.16,713.419 1011.4,702.968 1021.64,692.789 1031.88,682.898 1042.12,673.311 1052.36,664.043 \n",
       "  1062.59,655.11 1072.83,646.525 1083.07,638.3 1093.31,630.449 1103.55,622.983 1113.79,615.914 1124.03,609.252 1134.27,603.007 1144.51,597.188 1154.75,591.803 \n",
       "  1164.99,586.86 1175.23,582.367 1185.47,578.329 1195.71,574.753 1205.95,571.644 1216.19,569.005 1226.42,566.841 1236.66,565.155 1246.9,563.949 1257.14,563.225 \n",
       "  1267.38,562.983 1277.62,563.225 1287.86,563.949 1298.1,565.155 1308.34,566.841 1318.58,569.005 1328.82,571.644 1339.06,574.753 1349.3,578.329 1359.54,582.367 \n",
       "  1369.78,586.86 1380.02,591.803 1390.25,597.188 1400.49,603.007 1410.73,609.252 1420.97,615.914 1431.21,622.983 1441.45,630.449 1451.69,638.3 1461.93,646.525 \n",
       "  1472.17,655.11 1482.41,664.043 1492.65,673.311 1502.89,682.898 1513.13,692.789 1523.37,702.968 1533.61,713.419 1543.85,724.124 1554.08,735.067 1564.32,746.227 \n",
       "  1574.56,757.585 1584.8,769.123 1595.04,780.818 1605.28,792.651 1615.52,804.598 1625.76,816.637 1636,828.745 1646.24,840.898 1656.48,853.071 1666.72,865.238 \n",
       "  1676.96,877.375 1687.2,889.453 1697.44,901.446 1707.68,913.325 1717.91,925.062 1728.15,936.628 1738.39,947.991 1748.63,959.122 1758.87,969.989 1769.11,980.56 \n",
       "  1779.35,990.802 1789.59,1000.68 1799.83,1010.16 1810.07,1019.22 1820.31,1027.8 1830.55,1035.88 1840.79,1043.42 1851.03,1050.39 1861.27,1056.73 1871.51,1062.43 \n",
       "  1881.74,1067.43 1891.98,1071.69 1902.22,1075.18 1912.46,1077.85 1922.7,1079.67 1932.94,1080.58 1943.18,1080.54 1953.42,1079.52 1963.66,1077.45 1973.9,1074.31 \n",
       "  1984.14,1070.04 1994.38,1064.6 2004.62,1057.94 2014.86,1050 2025.1,1040.75 2035.34,1030.12 2045.57,1018.08 2055.81,1004.57 2066.05,989.532 2076.29,972.922 \n",
       "  2086.53,954.684 2096.77,934.765 2107.01,913.109 2117.25,889.663 2127.49,864.369 2137.73,837.172 2147.97,808.015 2158.21,776.839 2168.45,743.586 2178.69,708.197 \n",
       "  2188.93,670.612 2199.17,630.771 2209.4,588.612 2219.64,544.073 2229.88,497.092 2240.12,447.605 2250.36,395.549 2260.6,340.86 2270.84,283.47 2281.08,223.316 \n",
       "  2291.32,160.33 \n",
       "  \"/>\n",
       "<path clip-path=\"url(#clip1400)\" d=\"\n",
       "M1920.33 447.115 L2280.76 447.115 L2280.76 205.195 L1920.33 205.195  Z\n",
       "  \" fill=\"#ffffff\" fill-rule=\"evenodd\" fill-opacity=\"1\"/>\n",
       "<polyline clip-path=\"url(#clip1400)\" style=\"stroke:#000000; stroke-width:4; stroke-opacity:1; fill:none\" points=\"\n",
       "  1920.33,447.115 2280.76,447.115 2280.76,205.195 1920.33,205.195 1920.33,447.115 \n",
       "  \"/>\n",
       "<polyline clip-path=\"url(#clip1400)\" style=\"stroke:#009af9; stroke-width:4; stroke-opacity:1; fill:none\" points=\"\n",
       "  1944.33,265.675 2088.33,265.675 \n",
       "  \"/>\n",
       "<g clip-path=\"url(#clip1400)\">\n",
       "<text style=\"fill:#000000; fill-opacity:1; font-family:Arial,Helvetica Neue,Helvetica,sans-serif; font-size:48px; text-anchor:start;\" transform=\"rotate(0, 2112.33, 283.175)\" x=\"2112.33\" y=\"283.175\">2 deg</text>\n",
       "</g>\n",
       "<polyline clip-path=\"url(#clip1400)\" style=\"stroke:#e26f46; stroke-width:4; stroke-opacity:1; fill:none\" points=\"\n",
       "  1944.33,326.155 2088.33,326.155 \n",
       "  \"/>\n",
       "<g clip-path=\"url(#clip1400)\">\n",
       "<text style=\"fill:#000000; fill-opacity:1; font-family:Arial,Helvetica Neue,Helvetica,sans-serif; font-size:48px; text-anchor:start;\" transform=\"rotate(0, 2112.33, 343.655)\" x=\"2112.33\" y=\"343.655\">3 deg</text>\n",
       "</g>\n",
       "<polyline clip-path=\"url(#clip1400)\" style=\"stroke:#3da44d; stroke-width:4; stroke-opacity:1; fill:none\" points=\"\n",
       "  1944.33,386.635 2088.33,386.635 \n",
       "  \"/>\n",
       "<g clip-path=\"url(#clip1400)\">\n",
       "<text style=\"fill:#000000; fill-opacity:1; font-family:Arial,Helvetica Neue,Helvetica,sans-serif; font-size:48px; text-anchor:start;\" transform=\"rotate(0, 2112.33, 404.135)\" x=\"2112.33\" y=\"404.135\">4 deg</text>\n",
       "</g>\n",
       "</svg>\n"
      ]
     },
     "execution_count": 185,
     "metadata": {},
     "output_type": "execute_result"
    }
   ],
   "source": [
    "xs = -1:0.01:1\n",
    "ys(k) = [legend_poly(k)(x) for x in xs]\n",
    "\n",
    "plot(xs, ys(2), title=\"Wielomiany Legendre'a\", label=\"2 deg\")\n",
    "plot!(xs, ys(3), label=\"3 deg\")\n",
    "plot!(xs, ys(4), label=\"4 deg\")"
   ]
  },
  {
   "cell_type": "markdown",
   "metadata": {},
   "source": [
    "### Sprawdzenie czy zera wielomanów Legendre'a są odciętymi punktów Gaussa"
   ]
  },
  {
   "cell_type": "code",
   "execution_count": 186,
   "metadata": {},
   "outputs": [],
   "source": [
    "using QuadGK"
   ]
  },
  {
   "cell_type": "code",
   "execution_count": 187,
   "metadata": {},
   "outputs": [
    {
     "data": {
      "text/plain": [
       "test (generic function with 1 method)"
      ]
     },
     "execution_count": 187,
     "metadata": {},
     "output_type": "execute_result"
    }
   ],
   "source": [
    "function test(degree)\n",
    "    legend_roots = [round.(x, digits=12) for x in roots(legend_poly(degree))]\n",
    "    gauss_points = [round.(x, digits=12) for x in gauss(degree)[1]]\n",
    "    \n",
    "    println(\"legend: \", legend_roots)\n",
    "    println(\"gauss: \", gauss_points)\n",
    "    \n",
    "    if legend_roots == gauss_points\n",
    "        println(\"Zera wielomianów Legendre'a są odciętymi punktów Gaussa\")\n",
    "    else\n",
    "        println(\"Punkty jednak się różnią :(\")\n",
    "    end\n",
    "end"
   ]
  },
  {
   "cell_type": "code",
   "execution_count": 188,
   "metadata": {},
   "outputs": [
    {
     "name": "stdout",
     "output_type": "stream",
     "text": [
      "legend: [0.0]\n",
      "gauss: [0.0]\n",
      "Zera wielomianów Legendre'a są odciętymi punktów Gaussa\n"
     ]
    }
   ],
   "source": [
    "test(1)"
   ]
  },
  {
   "cell_type": "code",
   "execution_count": 189,
   "metadata": {},
   "outputs": [
    {
     "name": "stdout",
     "output_type": "stream",
     "text": [
      "legend: [-0.57735026919, 0.57735026919]\n",
      "gauss: [-0.57735026919, 0.57735026919]\n",
      "Zera wielomianów Legendre'a są odciętymi punktów Gaussa\n"
     ]
    }
   ],
   "source": [
    "test(2)"
   ]
  },
  {
   "cell_type": "code",
   "execution_count": 190,
   "metadata": {},
   "outputs": [
    {
     "name": "stdout",
     "output_type": "stream",
     "text": [
      "legend: [-0.774596669241, 0.774596669241, 0.0]\n",
      "gauss: [-0.774596669241, 0.0, 0.774596669241]\n",
      "Punkty jednak się różnią :(\n"
     ]
    }
   ],
   "source": [
    "test(3)"
   ]
  },
  {
   "cell_type": "code",
   "execution_count": 191,
   "metadata": {},
   "outputs": [
    {
     "name": "stdout",
     "output_type": "stream",
     "text": [
      "legend: [-0.861136311594, -0.339981043585, 0.339981043585, 0.861136311594]\n",
      "gauss: [-0.861136311594, -0.339981043585, 0.339981043585, 0.861136311594]\n",
      "Zera wielomianów Legendre'a są odciętymi punktów Gaussa\n"
     ]
    }
   ],
   "source": [
    "test(4)"
   ]
  },
  {
   "cell_type": "markdown",
   "metadata": {},
   "source": [
    "### Wniosek\n",
    "\n",
    "Miejsca zerowe oraz odcięte punktów Gaussa są takie same. Wynik trzeciego testu jest też pozytwny, bo metoda roots nie uszeregowała miejsca zerowe tak samo jak swój wynik funkcja gauss. Z podstawowego twierdzenia kwadratur Gaussa można wywnioskować, że miejsca zerowe wielomianu stopnia n są odciętymi n-punktowej kwadratury."
   ]
  },
  {
   "cell_type": "markdown",
   "metadata": {},
   "source": [
    "### Zadanie 2\n",
    "- Napisz funkcję, która dla podanej liczby punktów Gaussa $k$ oraz funkcji $f$  policzy $\\int_{-1}^{1} f dx$\n",
    "metodą używającą funkcji:\n",
    "```julia\n",
    "gauss(k)\n",
    "```\n",
    "oraz sumy \n",
    "```julia\n",
    "sum(a .* f.(xp)) \n",
    "```\n",
    "- przetestuj dla wielomianów coraz większych stopni\n",
    "- sprawdz kiedy przestaje być dokładna, \n",
    "- podaj związek z twierdzeniem o  stopniu dokładności kwadratury Gaussa "
   ]
  },
  {
   "cell_type": "code",
   "execution_count": 192,
   "metadata": {},
   "outputs": [],
   "source": [
    "using QuadGK"
   ]
  },
  {
   "cell_type": "code",
   "execution_count": 193,
   "metadata": {},
   "outputs": [
    {
     "data": {
      "text/plain": [
       "integrateGauss (generic function with 1 method)"
      ]
     },
     "execution_count": 193,
     "metadata": {},
     "output_type": "execute_result"
    }
   ],
   "source": [
    "function integrateGauss(k, f)\n",
    "    (x,w)=gauss(k)\n",
    "    return sum(w .* f.(x))\n",
    "end"
   ]
  },
  {
   "cell_type": "code",
   "execution_count": 194,
   "metadata": {},
   "outputs": [
    {
     "name": "stdout",
     "output_type": "stream",
     "text": [
      "Na 5-tym stopniu przestaje być dokładna\n"
     ]
    }
   ],
   "source": [
    "for n in 2:100\n",
    "    f(x) = x^n\n",
    "    actual = integrateGauss(n, f)\n",
    "    (i, e) = quadgk(f, -1, 1, order=n)\n",
    "    if actual > i + e || actual < i - e\n",
    "        println(\"Na \", n, \"-tym stopniu przestaje być dokładna\")\n",
    "        break\n",
    "    end\n",
    "end"
   ]
  },
  {
   "cell_type": "markdown",
   "metadata": {},
   "source": [
    "### Wniosek\n",
    "\n",
    "Zgodnie z twierdzeniem o dokładności stopnia wielomianu kwadratury Gaussa, jest ona dokładna dla stopnia wielomianu co najwyżej 2k-1"
   ]
  },
  {
   "cell_type": "markdown",
   "metadata": {},
   "source": [
    "### Zadanie 3\n",
    " \n",
    "Skorzystaj z rozwiązania zadania 2 do napisania funkcji \n",
    "liczącej  całki w dowolnym przedziale $\\int_{a}^{b} f(x) dx$ \n",
    "\n",
    "dokonując normalizacji  do $\\int_{-1}^{1} F(z) dz$ \n",
    "\n",
    "podstawiając:\n",
    "\n",
    "$x=\\frac{b+a}{2}+ \\frac{b-a}{2} z $ oraz \n",
    "\n",
    "$dx =\\frac{b-a}{2} dz $\n",
    "\n",
    "Przetestuj działanie na kilku przykładach i sprawdź z wynikami otrzymanymi analitycznie.\n"
   ]
  },
  {
   "cell_type": "code",
   "execution_count": 195,
   "metadata": {},
   "outputs": [
    {
     "data": {
      "text/plain": [
       "integrateOver (generic function with 1 method)"
      ]
     },
     "execution_count": 195,
     "metadata": {},
     "output_type": "execute_result"
    }
   ],
   "source": [
    "function integrateOver(f, a, b)\n",
    "    (x, w) = gauss(7)\n",
    "    return round((b-a)/2 * sum(w .* f.((b-a)/2 .* x .+ (b+a)/2)), digits=12)\n",
    "end"
   ]
  },
  {
   "cell_type": "code",
   "execution_count": 196,
   "metadata": {},
   "outputs": [
    {
     "data": {
      "text/plain": [
       "5.333333333333"
      ]
     },
     "execution_count": 196,
     "metadata": {},
     "output_type": "execute_result"
    }
   ],
   "source": [
    "f(x) = x^2\n",
    "integrateOver(f, -2, 2)"
   ]
  },
  {
   "cell_type": "code",
   "execution_count": 197,
   "metadata": {},
   "outputs": [
    {
     "data": {
      "text/plain": [
       "2833.333333333334"
      ]
     },
     "execution_count": 197,
     "metadata": {},
     "output_type": "execute_result"
    }
   ],
   "source": [
    "integrateOver(x->x^2+x^3, 0, 10)"
   ]
  },
  {
   "cell_type": "markdown",
   "metadata": {},
   "source": [
    "Analitycznie otrzymujemy: 2833.333333333333"
   ]
  },
  {
   "cell_type": "code",
   "execution_count": 198,
   "metadata": {},
   "outputs": [
    {
     "data": {
      "text/plain": [
       "-0.091051046"
      ]
     },
     "execution_count": 198,
     "metadata": {},
     "output_type": "execute_result"
    }
   ],
   "source": [
    "integrateOver(cos, -2, 11)"
   ]
  },
  {
   "cell_type": "markdown",
   "metadata": {},
   "source": [
    "Analitycznie otrzymujemy: −0.09069277972502176 "
   ]
  },
  {
   "cell_type": "markdown",
   "metadata": {},
   "source": [
    "### Zadanie 4\n",
    "Głowną funkcją pakietu QuadGK jest adaptacyjna funkcja <a href=\"https://juliamath.github.io/QuadGK.jl/stable/#QuadGK.quadgk\"> guadgk</a> używająca całkowania  Gauss-Kronroda\n",
    "\n",
    "- użyj tej funkcji do policzenia  całki dla przykładowego wielomianu.\n",
    "- funkcja ta ma możliwość liczenia również całek do nieskończoności.\n",
    "\n",
    "\n",
    " Policz całkę od minus do plus nieskonczonosci \n",
    " standardowego rozkładu normalnego Gaussa\n",
    "$ \\frac{1}{\\sqrt{2\\pi}}exp(\\frac{-x^2}{2})$"
   ]
  },
  {
   "cell_type": "markdown",
   "metadata": {},
   "source": [
    "Przykładowo już użyłem tej funkcji we wcześniejszych zadaniach."
   ]
  },
  {
   "cell_type": "markdown",
   "metadata": {},
   "source": [
    "#### Liczenie podanej całki"
   ]
  },
  {
   "cell_type": "code",
   "execution_count": 199,
   "metadata": {},
   "outputs": [],
   "source": [
    "using QuadGK"
   ]
  },
  {
   "cell_type": "code",
   "execution_count": 200,
   "metadata": {},
   "outputs": [
    {
     "name": "stdout",
     "output_type": "stream",
     "text": [
      "Całka z funkcji jest równa: 1.0000000000032583\n",
      "Możliwy błąd: 1.4395584941504537e-8\n"
     ]
    }
   ],
   "source": [
    "f(x) = 1 / sqrt(2pi) * exp(-x^2 / 2)\n",
    "(I, E) = quadgk(f, -Inf, Inf)\n",
    "println(\"Całka z funkcji jest równa: \",I, \"\\nMożliwy błąd: \", E)"
   ]
  }
 ],
 "metadata": {
  "kernelspec": {
   "display_name": "Julia 1.4.0",
   "language": "julia",
   "name": "julia-1.4"
  },
  "language_info": {
   "file_extension": ".jl",
   "mimetype": "application/julia",
   "name": "julia",
   "version": "1.4.0"
  }
 },
 "nbformat": 4,
 "nbformat_minor": 2
}
